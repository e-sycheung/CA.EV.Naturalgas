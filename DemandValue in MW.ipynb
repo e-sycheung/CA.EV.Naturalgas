{
 "cells": [
  {
   "cell_type": "code",
   "execution_count": null,
   "id": "db789b26",
   "metadata": {},
   "outputs": [],
   "source": [
    "import pandas as pd\n",
    "import numpy as nb"
   ]
  },
  {
   "cell_type": "code",
   "execution_count": null,
   "id": "25876f33",
   "metadata": {},
   "outputs": [],
   "source": [
    "#Create Filepath and read csv\n",
    "filepath = r\"C:/Users/Elissa/Desktop/CAISO-ALL-SUPPLY-DATA.csv\""
   ]
  },
  {
   "cell_type": "code",
   "execution_count": 6,
   "id": "25fad1d4",
   "metadata": {},
   "outputs": [
    {
     "name": "stdout",
     "output_type": "stream",
     "text": [
      "   Renewables  Natural gas  Large hydro  Imports  Batteries  Nuclear  Coal  \\\n",
      "0      2005.0       8736.0       3428.0   7108.0       -8.0   1616.0  -6.0   \n",
      "1      2005.0       8722.0       3425.0   7029.0        1.0   1618.0  -6.0   \n",
      "2      2048.0       8739.0       3464.0   6873.0        6.0   1619.0  -6.0   \n",
      "3      1979.0       8696.0       3470.0   6744.0      -14.0   1619.0  -6.0   \n",
      "4      1980.0       8605.0       3454.0   6757.0      -38.0   1616.0  -6.0   \n",
      "\n",
      "   Other       Date      Time             DateTime  Unix Timestamp  \n",
      "0    0.0  4/10/2018  00:00:00  2018-04-10 00:00:00    1.523318e+09  \n",
      "1    0.0  4/10/2018  00:05:00  2018-04-10 00:05:00    1.523319e+09  \n",
      "2    0.0  4/10/2018  00:10:00  2018-04-10 00:10:00    1.523319e+09  \n",
      "3    0.0  4/10/2018  00:15:00  2018-04-10 00:15:00    1.523319e+09  \n",
      "4    0.0  4/10/2018  00:20:00  2018-04-10 00:20:00    1.523320e+09  \n",
      "Int64Index([76408], dtype='int64')\n",
      "Int64Index([181416], dtype='int64')\n",
      "Int64Index([285661], dtype='int64')\n"
     ]
    }
   ],
   "source": [
    "#Read the csv file \n",
    "supply_df = pd.read_csv(filepath)\n",
    "print(supply_df.head())\n",
    "\n",
    "x = supply_df.loc[(supply_df['Date'] == '12/31/2018') & (supply_df['Time'] == '23:55:00')]\n",
    "print(x.index)\n",
    "\n",
    "y = supply_df.loc[(supply_df['Date'] == '12/31/2019') & (supply_df['Time'] == '23:55:00')]\n",
    "print(y.index)\n",
    "\n",
    "z = supply_df.loc[(supply_df['Date'] == '12/31/2020') & (supply_df['Time'] == '23:55:00')]\n",
    "print(z.index)"
   ]
  },
  {
   "cell_type": "code",
   "execution_count": 8,
   "id": "b83fb8c7",
   "metadata": {},
   "outputs": [
    {
     "name": "stdout",
     "output_type": "stream",
     "text": [
      "   Renewables  Natural gas  Large hydro  Imports  Batteries  Nuclear  Coal  \\\n",
      "0      2005.0       8736.0       3428.0   7108.0       -8.0   1616.0  -6.0   \n",
      "1      2005.0       8722.0       3425.0   7029.0        1.0   1618.0  -6.0   \n",
      "2      2048.0       8739.0       3464.0   6873.0        6.0   1619.0  -6.0   \n",
      "3      1979.0       8696.0       3470.0   6744.0      -14.0   1619.0  -6.0   \n",
      "4      1980.0       8605.0       3454.0   6757.0      -38.0   1616.0  -6.0   \n",
      "\n",
      "   Other       Date      Time             DateTime  Unix Timestamp  DemandMW  \n",
      "0    0.0  4/10/2018  00:00:00  2018-04-10 00:00:00    1.523318e+09     14.24  \n",
      "1    0.0  4/10/2018  00:05:00  2018-04-10 00:05:00    1.523319e+09     14.24  \n",
      "2    0.0  4/10/2018  00:10:00  2018-04-10 00:10:00    1.523319e+09     14.24  \n",
      "3    0.0  4/10/2018  00:15:00  2018-04-10 00:15:00    1.523319e+09     14.24  \n",
      "4    0.0  4/10/2018  00:20:00  2018-04-10 00:20:00    1.523320e+09     14.24  \n"
     ]
    }
   ],
   "source": [
    "supply_df.loc[0:76408,('DemandMW')]=14.24 \n",
    "supply_df.loc[76409:181416,('DemandMW')]=18.92\n",
    "supply_df.loc[181417:285661,('DemandMW')]=22.65\n",
    "\n",
    "print(supply_df.head())"
   ]
  }
 ],
 "metadata": {
  "kernelspec": {
   "display_name": "Python 3",
   "language": "python",
   "name": "python3"
  },
  "language_info": {
   "codemirror_mode": {
    "name": "ipython",
    "version": 3
   },
   "file_extension": ".py",
   "mimetype": "text/x-python",
   "name": "python",
   "nbconvert_exporter": "python",
   "pygments_lexer": "ipython3",
   "version": "3.7.10"
  }
 },
 "nbformat": 4,
 "nbformat_minor": 5
}
