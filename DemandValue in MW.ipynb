{
 "cells": [
  {
   "cell_type": "code",
   "execution_count": 130,
   "id": "db789b26",
   "metadata": {},
   "outputs": [],
   "source": [
    "import pandas as pd\n",
    "import numpy as nb\n",
    "import datetime "
   ]
  },
  {
   "cell_type": "code",
   "execution_count": 131,
   "id": "25876f33",
   "metadata": {},
   "outputs": [],
   "source": [
    "#Create Filepath and read csv\n",
    "filepath = r\"C:/Users/Elissa/Desktop/CAISO-ALL-SUPPLY-DATA1.csv\""
   ]
  },
  {
   "cell_type": "code",
   "execution_count": 132,
   "id": "25fad1d4",
   "metadata": {},
   "outputs": [
    {
     "name": "stdout",
     "output_type": "stream",
     "text": [
      "   Renewables  Natural gas  Large hydro  Imports  Batteries  Nuclear  Coal  \\\n",
      "0      2005.0       8736.0       3428.0   7108.0       -8.0   1616.0  -6.0   \n",
      "1      2005.0       8722.0       3425.0   7029.0        1.0   1618.0  -6.0   \n",
      "2      2048.0       8739.0       3464.0   6873.0        6.0   1619.0  -6.0   \n",
      "3      1979.0       8696.0       3470.0   6744.0      -14.0   1619.0  -6.0   \n",
      "4      1980.0       8605.0       3454.0   6757.0      -38.0   1616.0  -6.0   \n",
      "\n",
      "   Other       Date     Time        DateTime  Unix Timestamp  \n",
      "0    0.0  4/10/2018  0:00:00  4/10/2018 0:00      1523318400  \n",
      "1    0.0  4/10/2018  0:05:00  4/10/2018 0:05      1523318700  \n",
      "2    0.0  4/10/2018  0:10:00  4/10/2018 0:10      1523319000  \n",
      "3    0.0  4/10/2018  0:15:00  4/10/2018 0:15      1523319300  \n",
      "4    0.0  4/10/2018  0:20:00  4/10/2018 0:20      1523319600  \n",
      "Int64Index([76408], dtype='int64')\n",
      "Int64Index([181416], dtype='int64')\n",
      "Int64Index([285661], dtype='int64')\n"
     ]
    }
   ],
   "source": [
    "#Read the csv file \n",
    "supply_df = pd.read_csv(filepath)\n",
    "print(supply_df.head())\n",
    "\n",
    "x = supply_df.loc[(supply_df['Date'] == '12/31/2018') & (supply_df['Time'] == '23:55:00')]\n",
    "print(x.index)\n",
    "\n",
    "y = supply_df.loc[(supply_df['Date'] == '12/31/2019') & (supply_df['Time'] == '23:55:00')]\n",
    "print(y.index)\n",
    "\n",
    "z = supply_df.loc[(supply_df['Date'] == '12/31/2020') & (supply_df['Time'] == '23:55:00')]\n",
    "print(z.index)"
   ]
  },
  {
   "cell_type": "code",
   "execution_count": 133,
   "id": "ae2c1de4",
   "metadata": {},
   "outputs": [
    {
     "name": "stdout",
     "output_type": "stream",
     "text": [
      "         0   1   2\n",
      "0        0  00  00\n",
      "1        0  05  00\n",
      "2        0  10  00\n",
      "3        0  15  00\n",
      "4        0  20  00\n",
      "...     ..  ..  ..\n",
      "412951  23  35  00\n",
      "412952  23  40  00\n",
      "412953  23  45  00\n",
      "412954  23  50  00\n",
      "412955  23  55  00\n",
      "\n",
      "[412956 rows x 3 columns]\n"
     ]
    },
    {
     "data": {
      "text/html": [
       "<div>\n",
       "<style scoped>\n",
       "    .dataframe tbody tr th:only-of-type {\n",
       "        vertical-align: middle;\n",
       "    }\n",
       "\n",
       "    .dataframe tbody tr th {\n",
       "        vertical-align: top;\n",
       "    }\n",
       "\n",
       "    .dataframe thead th {\n",
       "        text-align: right;\n",
       "    }\n",
       "</style>\n",
       "<table border=\"1\" class=\"dataframe\">\n",
       "  <thead>\n",
       "    <tr style=\"text-align: right;\">\n",
       "      <th></th>\n",
       "      <th>Hours</th>\n",
       "      <th>Minutes</th>\n",
       "      <th>Year</th>\n",
       "    </tr>\n",
       "  </thead>\n",
       "  <tbody>\n",
       "    <tr>\n",
       "      <th>0</th>\n",
       "      <td>0</td>\n",
       "      <td>00</td>\n",
       "      <td>2018</td>\n",
       "    </tr>\n",
       "    <tr>\n",
       "      <th>1</th>\n",
       "      <td>0</td>\n",
       "      <td>05</td>\n",
       "      <td>2018</td>\n",
       "    </tr>\n",
       "    <tr>\n",
       "      <th>2</th>\n",
       "      <td>0</td>\n",
       "      <td>10</td>\n",
       "      <td>2018</td>\n",
       "    </tr>\n",
       "    <tr>\n",
       "      <th>3</th>\n",
       "      <td>0</td>\n",
       "      <td>15</td>\n",
       "      <td>2018</td>\n",
       "    </tr>\n",
       "    <tr>\n",
       "      <th>4</th>\n",
       "      <td>0</td>\n",
       "      <td>20</td>\n",
       "      <td>2018</td>\n",
       "    </tr>\n",
       "  </tbody>\n",
       "</table>\n",
       "</div>"
      ],
      "text/plain": [
       "  Hours Minutes  Year\n",
       "0     0      00  2018\n",
       "1     0      05  2018\n",
       "2     0      10  2018\n",
       "3     0      15  2018\n",
       "4     0      20  2018"
      ]
     },
     "execution_count": 133,
     "metadata": {},
     "output_type": "execute_result"
    }
   ],
   "source": [
    "supply_df= supply_df.drop([\"DateTime\"],1)\n",
    "\n",
    "supply_df['Date'] = pd.to_datetime(supply_df['Date'])\n",
    "#def fun(datetimething):\n",
    "     #return datetimething.timetuple().tm_yday\n",
    "#supply_df['Date'] = supply_df['Date'].apply(fun)\n",
    "#supply_df.head(1300)\n",
    "\n",
    "baby_df = supply_df['Time'].str.split(\":\", expand=True)\n",
    "print(baby_df)\n",
    "\n",
    "baby_df = baby_df.rename(columns={baby_df.columns[0]: 'Hours'})\n",
    "baby_df = baby_df.rename(columns={baby_df.columns[1]: 'Minutes'})\n",
    "baby_df['Year'] = supply_df['Date'].dt.year\n",
    "baby_df= baby_df.drop([2],1)\n",
    "\n",
    "baby_df.head()"
   ]
  },
  {
   "cell_type": "code",
   "execution_count": 139,
   "id": "bf590df6",
   "metadata": {},
   "outputs": [
    {
     "ename": "IndentationError",
     "evalue": "unexpected indent (<ipython-input-139-ce313935f8d4>, line 9)",
     "output_type": "error",
     "traceback": [
      "\u001b[1;36m  File \u001b[1;32m\"<ipython-input-139-ce313935f8d4>\"\u001b[1;36m, line \u001b[1;32m9\u001b[0m\n\u001b[1;33m    xy = 8.2818\u001b[0m\n\u001b[1;37m    ^\u001b[0m\n\u001b[1;31mIndentationError\u001b[0m\u001b[1;31m:\u001b[0m unexpected indent\n"
     ]
    }
   ],
   "source": [
    "\n",
    "baby_df['DemandMW'] = []\n",
    "\n",
    "\n",
    "\n",
    "for xy in baby_df['DemandMW']:\n",
    "    if (baby_df['Year'] == 2018) & ((baby_df['Hours']<=6) & (baby_df['Hours']>=22)):\n",
    "        xy = 6.2356    \n",
    "    elseif (baby_df['Year'] == 2019) & ((baby_df['Hours']<=6) & (baby_df['Hours']>=22)),\n",
    "        xy = 8.2818\n",
    "    elseif (baby_df['Year'] == 2018) & ((baby_df['Hours']<=6) & (baby_df['Hours']>=22)),\n",
    "        xy = 9.9174\n",
    "    else:\n",
    "        xy = 0\n",
    "\n",
    "\n"
   ]
  },
  {
   "cell_type": "code",
   "execution_count": null,
   "id": "4512e353",
   "metadata": {},
   "outputs": [],
   "source": [
    "supply_df"
   ]
  },
  {
   "cell_type": "code",
   "execution_count": null,
   "id": "352f54eb",
   "metadata": {},
   "outputs": [],
   "source": [
    "df['<= 53'] = df['mynumbers'].apply(lambda x: 'True' if x <= 53 else 'False')\n",
    " \n",
    "print (df)"
   ]
  },
  {
   "cell_type": "code",
   "execution_count": null,
   "id": "b83fb8c7",
   "metadata": {},
   "outputs": [],
   "source": [
    "#supply_df.loc[0:76408,('DemandMW')]=14.24 \n",
    "#supply_df.loc[76409:181416,('DemandMW')]=18.92\n",
    "#supply_df.loc[181417:285661,('DemandMW')]=22.65\n",
    "\n",
    "#print(supply_df.head())"
   ]
  }
 ],
 "metadata": {
  "kernelspec": {
   "display_name": "Python 3",
   "language": "python",
   "name": "python3"
  },
  "language_info": {
   "codemirror_mode": {
    "name": "ipython",
    "version": 3
   },
   "file_extension": ".py",
   "mimetype": "text/x-python",
   "name": "python",
   "nbconvert_exporter": "python",
   "pygments_lexer": "ipython3",
   "version": "3.8.8"
  }
 },
 "nbformat": 4,
 "nbformat_minor": 5
}
