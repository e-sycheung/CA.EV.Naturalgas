{
 "cells": [
  {
   "cell_type": "code",
   "execution_count": 680,
   "metadata": {},
   "outputs": [
    {
     "data": {
      "text/html": [
       "<div>\n",
       "<style scoped>\n",
       "    .dataframe tbody tr th:only-of-type {\n",
       "        vertical-align: middle;\n",
       "    }\n",
       "\n",
       "    .dataframe tbody tr th {\n",
       "        vertical-align: top;\n",
       "    }\n",
       "\n",
       "    .dataframe thead th {\n",
       "        text-align: right;\n",
       "    }\n",
       "</style>\n",
       "<table border=\"1\" class=\"dataframe\">\n",
       "  <thead>\n",
       "    <tr style=\"text-align: right;\">\n",
       "      <th></th>\n",
       "      <th>Renewables</th>\n",
       "      <th>Natural gas</th>\n",
       "      <th>Large hydro</th>\n",
       "      <th>Imports</th>\n",
       "      <th>Batteries</th>\n",
       "      <th>Nuclear</th>\n",
       "      <th>Coal</th>\n",
       "      <th>Other</th>\n",
       "      <th>Date</th>\n",
       "      <th>Time</th>\n",
       "      <th>DateTime</th>\n",
       "      <th>Unix Timestamp</th>\n",
       "    </tr>\n",
       "  </thead>\n",
       "  <tbody>\n",
       "    <tr>\n",
       "      <th>0</th>\n",
       "      <td>2005.0</td>\n",
       "      <td>8736.0</td>\n",
       "      <td>3428.0</td>\n",
       "      <td>7108.0</td>\n",
       "      <td>-8.0</td>\n",
       "      <td>1616.0</td>\n",
       "      <td>-6.0</td>\n",
       "      <td>0.0</td>\n",
       "      <td>4/10/2018</td>\n",
       "      <td>0:00:00</td>\n",
       "      <td>2018-04-10 00:00:00</td>\n",
       "      <td>1.523318e+09</td>\n",
       "    </tr>\n",
       "    <tr>\n",
       "      <th>1</th>\n",
       "      <td>2005.0</td>\n",
       "      <td>8722.0</td>\n",
       "      <td>3425.0</td>\n",
       "      <td>7029.0</td>\n",
       "      <td>1.0</td>\n",
       "      <td>1618.0</td>\n",
       "      <td>-6.0</td>\n",
       "      <td>0.0</td>\n",
       "      <td>4/10/2018</td>\n",
       "      <td>0:05:00</td>\n",
       "      <td>2018-04-10 00:05:00</td>\n",
       "      <td>1.523319e+09</td>\n",
       "    </tr>\n",
       "    <tr>\n",
       "      <th>2</th>\n",
       "      <td>2048.0</td>\n",
       "      <td>8739.0</td>\n",
       "      <td>3464.0</td>\n",
       "      <td>6873.0</td>\n",
       "      <td>6.0</td>\n",
       "      <td>1619.0</td>\n",
       "      <td>-6.0</td>\n",
       "      <td>0.0</td>\n",
       "      <td>4/10/2018</td>\n",
       "      <td>0:10:00</td>\n",
       "      <td>2018-04-10 00:10:00</td>\n",
       "      <td>1.523319e+09</td>\n",
       "    </tr>\n",
       "    <tr>\n",
       "      <th>3</th>\n",
       "      <td>1979.0</td>\n",
       "      <td>8696.0</td>\n",
       "      <td>3470.0</td>\n",
       "      <td>6744.0</td>\n",
       "      <td>-14.0</td>\n",
       "      <td>1619.0</td>\n",
       "      <td>-6.0</td>\n",
       "      <td>0.0</td>\n",
       "      <td>4/10/2018</td>\n",
       "      <td>0:15:00</td>\n",
       "      <td>2018-04-10 00:15:00</td>\n",
       "      <td>1.523319e+09</td>\n",
       "    </tr>\n",
       "    <tr>\n",
       "      <th>4</th>\n",
       "      <td>1980.0</td>\n",
       "      <td>8605.0</td>\n",
       "      <td>3454.0</td>\n",
       "      <td>6757.0</td>\n",
       "      <td>-38.0</td>\n",
       "      <td>1616.0</td>\n",
       "      <td>-6.0</td>\n",
       "      <td>0.0</td>\n",
       "      <td>4/10/2018</td>\n",
       "      <td>0:20:00</td>\n",
       "      <td>2018-04-10 00:20:00</td>\n",
       "      <td>1.523320e+09</td>\n",
       "    </tr>\n",
       "  </tbody>\n",
       "</table>\n",
       "</div>"
      ],
      "text/plain": [
       "   Renewables  Natural gas  Large hydro  Imports  Batteries  Nuclear  Coal  \\\n",
       "0      2005.0       8736.0       3428.0   7108.0       -8.0   1616.0  -6.0   \n",
       "1      2005.0       8722.0       3425.0   7029.0        1.0   1618.0  -6.0   \n",
       "2      2048.0       8739.0       3464.0   6873.0        6.0   1619.0  -6.0   \n",
       "3      1979.0       8696.0       3470.0   6744.0      -14.0   1619.0  -6.0   \n",
       "4      1980.0       8605.0       3454.0   6757.0      -38.0   1616.0  -6.0   \n",
       "\n",
       "   Other       Date     Time             DateTime  Unix Timestamp  \n",
       "0    0.0  4/10/2018  0:00:00  2018-04-10 00:00:00    1.523318e+09  \n",
       "1    0.0  4/10/2018  0:05:00  2018-04-10 00:05:00    1.523319e+09  \n",
       "2    0.0  4/10/2018  0:10:00  2018-04-10 00:10:00    1.523319e+09  \n",
       "3    0.0  4/10/2018  0:15:00  2018-04-10 00:15:00    1.523319e+09  \n",
       "4    0.0  4/10/2018  0:20:00  2018-04-10 00:20:00    1.523320e+09  "
      ]
     },
     "execution_count": 680,
     "metadata": {},
     "output_type": "execute_result"
    }
   ],
   "source": [
    "# Initial imports\n",
    "# Import our dependencies\n",
    "from sklearn.model_selection import train_test_split\n",
    "from sklearn.preprocessing import StandardScaler\n",
    "from sklearn.linear_model import LogisticRegression\n",
    "from sklearn.metrics import accuracy_score\n",
    "import pandas as pd\n",
    "from datetime import datetime\n",
    "import numpy as np\n",
    "#import tensorflow as tf\n",
    "\n",
    "#  Import and read the file.\n",
    "supply_df = pd.read_csv(\"C:/Users/Elissa/UCB/dataVizfinal/SupplyData/CAISO-ALL-SUPPLY-DATA2.csv\")\n",
    "supply_df.head()\n"
   ]
  },
  {
   "cell_type": "code",
   "execution_count": 681,
   "metadata": {},
   "outputs": [],
   "source": [
    "supply_df['Sum'] = supply_df['Renewables'] + supply_df['Large hydro'] + supply_df['Imports'] + supply_df['Batteries'] + supply_df['Nuclear'] + supply_df['Coal'] + supply_df['Other'] + supply_df['Natural gas']\n"
   ]
  },
  {
   "cell_type": "code",
   "execution_count": 682,
   "metadata": {},
   "outputs": [
    {
     "data": {
      "text/plain": [
       "Renewables        float64\n",
       "Natural gas       float64\n",
       "Large hydro       float64\n",
       "Imports           float64\n",
       "Batteries         float64\n",
       "Nuclear           float64\n",
       "Coal              float64\n",
       "Other             float64\n",
       "Date               object\n",
       "Time               object\n",
       "DateTime           object\n",
       "Unix Timestamp    float64\n",
       "Sum               float64\n",
       "dtype: object"
      ]
     },
     "execution_count": 682,
     "metadata": {},
     "output_type": "execute_result"
    }
   ],
   "source": [
    "supply_df.dtypes"
   ]
  },
  {
   "cell_type": "code",
   "execution_count": 683,
   "metadata": {},
   "outputs": [
    {
     "name": "stdout",
     "output_type": "stream",
     "text": [
      "         0   1   2\n",
      "0        0  00  00\n",
      "1        0  05  00\n",
      "2        0  10  00\n",
      "3        0  15  00\n",
      "4        0  20  00\n",
      "...     ..  ..  ..\n",
      "284793  23  35  00\n",
      "284794  23  40  00\n",
      "284795  23  45  00\n",
      "284796  23  50  00\n",
      "284797  23  55  00\n",
      "\n",
      "[284798 rows x 3 columns]\n"
     ]
    }
   ],
   "source": [
    "baby_df = supply_df['Time'].str.split(\":\", expand=True)\n",
    "print(baby_df)"
   ]
  },
  {
   "cell_type": "code",
   "execution_count": 684,
   "metadata": {},
   "outputs": [],
   "source": [
    "baby_df[0] = baby_df[0].astype(int)\n",
    "baby_df[1] = baby_df[1].astype(int)"
   ]
  },
  {
   "cell_type": "code",
   "execution_count": 685,
   "metadata": {},
   "outputs": [],
   "source": [
    "baby_df= baby_df.drop([2],1)"
   ]
  },
  {
   "cell_type": "code",
   "execution_count": 686,
   "metadata": {},
   "outputs": [
    {
     "data": {
      "text/plain": [
       "0    int32\n",
       "1    int32\n",
       "dtype: object"
      ]
     },
     "execution_count": 686,
     "metadata": {},
     "output_type": "execute_result"
    }
   ],
   "source": [
    "baby_df.dtypes"
   ]
  },
  {
   "cell_type": "code",
   "execution_count": 687,
   "metadata": {},
   "outputs": [],
   "source": [
    "# Rename columns and create years value for calculating demand_EV\n",
    "baby_df = baby_df.rename(columns={baby_df.columns[0]: 'Hours'})\n",
    "baby_df = baby_df.rename(columns={baby_df.columns[1]: 'Minutes'})"
   ]
  },
  {
   "cell_type": "code",
   "execution_count": 688,
   "metadata": {},
   "outputs": [
    {
     "data": {
      "text/html": [
       "<div>\n",
       "<style scoped>\n",
       "    .dataframe tbody tr th:only-of-type {\n",
       "        vertical-align: middle;\n",
       "    }\n",
       "\n",
       "    .dataframe tbody tr th {\n",
       "        vertical-align: top;\n",
       "    }\n",
       "\n",
       "    .dataframe thead th {\n",
       "        text-align: right;\n",
       "    }\n",
       "</style>\n",
       "<table border=\"1\" class=\"dataframe\">\n",
       "  <thead>\n",
       "    <tr style=\"text-align: right;\">\n",
       "      <th></th>\n",
       "      <th>Hours</th>\n",
       "      <th>Minutes</th>\n",
       "      <th>Year</th>\n",
       "    </tr>\n",
       "  </thead>\n",
       "  <tbody>\n",
       "    <tr>\n",
       "      <th>0</th>\n",
       "      <td>0</td>\n",
       "      <td>0</td>\n",
       "      <td>2018</td>\n",
       "    </tr>\n",
       "    <tr>\n",
       "      <th>1</th>\n",
       "      <td>0</td>\n",
       "      <td>5</td>\n",
       "      <td>2018</td>\n",
       "    </tr>\n",
       "    <tr>\n",
       "      <th>2</th>\n",
       "      <td>0</td>\n",
       "      <td>10</td>\n",
       "      <td>2018</td>\n",
       "    </tr>\n",
       "    <tr>\n",
       "      <th>3</th>\n",
       "      <td>0</td>\n",
       "      <td>15</td>\n",
       "      <td>2018</td>\n",
       "    </tr>\n",
       "    <tr>\n",
       "      <th>4</th>\n",
       "      <td>0</td>\n",
       "      <td>20</td>\n",
       "      <td>2018</td>\n",
       "    </tr>\n",
       "    <tr>\n",
       "      <th>...</th>\n",
       "      <td>...</td>\n",
       "      <td>...</td>\n",
       "      <td>...</td>\n",
       "    </tr>\n",
       "    <tr>\n",
       "      <th>95</th>\n",
       "      <td>7</td>\n",
       "      <td>55</td>\n",
       "      <td>2018</td>\n",
       "    </tr>\n",
       "    <tr>\n",
       "      <th>96</th>\n",
       "      <td>8</td>\n",
       "      <td>0</td>\n",
       "      <td>2018</td>\n",
       "    </tr>\n",
       "    <tr>\n",
       "      <th>97</th>\n",
       "      <td>8</td>\n",
       "      <td>5</td>\n",
       "      <td>2018</td>\n",
       "    </tr>\n",
       "    <tr>\n",
       "      <th>98</th>\n",
       "      <td>8</td>\n",
       "      <td>10</td>\n",
       "      <td>2018</td>\n",
       "    </tr>\n",
       "    <tr>\n",
       "      <th>99</th>\n",
       "      <td>8</td>\n",
       "      <td>15</td>\n",
       "      <td>2018</td>\n",
       "    </tr>\n",
       "  </tbody>\n",
       "</table>\n",
       "<p>100 rows × 3 columns</p>\n",
       "</div>"
      ],
      "text/plain": [
       "    Hours  Minutes  Year\n",
       "0       0        0  2018\n",
       "1       0        5  2018\n",
       "2       0       10  2018\n",
       "3       0       15  2018\n",
       "4       0       20  2018\n",
       "..    ...      ...   ...\n",
       "95      7       55  2018\n",
       "96      8        0  2018\n",
       "97      8        5  2018\n",
       "98      8       10  2018\n",
       "99      8       15  2018\n",
       "\n",
       "[100 rows x 3 columns]"
      ]
     },
     "execution_count": 688,
     "metadata": {},
     "output_type": "execute_result"
    }
   ],
   "source": [
    "supply_df['Date'] = pd.to_datetime(supply_df['Date'])\n",
    "\n",
    "#Create a new column for'Year'\n",
    "baby_df['Year'] = supply_df['Date'].dt.year\n",
    "#Convert to integers to be used in computations\n",
    "baby_df['Year'] = baby_df['Year'].astype(int)\n",
    "\n",
    "\n",
    "\n",
    "baby_df.head(100)"
   ]
  },
  {
   "cell_type": "code",
   "execution_count": 689,
   "metadata": {},
   "outputs": [],
   "source": [
    "baby_df['DemandMW'] = 0.0\n",
    "\n",
    "mask = (baby_df['Year'] == 2018) & (baby_df['Hours']<=6) | (baby_df['Hours']>=22)\n",
    "mask1 = (baby_df['Year'] == 2019) & (baby_df['Hours']<=6) | (baby_df['Hours']>=22)\n",
    "mask2 = (baby_df['Year'] == 2020) & (baby_df['Hours']<=6) | (baby_df['Hours']>=22)\n",
    "\n",
    "\n",
    "baby_df.loc[mask,'DemandMW'] = 6.2356\n",
    "baby_df.loc[mask1,'DemandMW'] = 8.2818\n",
    "baby_df.loc[mask2,'DemandMW'] = 9.9174"
   ]
  },
  {
   "cell_type": "code",
   "execution_count": 690,
   "metadata": {},
   "outputs": [
    {
     "data": {
      "text/plain": [
       "Renewables               float64\n",
       "Natural gas              float64\n",
       "Large hydro              float64\n",
       "Imports                  float64\n",
       "Batteries                float64\n",
       "Nuclear                  float64\n",
       "Coal                     float64\n",
       "Other                    float64\n",
       "Date              datetime64[ns]\n",
       "Time                      object\n",
       "DateTime                  object\n",
       "Unix Timestamp           float64\n",
       "Sum                      float64\n",
       "dtype: object"
      ]
     },
     "execution_count": 690,
     "metadata": {},
     "output_type": "execute_result"
    }
   ],
   "source": [
    "supply_df.dtypes"
   ]
  },
  {
   "cell_type": "code",
   "execution_count": 691,
   "metadata": {},
   "outputs": [
    {
     "data": {
      "text/html": [
       "<div>\n",
       "<style scoped>\n",
       "    .dataframe tbody tr th:only-of-type {\n",
       "        vertical-align: middle;\n",
       "    }\n",
       "\n",
       "    .dataframe tbody tr th {\n",
       "        vertical-align: top;\n",
       "    }\n",
       "\n",
       "    .dataframe thead th {\n",
       "        text-align: right;\n",
       "    }\n",
       "</style>\n",
       "<table border=\"1\" class=\"dataframe\">\n",
       "  <thead>\n",
       "    <tr style=\"text-align: right;\">\n",
       "      <th></th>\n",
       "      <th>Hours</th>\n",
       "      <th>Minutes</th>\n",
       "      <th>Year</th>\n",
       "      <th>DemandMW</th>\n",
       "    </tr>\n",
       "  </thead>\n",
       "  <tbody>\n",
       "    <tr>\n",
       "      <th>0</th>\n",
       "      <td>0</td>\n",
       "      <td>0</td>\n",
       "      <td>2018</td>\n",
       "      <td>6.2356</td>\n",
       "    </tr>\n",
       "    <tr>\n",
       "      <th>1</th>\n",
       "      <td>0</td>\n",
       "      <td>5</td>\n",
       "      <td>2018</td>\n",
       "      <td>6.2356</td>\n",
       "    </tr>\n",
       "    <tr>\n",
       "      <th>2</th>\n",
       "      <td>0</td>\n",
       "      <td>10</td>\n",
       "      <td>2018</td>\n",
       "      <td>6.2356</td>\n",
       "    </tr>\n",
       "    <tr>\n",
       "      <th>3</th>\n",
       "      <td>0</td>\n",
       "      <td>15</td>\n",
       "      <td>2018</td>\n",
       "      <td>6.2356</td>\n",
       "    </tr>\n",
       "    <tr>\n",
       "      <th>4</th>\n",
       "      <td>0</td>\n",
       "      <td>20</td>\n",
       "      <td>2018</td>\n",
       "      <td>6.2356</td>\n",
       "    </tr>\n",
       "    <tr>\n",
       "      <th>...</th>\n",
       "      <td>...</td>\n",
       "      <td>...</td>\n",
       "      <td>...</td>\n",
       "      <td>...</td>\n",
       "    </tr>\n",
       "    <tr>\n",
       "      <th>284793</th>\n",
       "      <td>23</td>\n",
       "      <td>35</td>\n",
       "      <td>2020</td>\n",
       "      <td>9.9174</td>\n",
       "    </tr>\n",
       "    <tr>\n",
       "      <th>284794</th>\n",
       "      <td>23</td>\n",
       "      <td>40</td>\n",
       "      <td>2020</td>\n",
       "      <td>9.9174</td>\n",
       "    </tr>\n",
       "    <tr>\n",
       "      <th>284795</th>\n",
       "      <td>23</td>\n",
       "      <td>45</td>\n",
       "      <td>2020</td>\n",
       "      <td>9.9174</td>\n",
       "    </tr>\n",
       "    <tr>\n",
       "      <th>284796</th>\n",
       "      <td>23</td>\n",
       "      <td>50</td>\n",
       "      <td>2020</td>\n",
       "      <td>9.9174</td>\n",
       "    </tr>\n",
       "    <tr>\n",
       "      <th>284797</th>\n",
       "      <td>23</td>\n",
       "      <td>55</td>\n",
       "      <td>2020</td>\n",
       "      <td>9.9174</td>\n",
       "    </tr>\n",
       "  </tbody>\n",
       "</table>\n",
       "<p>284798 rows × 4 columns</p>\n",
       "</div>"
      ],
      "text/plain": [
       "        Hours  Minutes  Year  DemandMW\n",
       "0           0        0  2018    6.2356\n",
       "1           0        5  2018    6.2356\n",
       "2           0       10  2018    6.2356\n",
       "3           0       15  2018    6.2356\n",
       "4           0       20  2018    6.2356\n",
       "...       ...      ...   ...       ...\n",
       "284793     23       35  2020    9.9174\n",
       "284794     23       40  2020    9.9174\n",
       "284795     23       45  2020    9.9174\n",
       "284796     23       50  2020    9.9174\n",
       "284797     23       55  2020    9.9174\n",
       "\n",
       "[284798 rows x 4 columns]"
      ]
     },
     "execution_count": 691,
     "metadata": {},
     "output_type": "execute_result"
    }
   ],
   "source": [
    "baby_df"
   ]
  },
  {
   "cell_type": "code",
   "execution_count": 692,
   "metadata": {},
   "outputs": [
    {
     "ename": "TypeError",
     "evalue": "f() got an unexpected keyword argument 'axis'",
     "output_type": "error",
     "traceback": [
      "\u001b[1;31m---------------------------------------------------------------------------\u001b[0m",
      "\u001b[1;31mTypeError\u001b[0m                                 Traceback (most recent call last)",
      "\u001b[1;32m<ipython-input-692-39da7c701bcb>\u001b[0m in \u001b[0;36m<module>\u001b[1;34m\u001b[0m\n\u001b[0;32m     13\u001b[0m     \u001b[1;32mreturn\u001b[0m \u001b[0mval\u001b[0m\u001b[1;33m\u001b[0m\u001b[1;33m\u001b[0m\u001b[0m\n\u001b[0;32m     14\u001b[0m \u001b[1;33m\u001b[0m\u001b[0m\n\u001b[1;32m---> 15\u001b[1;33m \u001b[0msupply_df\u001b[0m\u001b[1;33m[\u001b[0m\u001b[1;34m'Day-DA'\u001b[0m\u001b[1;33m]\u001b[0m \u001b[1;33m=\u001b[0m \u001b[0msupply_df\u001b[0m\u001b[1;33m[\u001b[0m\u001b[1;34m'Day-DA'\u001b[0m\u001b[1;33m]\u001b[0m\u001b[1;33m.\u001b[0m\u001b[0mapply\u001b[0m\u001b[1;33m(\u001b[0m\u001b[0mf\u001b[0m\u001b[1;33m,\u001b[0m \u001b[0maxis\u001b[0m \u001b[1;33m=\u001b[0m \u001b[1;36m1\u001b[0m\u001b[1;33m)\u001b[0m\u001b[1;33m\u001b[0m\u001b[1;33m\u001b[0m\u001b[0m\n\u001b[0m\u001b[0;32m     16\u001b[0m \u001b[1;33m\u001b[0m\u001b[0m\n\u001b[0;32m     17\u001b[0m \u001b[0msupply_df\u001b[0m\u001b[1;33m[\u001b[0m\u001b[1;34m'Month-DA'\u001b[0m\u001b[1;33m]\u001b[0m \u001b[1;33m=\u001b[0m \u001b[0msupply_df\u001b[0m\u001b[1;33m[\u001b[0m\u001b[1;34m'Month-DA'\u001b[0m\u001b[1;33m]\u001b[0m\u001b[1;33m.\u001b[0m\u001b[0mastype\u001b[0m\u001b[1;33m(\u001b[0m\u001b[0mstr\u001b[0m\u001b[1;33m)\u001b[0m\u001b[1;33m\u001b[0m\u001b[1;33m\u001b[0m\u001b[0m\n",
      "\u001b[1;32m~\\anaconda3\\lib\\site-packages\\pandas\\core\\series.py\u001b[0m in \u001b[0;36mapply\u001b[1;34m(self, func, convert_dtype, args, **kwds)\u001b[0m\n\u001b[0;32m   4136\u001b[0m             \u001b[1;32melse\u001b[0m\u001b[1;33m:\u001b[0m\u001b[1;33m\u001b[0m\u001b[1;33m\u001b[0m\u001b[0m\n\u001b[0;32m   4137\u001b[0m                 \u001b[0mvalues\u001b[0m \u001b[1;33m=\u001b[0m \u001b[0mself\u001b[0m\u001b[1;33m.\u001b[0m\u001b[0mastype\u001b[0m\u001b[1;33m(\u001b[0m\u001b[0mobject\u001b[0m\u001b[1;33m)\u001b[0m\u001b[1;33m.\u001b[0m\u001b[0m_values\u001b[0m\u001b[1;33m\u001b[0m\u001b[1;33m\u001b[0m\u001b[0m\n\u001b[1;32m-> 4138\u001b[1;33m                 \u001b[0mmapped\u001b[0m \u001b[1;33m=\u001b[0m \u001b[0mlib\u001b[0m\u001b[1;33m.\u001b[0m\u001b[0mmap_infer\u001b[0m\u001b[1;33m(\u001b[0m\u001b[0mvalues\u001b[0m\u001b[1;33m,\u001b[0m \u001b[0mf\u001b[0m\u001b[1;33m,\u001b[0m \u001b[0mconvert\u001b[0m\u001b[1;33m=\u001b[0m\u001b[0mconvert_dtype\u001b[0m\u001b[1;33m)\u001b[0m\u001b[1;33m\u001b[0m\u001b[1;33m\u001b[0m\u001b[0m\n\u001b[0m\u001b[0;32m   4139\u001b[0m \u001b[1;33m\u001b[0m\u001b[0m\n\u001b[0;32m   4140\u001b[0m         \u001b[1;32mif\u001b[0m \u001b[0mlen\u001b[0m\u001b[1;33m(\u001b[0m\u001b[0mmapped\u001b[0m\u001b[1;33m)\u001b[0m \u001b[1;32mand\u001b[0m \u001b[0misinstance\u001b[0m\u001b[1;33m(\u001b[0m\u001b[0mmapped\u001b[0m\u001b[1;33m[\u001b[0m\u001b[1;36m0\u001b[0m\u001b[1;33m]\u001b[0m\u001b[1;33m,\u001b[0m \u001b[0mSeries\u001b[0m\u001b[1;33m)\u001b[0m\u001b[1;33m:\u001b[0m\u001b[1;33m\u001b[0m\u001b[1;33m\u001b[0m\u001b[0m\n",
      "\u001b[1;32mpandas\\_libs\\lib.pyx\u001b[0m in \u001b[0;36mpandas._libs.lib.map_infer\u001b[1;34m()\u001b[0m\n",
      "\u001b[1;32m~\\anaconda3\\lib\\site-packages\\pandas\\core\\series.py\u001b[0m in \u001b[0;36mf\u001b[1;34m(x)\u001b[0m\n\u001b[0;32m   4121\u001b[0m \u001b[1;33m\u001b[0m\u001b[0m\n\u001b[0;32m   4122\u001b[0m             \u001b[1;32mdef\u001b[0m \u001b[0mf\u001b[0m\u001b[1;33m(\u001b[0m\u001b[0mx\u001b[0m\u001b[1;33m)\u001b[0m\u001b[1;33m:\u001b[0m\u001b[1;33m\u001b[0m\u001b[1;33m\u001b[0m\u001b[0m\n\u001b[1;32m-> 4123\u001b[1;33m                 \u001b[1;32mreturn\u001b[0m \u001b[0mfunc\u001b[0m\u001b[1;33m(\u001b[0m\u001b[0mx\u001b[0m\u001b[1;33m,\u001b[0m \u001b[1;33m*\u001b[0m\u001b[0margs\u001b[0m\u001b[1;33m,\u001b[0m \u001b[1;33m**\u001b[0m\u001b[0mkwds\u001b[0m\u001b[1;33m)\u001b[0m\u001b[1;33m\u001b[0m\u001b[1;33m\u001b[0m\u001b[0m\n\u001b[0m\u001b[0;32m   4124\u001b[0m \u001b[1;33m\u001b[0m\u001b[0m\n\u001b[0;32m   4125\u001b[0m         \u001b[1;32melse\u001b[0m\u001b[1;33m:\u001b[0m\u001b[1;33m\u001b[0m\u001b[1;33m\u001b[0m\u001b[0m\n",
      "\u001b[1;31mTypeError\u001b[0m: f() got an unexpected keyword argument 'axis'"
     ]
    }
   ],
   "source": [
    "\n",
    "#Create a date attribute for groupby function \n",
    "supply_df['Month-DA'] = supply_df['Date'].dt.strftime('%b')\n",
    "\n",
    "supply_df['Day-DA'] = supply_df['Date'].dt.day\n",
    "\n",
    "supply_df['Day-DA'] = supply_df['Day-DA'].astype(str)\n",
    "\n",
    "def f(row):\n",
    "    if len(row['Day-DA'])<2:\n",
    "        val = \"0\" + row['Day-DA']\n",
    "    else:\n",
    "        val = row['Day-DA']\n",
    "    return: val\n",
    "\n",
    "supply_df['Day-DA'] = supply_df['Day-DA'].apply(f, axis = 1)\n",
    "\n",
    "supply_df['Month-DA'] = supply_df['Month-DA'].astype(str)\n",
    "supply_df['DateAttribute'] = supply_df['Month-DA'] +\"-\"+ supply_df['Day-DA']\n",
    "\n",
    "\n",
    "supply_df"
   ]
  },
  {
   "cell_type": "code",
   "execution_count": null,
   "metadata": {},
   "outputs": [],
   "source": [
    "supply_df.dtypes"
   ]
  },
  {
   "cell_type": "code",
   "execution_count": null,
   "metadata": {},
   "outputs": [],
   "source": [
    "def fun(datetimething):\n",
    "     return datetimething.timetuple().tm_yday"
   ]
  },
  {
   "cell_type": "code",
   "execution_count": null,
   "metadata": {},
   "outputs": [],
   "source": [
    "supply_df['Date'] = supply_df['Date'].apply(fun)\n",
    "supply_df.head(1300)"
   ]
  },
  {
   "cell_type": "code",
   "execution_count": null,
   "metadata": {},
   "outputs": [],
   "source": [
    "final_df = pd.merge(baby_df, supply_df, left_index=True, right_index=True, how='outer')"
   ]
  },
  {
   "cell_type": "code",
   "execution_count": null,
   "metadata": {},
   "outputs": [],
   "source": [
    "final_df.dtypes"
   ]
  },
  {
   "cell_type": "code",
   "execution_count": null,
   "metadata": {},
   "outputs": [],
   "source": [
    "final_df.iloc[-1]"
   ]
  },
  {
   "cell_type": "code",
   "execution_count": null,
   "metadata": {},
   "outputs": [],
   "source": [
    "df1= pd.DataFrame()"
   ]
  },
  {
   "cell_type": "code",
   "execution_count": null,
   "metadata": {},
   "outputs": [],
   "source": [
    "\n",
    "df1 = final_df.groupby(['DateAttribute','Time'])['Sum'].mean()\n",
    "df1 = df1.reset_index(level=None)\n",
    "#df1.index\n",
    "df1.iloc[:-5]"
   ]
  },
  {
   "cell_type": "code",
   "execution_count": null,
   "metadata": {},
   "outputs": [],
   "source": [
    "\n",
    "\n",
    "df1['3yrAvg(SUM)'] = df1['3yrAvg(SUM)'].round(2)\n",
    "df1 = df1.sort_values(by=['DateAttribute'])\n",
    "df1.iloc[-1]"
   ]
  },
  {
   "cell_type": "code",
   "execution_count": null,
   "metadata": {},
   "outputs": [],
   "source": [
    "x = final_df.loc[(final_df['DateAttribute'] == '2-29')]\n",
    "print(x.index)\n",
    "y = df1.loc[(final_df['DateAttribute'] == '2-29')]\n",
    "print(y.index)"
   ]
  },
  {
   "cell_type": "code",
   "execution_count": null,
   "metadata": {},
   "outputs": [],
   "source": [
    "final_df = final_df.drop(final_df.index[197257:197545])\n",
    "final_df = final_df.reset_index(level=None)"
   ]
  },
  {
   "cell_type": "code",
   "execution_count": null,
   "metadata": {},
   "outputs": [],
   "source": [
    "print(type(final_df))\n",
    "print(final_df.loc[197256:197560])"
   ]
  },
  {
   "cell_type": "code",
   "execution_count": null,
   "metadata": {},
   "outputs": [],
   "source": [
    "print(len(final_df))\n",
    "final_df.iloc[-1]"
   ]
  },
  {
   "cell_type": "code",
   "execution_count": null,
   "metadata": {},
   "outputs": [],
   "source": [
    "copy1_df1 = df1.copy()\n",
    "copy2_df1 = df1.copy()\n"
   ]
  },
  {
   "cell_type": "code",
   "execution_count": null,
   "metadata": {},
   "outputs": [],
   "source": [
    "new_df1 = df1.append(copy1_df1)"
   ]
  },
  {
   "cell_type": "code",
   "execution_count": null,
   "metadata": {},
   "outputs": [],
   "source": [
    "new_df2 = new_df1.append(copy2_df1)\n",
    "print(len(new_df2))"
   ]
  },
  {
   "cell_type": "code",
   "execution_count": null,
   "metadata": {},
   "outputs": [],
   "source": []
  }
 ],
 "metadata": {
  "interpreter": {
   "hash": "b49836bb38d07d0d57657a0949560f1619d3bb34da9116229f907ae0e7d12ab8"
  },
  "kernelspec": {
   "display_name": "Python 3.8.8 ('base')",
   "language": "python",
   "name": "python3"
  },
  "language_info": {
   "codemirror_mode": {
    "name": "ipython",
    "version": 3
   },
   "file_extension": ".py",
   "mimetype": "text/x-python",
   "name": "python",
   "nbconvert_exporter": "python",
   "pygments_lexer": "ipython3",
   "version": "3.8.8"
  },
  "orig_nbformat": 4
 },
 "nbformat": 4,
 "nbformat_minor": 2
}
