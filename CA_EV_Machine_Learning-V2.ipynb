{
 "cells": [
  {
   "cell_type": "code",
   "execution_count": 1,
   "id": "ab99928a",
   "metadata": {},
   "outputs": [
    {
     "data": {
      "text/html": [
       "<div>\n",
       "<style scoped>\n",
       "    .dataframe tbody tr th:only-of-type {\n",
       "        vertical-align: middle;\n",
       "    }\n",
       "\n",
       "    .dataframe tbody tr th {\n",
       "        vertical-align: top;\n",
       "    }\n",
       "\n",
       "    .dataframe thead th {\n",
       "        text-align: right;\n",
       "    }\n",
       "</style>\n",
       "<table border=\"1\" class=\"dataframe\">\n",
       "  <thead>\n",
       "    <tr style=\"text-align: right;\">\n",
       "      <th></th>\n",
       "      <th>Renewables</th>\n",
       "      <th>Natural gas</th>\n",
       "      <th>Large hydro</th>\n",
       "      <th>Imports</th>\n",
       "      <th>Batteries</th>\n",
       "      <th>Nuclear</th>\n",
       "      <th>Coal</th>\n",
       "      <th>Other</th>\n",
       "      <th>Date</th>\n",
       "      <th>Time</th>\n",
       "      <th>DateTime</th>\n",
       "      <th>Unix Timestamp</th>\n",
       "    </tr>\n",
       "  </thead>\n",
       "  <tbody>\n",
       "    <tr>\n",
       "      <th>0</th>\n",
       "      <td>2005.0</td>\n",
       "      <td>8736.0</td>\n",
       "      <td>3428.0</td>\n",
       "      <td>7108.0</td>\n",
       "      <td>-8.0</td>\n",
       "      <td>1616.0</td>\n",
       "      <td>-6.0</td>\n",
       "      <td>0.0</td>\n",
       "      <td>4/10/2018</td>\n",
       "      <td>00:00:00</td>\n",
       "      <td>2018-04-10 00:00:00</td>\n",
       "      <td>1.523318e+09</td>\n",
       "    </tr>\n",
       "    <tr>\n",
       "      <th>1</th>\n",
       "      <td>2005.0</td>\n",
       "      <td>8722.0</td>\n",
       "      <td>3425.0</td>\n",
       "      <td>7029.0</td>\n",
       "      <td>1.0</td>\n",
       "      <td>1618.0</td>\n",
       "      <td>-6.0</td>\n",
       "      <td>0.0</td>\n",
       "      <td>4/10/2018</td>\n",
       "      <td>00:05:00</td>\n",
       "      <td>2018-04-10 00:05:00</td>\n",
       "      <td>1.523319e+09</td>\n",
       "    </tr>\n",
       "    <tr>\n",
       "      <th>2</th>\n",
       "      <td>2048.0</td>\n",
       "      <td>8739.0</td>\n",
       "      <td>3464.0</td>\n",
       "      <td>6873.0</td>\n",
       "      <td>6.0</td>\n",
       "      <td>1619.0</td>\n",
       "      <td>-6.0</td>\n",
       "      <td>0.0</td>\n",
       "      <td>4/10/2018</td>\n",
       "      <td>00:10:00</td>\n",
       "      <td>2018-04-10 00:10:00</td>\n",
       "      <td>1.523319e+09</td>\n",
       "    </tr>\n",
       "    <tr>\n",
       "      <th>3</th>\n",
       "      <td>1979.0</td>\n",
       "      <td>8696.0</td>\n",
       "      <td>3470.0</td>\n",
       "      <td>6744.0</td>\n",
       "      <td>-14.0</td>\n",
       "      <td>1619.0</td>\n",
       "      <td>-6.0</td>\n",
       "      <td>0.0</td>\n",
       "      <td>4/10/2018</td>\n",
       "      <td>00:15:00</td>\n",
       "      <td>2018-04-10 00:15:00</td>\n",
       "      <td>1.523319e+09</td>\n",
       "    </tr>\n",
       "    <tr>\n",
       "      <th>4</th>\n",
       "      <td>1980.0</td>\n",
       "      <td>8605.0</td>\n",
       "      <td>3454.0</td>\n",
       "      <td>6757.0</td>\n",
       "      <td>-38.0</td>\n",
       "      <td>1616.0</td>\n",
       "      <td>-6.0</td>\n",
       "      <td>0.0</td>\n",
       "      <td>4/10/2018</td>\n",
       "      <td>00:20:00</td>\n",
       "      <td>2018-04-10 00:20:00</td>\n",
       "      <td>1.523320e+09</td>\n",
       "    </tr>\n",
       "  </tbody>\n",
       "</table>\n",
       "</div>"
      ],
      "text/plain": [
       "   Renewables  Natural gas  Large hydro  Imports  Batteries  Nuclear  Coal  \\\n",
       "0      2005.0       8736.0       3428.0   7108.0       -8.0   1616.0  -6.0   \n",
       "1      2005.0       8722.0       3425.0   7029.0        1.0   1618.0  -6.0   \n",
       "2      2048.0       8739.0       3464.0   6873.0        6.0   1619.0  -6.0   \n",
       "3      1979.0       8696.0       3470.0   6744.0      -14.0   1619.0  -6.0   \n",
       "4      1980.0       8605.0       3454.0   6757.0      -38.0   1616.0  -6.0   \n",
       "\n",
       "   Other       Date      Time             DateTime  Unix Timestamp  \n",
       "0    0.0  4/10/2018  00:00:00  2018-04-10 00:00:00    1.523318e+09  \n",
       "1    0.0  4/10/2018  00:05:00  2018-04-10 00:05:00    1.523319e+09  \n",
       "2    0.0  4/10/2018  00:10:00  2018-04-10 00:10:00    1.523319e+09  \n",
       "3    0.0  4/10/2018  00:15:00  2018-04-10 00:15:00    1.523319e+09  \n",
       "4    0.0  4/10/2018  00:20:00  2018-04-10 00:20:00    1.523320e+09  "
      ]
     },
     "execution_count": 1,
     "metadata": {},
     "output_type": "execute_result"
    }
   ],
   "source": [
    "# Initial imports\n",
    "# Import our dependencies\n",
    "from sklearn.model_selection import train_test_split\n",
    "from sklearn.preprocessing import StandardScaler\n",
    "from sklearn.linear_model import LogisticRegression\n",
    "from sklearn.metrics import accuracy_score\n",
    "import pandas as pd\n",
    "import tensorflow as tf\n",
    "\n",
    "#  Import and read the file.\n",
    "import pandas as pd \n",
    "supply_df = pd.read_csv(\"./CAISO-ALL-SUPPLY-DATA.csv\")\n",
    "supply_df.head()"
   ]
  },
  {
   "cell_type": "code",
   "execution_count": 2,
   "id": "848348a2",
   "metadata": {},
   "outputs": [
    {
     "data": {
      "text/html": [
       "<div>\n",
       "<style scoped>\n",
       "    .dataframe tbody tr th:only-of-type {\n",
       "        vertical-align: middle;\n",
       "    }\n",
       "\n",
       "    .dataframe tbody tr th {\n",
       "        vertical-align: top;\n",
       "    }\n",
       "\n",
       "    .dataframe thead th {\n",
       "        text-align: right;\n",
       "    }\n",
       "</style>\n",
       "<table border=\"1\" class=\"dataframe\">\n",
       "  <thead>\n",
       "    <tr style=\"text-align: right;\">\n",
       "      <th></th>\n",
       "      <th>Natural gas</th>\n",
       "      <th>Date</th>\n",
       "      <th>Time</th>\n",
       "    </tr>\n",
       "  </thead>\n",
       "  <tbody>\n",
       "    <tr>\n",
       "      <th>0</th>\n",
       "      <td>8736.0</td>\n",
       "      <td>4/10/2018</td>\n",
       "      <td>00:00:00</td>\n",
       "    </tr>\n",
       "    <tr>\n",
       "      <th>1</th>\n",
       "      <td>8722.0</td>\n",
       "      <td>4/10/2018</td>\n",
       "      <td>00:05:00</td>\n",
       "    </tr>\n",
       "    <tr>\n",
       "      <th>2</th>\n",
       "      <td>8739.0</td>\n",
       "      <td>4/10/2018</td>\n",
       "      <td>00:10:00</td>\n",
       "    </tr>\n",
       "    <tr>\n",
       "      <th>3</th>\n",
       "      <td>8696.0</td>\n",
       "      <td>4/10/2018</td>\n",
       "      <td>00:15:00</td>\n",
       "    </tr>\n",
       "    <tr>\n",
       "      <th>4</th>\n",
       "      <td>8605.0</td>\n",
       "      <td>4/10/2018</td>\n",
       "      <td>00:20:00</td>\n",
       "    </tr>\n",
       "  </tbody>\n",
       "</table>\n",
       "</div>"
      ],
      "text/plain": [
       "   Natural gas       Date      Time\n",
       "0       8736.0  4/10/2018  00:00:00\n",
       "1       8722.0  4/10/2018  00:05:00\n",
       "2       8739.0  4/10/2018  00:10:00\n",
       "3       8696.0  4/10/2018  00:15:00\n",
       "4       8605.0  4/10/2018  00:20:00"
      ]
     },
     "execution_count": 2,
     "metadata": {},
     "output_type": "execute_result"
    }
   ],
   "source": [
    "supply_df= supply_df.drop(['Renewables', 'Batteries', 'Large hydro', 'Imports', 'Other', 'Nuclear', 'Coal', 'DateTime', 'Unix Timestamp'],1)\n",
    "supply_df.head()"
   ]
  },
  {
   "cell_type": "code",
   "execution_count": 3,
   "id": "ad26a430",
   "metadata": {},
   "outputs": [],
   "source": [
    "supply_df['Date'] = pd.to_datetime(supply_df['Date'])"
   ]
  },
  {
   "cell_type": "code",
   "execution_count": 4,
   "id": "be12812e",
   "metadata": {},
   "outputs": [],
   "source": [
    "def fun(datetimething):\n",
    "     return datetimething.timetuple().tm_yday"
   ]
  },
  {
   "cell_type": "code",
   "execution_count": 5,
   "id": "427494ca",
   "metadata": {},
   "outputs": [
    {
     "data": {
      "text/html": [
       "<div>\n",
       "<style scoped>\n",
       "    .dataframe tbody tr th:only-of-type {\n",
       "        vertical-align: middle;\n",
       "    }\n",
       "\n",
       "    .dataframe tbody tr th {\n",
       "        vertical-align: top;\n",
       "    }\n",
       "\n",
       "    .dataframe thead th {\n",
       "        text-align: right;\n",
       "    }\n",
       "</style>\n",
       "<table border=\"1\" class=\"dataframe\">\n",
       "  <thead>\n",
       "    <tr style=\"text-align: right;\">\n",
       "      <th></th>\n",
       "      <th>Natural gas</th>\n",
       "      <th>Date</th>\n",
       "      <th>Time</th>\n",
       "    </tr>\n",
       "  </thead>\n",
       "  <tbody>\n",
       "    <tr>\n",
       "      <th>0</th>\n",
       "      <td>8736.0</td>\n",
       "      <td>100</td>\n",
       "      <td>00:00:00</td>\n",
       "    </tr>\n",
       "    <tr>\n",
       "      <th>1</th>\n",
       "      <td>8722.0</td>\n",
       "      <td>100</td>\n",
       "      <td>00:05:00</td>\n",
       "    </tr>\n",
       "    <tr>\n",
       "      <th>2</th>\n",
       "      <td>8739.0</td>\n",
       "      <td>100</td>\n",
       "      <td>00:10:00</td>\n",
       "    </tr>\n",
       "    <tr>\n",
       "      <th>3</th>\n",
       "      <td>8696.0</td>\n",
       "      <td>100</td>\n",
       "      <td>00:15:00</td>\n",
       "    </tr>\n",
       "    <tr>\n",
       "      <th>4</th>\n",
       "      <td>8605.0</td>\n",
       "      <td>100</td>\n",
       "      <td>00:20:00</td>\n",
       "    </tr>\n",
       "  </tbody>\n",
       "</table>\n",
       "</div>"
      ],
      "text/plain": [
       "   Natural gas  Date      Time\n",
       "0       8736.0   100  00:00:00\n",
       "1       8722.0   100  00:05:00\n",
       "2       8739.0   100  00:10:00\n",
       "3       8696.0   100  00:15:00\n",
       "4       8605.0   100  00:20:00"
      ]
     },
     "execution_count": 5,
     "metadata": {},
     "output_type": "execute_result"
    }
   ],
   "source": [
    "supply_df['Date'] = supply_df['Date'].apply(fun)\n",
    "supply_df.head()"
   ]
  },
  {
   "cell_type": "code",
   "execution_count": 6,
   "id": "e96c0bf0",
   "metadata": {},
   "outputs": [
    {
     "data": {
      "text/plain": [
       "Natural gas    float64\n",
       "Date             int64\n",
       "Time            object\n",
       "dtype: object"
      ]
     },
     "execution_count": 6,
     "metadata": {},
     "output_type": "execute_result"
    }
   ],
   "source": [
    "supply_df.dtypes"
   ]
  },
  {
   "cell_type": "code",
   "execution_count": 7,
   "id": "4a46f5ec",
   "metadata": {},
   "outputs": [
    {
     "name": "stderr",
     "output_type": "stream",
     "text": [
      "<ipython-input-7-96154902f441>:1: DeprecationWarning: The default dtype for empty Series will be 'object' instead of 'float64' in a future version. Specify a dtype explicitly to silence this warning.\n",
      "  supply_df['hours'] = pd.Series()\n"
     ]
    }
   ],
   "source": [
    "supply_df['hours'] = pd.Series()"
   ]
  },
  {
   "cell_type": "code",
   "execution_count": 8,
   "id": "18587596",
   "metadata": {},
   "outputs": [],
   "source": [
    "for i in supply_df[\"Time\"]:\n",
    "    supply_df['hours'] = int(i.split(\":\")[0])\n",
    "    supply_df['minutes'] = int(i.split(\":\")[1])"
   ]
  },
  {
   "cell_type": "code",
   "execution_count": 9,
   "id": "aba6237d",
   "metadata": {},
   "outputs": [
    {
     "data": {
      "text/plain": [
       "Natural gas    float64\n",
       "Date             int64\n",
       "Time            object\n",
       "hours            int64\n",
       "minutes          int64\n",
       "dtype: object"
      ]
     },
     "execution_count": 9,
     "metadata": {},
     "output_type": "execute_result"
    }
   ],
   "source": [
    "supply_df.dtypes"
   ]
  },
  {
   "cell_type": "code",
   "execution_count": 10,
   "id": "30e1768e",
   "metadata": {},
   "outputs": [],
   "source": [
    "supply_df= supply_df.drop(['Time'],1)"
   ]
  },
  {
   "cell_type": "code",
   "execution_count": 17,
   "id": "51891396",
   "metadata": {},
   "outputs": [
    {
     "data": {
      "text/plain": [
       "412956"
      ]
     },
     "execution_count": 17,
     "metadata": {},
     "output_type": "execute_result"
    }
   ],
   "source": [
    "len(supply_df)"
   ]
  },
  {
   "cell_type": "code",
   "execution_count": 26,
   "id": "5351ef92",
   "metadata": {},
   "outputs": [],
   "source": [
    "%matplotlib inline\n",
    "import matplotlib.pyplot as plt\n",
    "import numpy as np\n",
    "import pandas as pd"
   ]
  },
  {
   "cell_type": "code",
   "execution_count": 27,
   "id": "4ba9ca31",
   "metadata": {},
   "outputs": [],
   "source": [
    "# Create our features\n",
    "X = supply_df.drop(\"Natural gas\", axis = 1)\n",
    "\n",
    "# Create our target\n",
    "y = supply_df.loc[:, 'Natural gas'].copy()"
   ]
  },
  {
   "cell_type": "code",
   "execution_count": 35,
   "id": "41f5af95",
   "metadata": {},
   "outputs": [
    {
     "data": {
      "text/plain": [
       "412956"
      ]
     },
     "execution_count": 35,
     "metadata": {},
     "output_type": "execute_result"
    }
   ],
   "source": [
    "len(X)"
   ]
  },
  {
   "cell_type": "code",
   "execution_count": 36,
   "id": "2dafef29",
   "metadata": {},
   "outputs": [
    {
     "data": {
      "text/plain": [
       "412956"
      ]
     },
     "execution_count": 36,
     "metadata": {},
     "output_type": "execute_result"
    }
   ],
   "source": [
    "len(y)"
   ]
  },
  {
   "cell_type": "code",
   "execution_count": 30,
   "id": "dc1f1745",
   "metadata": {},
   "outputs": [],
   "source": [
    "supply_df = supply_df.dropna()"
   ]
  },
  {
   "cell_type": "code",
   "execution_count": 45,
   "id": "d97a9a39",
   "metadata": {},
   "outputs": [
    {
     "name": "stdout",
     "output_type": "stream",
     "text": [
      "(412956, 3)\n"
     ]
    }
   ],
   "source": [
    "from sklearn.datasets import make_regression\n",
    "\n",
    "n_features = 3\n",
    "X, y = make_regression(n_samples=412956, n_features=n_features, \n",
    "                       n_informative=n_features, random_state=42, \n",
    "                       noise=0.5, bias=100.0)\n",
    "print(X.shape)"
   ]
  },
  {
   "cell_type": "code",
   "execution_count": 46,
   "id": "1fd0729a",
   "metadata": {},
   "outputs": [
    {
     "data": {
      "image/png": "[encoded data removed]",
      "text/plain": [
       "<Figure size 360x360 with 1 Axes>"
      ]
     },
     "metadata": {
      "needs_background": "light"
     },
     "output_type": "display_data"
    }
   ],
   "source": [
    "from mpl_toolkits.mplot3d import Axes3D\n",
    "fig = plt.figure(1, figsize=(5, 5))\n",
    "axes = Axes3D(fig, elev=20, azim=45)\n",
    "axes.scatter(X[:,0], X[:,1], X[:,2], c=y, cmap=plt.cm.get_cmap(\"Spectral\"))\n",
    "plt.show()"
   ]
  },
  {
   "cell_type": "code",
   "execution_count": 47,
   "id": "8dcdae4a",
   "metadata": {},
   "outputs": [
    {
     "name": "stdout",
     "output_type": "stream",
     "text": [
      "R2 Score: 0.999977062985714\n"
     ]
    }
   ],
   "source": [
    "from sklearn.linear_model import LinearRegression\n",
    "model = LinearRegression()\n",
    "\n",
    "# Fitting our model with all our features in X\n",
    "model.fit(X, y)\n",
    "\n",
    "score = model.score(X, y)\n",
    "print(f\"R2 Score: {score}\")"
   ]
  },
  {
   "cell_type": "code",
   "execution_count": 48,
   "id": "92029c14",
   "metadata": {},
   "outputs": [
    {
     "data": {
      "image/png": "[encoded data removed]",
      "text/plain": [
       "<Figure size 432x288 with 1 Axes>"
      ]
     },
     "metadata": {
      "needs_background": "light"
     },
     "output_type": "display_data"
    }
   ],
   "source": [
    " predictions = model.predict(X)\n",
    "# Plot Residuals\n",
    "plt.scatter(predictions, predictions - y)\n",
    "plt.hlines(y=0, xmin=predictions.min(), xmax=predictions.max())\n",
    "plt.show()"
   ]
  }
 ],
 "metadata": {
  "kernelspec": {
   "display_name": "Python 3",
   "language": "python",
   "name": "python3"
  },
  "language_info": {
   "codemirror_mode": {
    "name": "ipython",
    "version": 3
   },
   "file_extension": ".py",
   "mimetype": "text/x-python",
   "name": "python",
   "nbconvert_exporter": "python",
   "pygments_lexer": "ipython3",
   "version": "3.8.8"
  }
 },
 "nbformat": 4,
 "nbformat_minor": 5
}
