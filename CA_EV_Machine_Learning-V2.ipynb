{
 "cells": [
  {
   "cell_type": "code",
   "execution_count": 28,
   "id": "ab99928a",
   "metadata": {},
   "outputs": [
    {
     "data": {
      "text/html": [
       "<div>\n",
       "<style scoped>\n",
       "    .dataframe tbody tr th:only-of-type {\n",
       "        vertical-align: middle;\n",
       "    }\n",
       "\n",
       "    .dataframe tbody tr th {\n",
       "        vertical-align: top;\n",
       "    }\n",
       "\n",
       "    .dataframe thead th {\n",
       "        text-align: right;\n",
       "    }\n",
       "</style>\n",
       "<table border=\"1\" class=\"dataframe\">\n",
       "  <thead>\n",
       "    <tr style=\"text-align: right;\">\n",
       "      <th></th>\n",
       "      <th>Renewables</th>\n",
       "      <th>Natural gas</th>\n",
       "      <th>Large hydro</th>\n",
       "      <th>Imports</th>\n",
       "      <th>Batteries</th>\n",
       "      <th>Nuclear</th>\n",
       "      <th>Coal</th>\n",
       "      <th>Other</th>\n",
       "      <th>Date</th>\n",
       "      <th>Time</th>\n",
       "      <th>DateTime</th>\n",
       "      <th>Unix Timestamp</th>\n",
       "    </tr>\n",
       "  </thead>\n",
       "  <tbody>\n",
       "    <tr>\n",
       "      <th>0</th>\n",
       "      <td>2005.0</td>\n",
       "      <td>8736.0</td>\n",
       "      <td>3428.0</td>\n",
       "      <td>7108.0</td>\n",
       "      <td>-8.0</td>\n",
       "      <td>1616.0</td>\n",
       "      <td>-6.0</td>\n",
       "      <td>0.0</td>\n",
       "      <td>4/10/2018</td>\n",
       "      <td>00:00:00</td>\n",
       "      <td>2018-04-10 00:00:00</td>\n",
       "      <td>1.523318e+09</td>\n",
       "    </tr>\n",
       "    <tr>\n",
       "      <th>1</th>\n",
       "      <td>2005.0</td>\n",
       "      <td>8722.0</td>\n",
       "      <td>3425.0</td>\n",
       "      <td>7029.0</td>\n",
       "      <td>1.0</td>\n",
       "      <td>1618.0</td>\n",
       "      <td>-6.0</td>\n",
       "      <td>0.0</td>\n",
       "      <td>4/10/2018</td>\n",
       "      <td>00:05:00</td>\n",
       "      <td>2018-04-10 00:05:00</td>\n",
       "      <td>1.523319e+09</td>\n",
       "    </tr>\n",
       "    <tr>\n",
       "      <th>2</th>\n",
       "      <td>2048.0</td>\n",
       "      <td>8739.0</td>\n",
       "      <td>3464.0</td>\n",
       "      <td>6873.0</td>\n",
       "      <td>6.0</td>\n",
       "      <td>1619.0</td>\n",
       "      <td>-6.0</td>\n",
       "      <td>0.0</td>\n",
       "      <td>4/10/2018</td>\n",
       "      <td>00:10:00</td>\n",
       "      <td>2018-04-10 00:10:00</td>\n",
       "      <td>1.523319e+09</td>\n",
       "    </tr>\n",
       "    <tr>\n",
       "      <th>3</th>\n",
       "      <td>1979.0</td>\n",
       "      <td>8696.0</td>\n",
       "      <td>3470.0</td>\n",
       "      <td>6744.0</td>\n",
       "      <td>-14.0</td>\n",
       "      <td>1619.0</td>\n",
       "      <td>-6.0</td>\n",
       "      <td>0.0</td>\n",
       "      <td>4/10/2018</td>\n",
       "      <td>00:15:00</td>\n",
       "      <td>2018-04-10 00:15:00</td>\n",
       "      <td>1.523319e+09</td>\n",
       "    </tr>\n",
       "    <tr>\n",
       "      <th>4</th>\n",
       "      <td>1980.0</td>\n",
       "      <td>8605.0</td>\n",
       "      <td>3454.0</td>\n",
       "      <td>6757.0</td>\n",
       "      <td>-38.0</td>\n",
       "      <td>1616.0</td>\n",
       "      <td>-6.0</td>\n",
       "      <td>0.0</td>\n",
       "      <td>4/10/2018</td>\n",
       "      <td>00:20:00</td>\n",
       "      <td>2018-04-10 00:20:00</td>\n",
       "      <td>1.523320e+09</td>\n",
       "    </tr>\n",
       "  </tbody>\n",
       "</table>\n",
       "</div>"
      ],
      "text/plain": [
       "   Renewables  Natural gas  Large hydro  Imports  Batteries  Nuclear  Coal  \\\n",
       "0      2005.0       8736.0       3428.0   7108.0       -8.0   1616.0  -6.0   \n",
       "1      2005.0       8722.0       3425.0   7029.0        1.0   1618.0  -6.0   \n",
       "2      2048.0       8739.0       3464.0   6873.0        6.0   1619.0  -6.0   \n",
       "3      1979.0       8696.0       3470.0   6744.0      -14.0   1619.0  -6.0   \n",
       "4      1980.0       8605.0       3454.0   6757.0      -38.0   1616.0  -6.0   \n",
       "\n",
       "   Other       Date      Time             DateTime  Unix Timestamp  \n",
       "0    0.0  4/10/2018  00:00:00  2018-04-10 00:00:00    1.523318e+09  \n",
       "1    0.0  4/10/2018  00:05:00  2018-04-10 00:05:00    1.523319e+09  \n",
       "2    0.0  4/10/2018  00:10:00  2018-04-10 00:10:00    1.523319e+09  \n",
       "3    0.0  4/10/2018  00:15:00  2018-04-10 00:15:00    1.523319e+09  \n",
       "4    0.0  4/10/2018  00:20:00  2018-04-10 00:20:00    1.523320e+09  "
      ]
     },
     "execution_count": 28,
     "metadata": {},
     "output_type": "execute_result"
    }
   ],
   "source": [
    "# Initial imports\n",
    "# Import our dependencies\n",
    "from sklearn.model_selection import train_test_split\n",
    "from sklearn.preprocessing import StandardScaler\n",
    "from sklearn.linear_model import LogisticRegression\n",
    "from sklearn.metrics import accuracy_score\n",
    "import pandas as pd\n",
    "import tensorflow as tf\n",
    "\n",
    "#  Import and read the file.\n",
    "import pandas as pd \n",
    "supply_df = pd.read_csv(\"./CAISO-ALL-SUPPLY-DATA.csv\")\n",
    "supply_df.head()"
   ]
  },
  {
   "cell_type": "code",
   "execution_count": 29,
   "id": "848348a2",
   "metadata": {},
   "outputs": [
    {
     "data": {
      "text/html": [
       "<div>\n",
       "<style scoped>\n",
       "    .dataframe tbody tr th:only-of-type {\n",
       "        vertical-align: middle;\n",
       "    }\n",
       "\n",
       "    .dataframe tbody tr th {\n",
       "        vertical-align: top;\n",
       "    }\n",
       "\n",
       "    .dataframe thead th {\n",
       "        text-align: right;\n",
       "    }\n",
       "</style>\n",
       "<table border=\"1\" class=\"dataframe\">\n",
       "  <thead>\n",
       "    <tr style=\"text-align: right;\">\n",
       "      <th></th>\n",
       "      <th>Natural gas</th>\n",
       "      <th>Date</th>\n",
       "      <th>Time</th>\n",
       "    </tr>\n",
       "  </thead>\n",
       "  <tbody>\n",
       "    <tr>\n",
       "      <th>0</th>\n",
       "      <td>8736.0</td>\n",
       "      <td>4/10/2018</td>\n",
       "      <td>00:00:00</td>\n",
       "    </tr>\n",
       "    <tr>\n",
       "      <th>1</th>\n",
       "      <td>8722.0</td>\n",
       "      <td>4/10/2018</td>\n",
       "      <td>00:05:00</td>\n",
       "    </tr>\n",
       "    <tr>\n",
       "      <th>2</th>\n",
       "      <td>8739.0</td>\n",
       "      <td>4/10/2018</td>\n",
       "      <td>00:10:00</td>\n",
       "    </tr>\n",
       "    <tr>\n",
       "      <th>3</th>\n",
       "      <td>8696.0</td>\n",
       "      <td>4/10/2018</td>\n",
       "      <td>00:15:00</td>\n",
       "    </tr>\n",
       "    <tr>\n",
       "      <th>4</th>\n",
       "      <td>8605.0</td>\n",
       "      <td>4/10/2018</td>\n",
       "      <td>00:20:00</td>\n",
       "    </tr>\n",
       "    <tr>\n",
       "      <th>...</th>\n",
       "      <td>...</td>\n",
       "      <td>...</td>\n",
       "      <td>...</td>\n",
       "    </tr>\n",
       "    <tr>\n",
       "      <th>995</th>\n",
       "      <td>4991.0</td>\n",
       "      <td>4/14/2018</td>\n",
       "      <td>03:15:00</td>\n",
       "    </tr>\n",
       "    <tr>\n",
       "      <th>996</th>\n",
       "      <td>4972.0</td>\n",
       "      <td>4/14/2018</td>\n",
       "      <td>03:20:00</td>\n",
       "    </tr>\n",
       "    <tr>\n",
       "      <th>997</th>\n",
       "      <td>4975.0</td>\n",
       "      <td>4/14/2018</td>\n",
       "      <td>03:25:00</td>\n",
       "    </tr>\n",
       "    <tr>\n",
       "      <th>998</th>\n",
       "      <td>4974.0</td>\n",
       "      <td>4/14/2018</td>\n",
       "      <td>03:30:00</td>\n",
       "    </tr>\n",
       "    <tr>\n",
       "      <th>999</th>\n",
       "      <td>4975.0</td>\n",
       "      <td>4/14/2018</td>\n",
       "      <td>03:35:00</td>\n",
       "    </tr>\n",
       "  </tbody>\n",
       "</table>\n",
       "<p>1000 rows × 3 columns</p>\n",
       "</div>"
      ],
      "text/plain": [
       "     Natural gas       Date      Time\n",
       "0         8736.0  4/10/2018  00:00:00\n",
       "1         8722.0  4/10/2018  00:05:00\n",
       "2         8739.0  4/10/2018  00:10:00\n",
       "3         8696.0  4/10/2018  00:15:00\n",
       "4         8605.0  4/10/2018  00:20:00\n",
       "..           ...        ...       ...\n",
       "995       4991.0  4/14/2018  03:15:00\n",
       "996       4972.0  4/14/2018  03:20:00\n",
       "997       4975.0  4/14/2018  03:25:00\n",
       "998       4974.0  4/14/2018  03:30:00\n",
       "999       4975.0  4/14/2018  03:35:00\n",
       "\n",
       "[1000 rows x 3 columns]"
      ]
     },
     "execution_count": 29,
     "metadata": {},
     "output_type": "execute_result"
    }
   ],
   "source": [
    "supply_df= supply_df.drop(['Renewables', 'Batteries', 'Large hydro', 'Imports', 'Other', 'Nuclear', 'Coal', 'DateTime', 'Unix Timestamp'],1)\n",
    "supply_df.head(1000)"
   ]
  },
  {
   "cell_type": "code",
   "execution_count": 30,
   "id": "ad26a430",
   "metadata": {},
   "outputs": [],
   "source": [
    "supply_df['Date'] = pd.to_datetime(supply_df['Date'])"
   ]
  },
  {
   "cell_type": "code",
   "execution_count": 31,
   "id": "be12812e",
   "metadata": {},
   "outputs": [],
   "source": [
    "def fun(datetimething):\n",
    "     return datetimething.timetuple().tm_yday"
   ]
  },
  {
   "cell_type": "code",
   "execution_count": 32,
   "id": "427494ca",
   "metadata": {},
   "outputs": [
    {
     "data": {
      "text/html": [
       "<div>\n",
       "<style scoped>\n",
       "    .dataframe tbody tr th:only-of-type {\n",
       "        vertical-align: middle;\n",
       "    }\n",
       "\n",
       "    .dataframe tbody tr th {\n",
       "        vertical-align: top;\n",
       "    }\n",
       "\n",
       "    .dataframe thead th {\n",
       "        text-align: right;\n",
       "    }\n",
       "</style>\n",
       "<table border=\"1\" class=\"dataframe\">\n",
       "  <thead>\n",
       "    <tr style=\"text-align: right;\">\n",
       "      <th></th>\n",
       "      <th>Natural gas</th>\n",
       "      <th>Date</th>\n",
       "      <th>Time</th>\n",
       "    </tr>\n",
       "  </thead>\n",
       "  <tbody>\n",
       "    <tr>\n",
       "      <th>0</th>\n",
       "      <td>8736.0</td>\n",
       "      <td>100</td>\n",
       "      <td>00:00:00</td>\n",
       "    </tr>\n",
       "    <tr>\n",
       "      <th>1</th>\n",
       "      <td>8722.0</td>\n",
       "      <td>100</td>\n",
       "      <td>00:05:00</td>\n",
       "    </tr>\n",
       "    <tr>\n",
       "      <th>2</th>\n",
       "      <td>8739.0</td>\n",
       "      <td>100</td>\n",
       "      <td>00:10:00</td>\n",
       "    </tr>\n",
       "    <tr>\n",
       "      <th>3</th>\n",
       "      <td>8696.0</td>\n",
       "      <td>100</td>\n",
       "      <td>00:15:00</td>\n",
       "    </tr>\n",
       "    <tr>\n",
       "      <th>4</th>\n",
       "      <td>8605.0</td>\n",
       "      <td>100</td>\n",
       "      <td>00:20:00</td>\n",
       "    </tr>\n",
       "    <tr>\n",
       "      <th>...</th>\n",
       "      <td>...</td>\n",
       "      <td>...</td>\n",
       "      <td>...</td>\n",
       "    </tr>\n",
       "    <tr>\n",
       "      <th>995</th>\n",
       "      <td>4991.0</td>\n",
       "      <td>104</td>\n",
       "      <td>03:15:00</td>\n",
       "    </tr>\n",
       "    <tr>\n",
       "      <th>996</th>\n",
       "      <td>4972.0</td>\n",
       "      <td>104</td>\n",
       "      <td>03:20:00</td>\n",
       "    </tr>\n",
       "    <tr>\n",
       "      <th>997</th>\n",
       "      <td>4975.0</td>\n",
       "      <td>104</td>\n",
       "      <td>03:25:00</td>\n",
       "    </tr>\n",
       "    <tr>\n",
       "      <th>998</th>\n",
       "      <td>4974.0</td>\n",
       "      <td>104</td>\n",
       "      <td>03:30:00</td>\n",
       "    </tr>\n",
       "    <tr>\n",
       "      <th>999</th>\n",
       "      <td>4975.0</td>\n",
       "      <td>104</td>\n",
       "      <td>03:35:00</td>\n",
       "    </tr>\n",
       "  </tbody>\n",
       "</table>\n",
       "<p>1000 rows × 3 columns</p>\n",
       "</div>"
      ],
      "text/plain": [
       "     Natural gas  Date      Time\n",
       "0         8736.0   100  00:00:00\n",
       "1         8722.0   100  00:05:00\n",
       "2         8739.0   100  00:10:00\n",
       "3         8696.0   100  00:15:00\n",
       "4         8605.0   100  00:20:00\n",
       "..           ...   ...       ...\n",
       "995       4991.0   104  03:15:00\n",
       "996       4972.0   104  03:20:00\n",
       "997       4975.0   104  03:25:00\n",
       "998       4974.0   104  03:30:00\n",
       "999       4975.0   104  03:35:00\n",
       "\n",
       "[1000 rows x 3 columns]"
      ]
     },
     "execution_count": 32,
     "metadata": {},
     "output_type": "execute_result"
    }
   ],
   "source": [
    "supply_df['Date'] = supply_df['Date'].apply(fun)\n",
    "supply_df.head(1000)"
   ]
  },
  {
   "cell_type": "code",
   "execution_count": 33,
   "id": "e96c0bf0",
   "metadata": {},
   "outputs": [
    {
     "data": {
      "text/plain": [
       "Natural gas    float64\n",
       "Date             int64\n",
       "Time            object\n",
       "dtype: object"
      ]
     },
     "execution_count": 33,
     "metadata": {},
     "output_type": "execute_result"
    }
   ],
   "source": [
    "supply_df.dtypes"
   ]
  },
  {
   "cell_type": "code",
   "execution_count": 42,
   "id": "360bd8c6",
   "metadata": {},
   "outputs": [
    {
     "name": "stdout",
     "output_type": "stream",
     "text": [
      "         0   1   2\n",
      "0       00  00  00\n",
      "1       00  05  00\n",
      "2       00  10  00\n",
      "3       00  15  00\n",
      "4       00  20  00\n",
      "...     ..  ..  ..\n",
      "412951  23  35  00\n",
      "412952  23  40  00\n",
      "412953  23  45  00\n",
      "412954  23  50  00\n",
      "412955  23  55  00\n",
      "\n",
      "[412956 rows x 3 columns]\n"
     ]
    }
   ],
   "source": [
    "baby_df = supply_df['Time'].str.split(\":\", expand=True)\n",
    "print(baby_df)"
   ]
  },
  {
   "cell_type": "code",
   "execution_count": 44,
   "id": "26a86309",
   "metadata": {},
   "outputs": [],
   "source": [
    "baby_df[0] = baby_df[0].astype(int)\n",
    "baby_df[1] = baby_df[1].astype(int)"
   ]
  },
  {
   "cell_type": "code",
   "execution_count": 45,
   "id": "ed882654",
   "metadata": {},
   "outputs": [],
   "source": [
    "baby_df= baby_df.drop([2],1)"
   ]
  },
  {
   "cell_type": "code",
   "execution_count": 46,
   "id": "3828c089",
   "metadata": {},
   "outputs": [
    {
     "data": {
      "text/plain": [
       "0    int64\n",
       "1    int64\n",
       "dtype: object"
      ]
     },
     "execution_count": 46,
     "metadata": {},
     "output_type": "execute_result"
    }
   ],
   "source": [
    "baby_df.dtypes"
   ]
  },
  {
   "cell_type": "code",
   "execution_count": 54,
   "id": "42ae6dff",
   "metadata": {},
   "outputs": [],
   "source": [
    "baby_df = baby_df.rename(columns={baby_df.columns[0]: 'Hours'})\n",
    "baby_df = baby_df.rename(columns={baby_df.columns[1]: 'Minutes'})"
   ]
  },
  {
   "cell_type": "code",
   "execution_count": 55,
   "id": "8664aafa",
   "metadata": {},
   "outputs": [
    {
     "data": {
      "text/html": [
       "<div>\n",
       "<style scoped>\n",
       "    .dataframe tbody tr th:only-of-type {\n",
       "        vertical-align: middle;\n",
       "    }\n",
       "\n",
       "    .dataframe tbody tr th {\n",
       "        vertical-align: top;\n",
       "    }\n",
       "\n",
       "    .dataframe thead th {\n",
       "        text-align: right;\n",
       "    }\n",
       "</style>\n",
       "<table border=\"1\" class=\"dataframe\">\n",
       "  <thead>\n",
       "    <tr style=\"text-align: right;\">\n",
       "      <th></th>\n",
       "      <th>Hours</th>\n",
       "      <th>Minutes</th>\n",
       "    </tr>\n",
       "  </thead>\n",
       "  <tbody>\n",
       "    <tr>\n",
       "      <th>0</th>\n",
       "      <td>0</td>\n",
       "      <td>0</td>\n",
       "    </tr>\n",
       "    <tr>\n",
       "      <th>1</th>\n",
       "      <td>0</td>\n",
       "      <td>5</td>\n",
       "    </tr>\n",
       "    <tr>\n",
       "      <th>2</th>\n",
       "      <td>0</td>\n",
       "      <td>10</td>\n",
       "    </tr>\n",
       "    <tr>\n",
       "      <th>3</th>\n",
       "      <td>0</td>\n",
       "      <td>15</td>\n",
       "    </tr>\n",
       "    <tr>\n",
       "      <th>4</th>\n",
       "      <td>0</td>\n",
       "      <td>20</td>\n",
       "    </tr>\n",
       "  </tbody>\n",
       "</table>\n",
       "</div>"
      ],
      "text/plain": [
       "   Hours  Minutes\n",
       "0      0        0\n",
       "1      0        5\n",
       "2      0       10\n",
       "3      0       15\n",
       "4      0       20"
      ]
     },
     "execution_count": 55,
     "metadata": {},
     "output_type": "execute_result"
    }
   ],
   "source": [
    "baby_df.head()"
   ]
  },
  {
   "cell_type": "code",
   "execution_count": 58,
   "id": "bfa588a5",
   "metadata": {},
   "outputs": [],
   "source": [
    "final_df = pd.merge(baby_df, supply_df, left_index=True, right_index=True, how='outer')"
   ]
  },
  {
   "cell_type": "code",
   "execution_count": 59,
   "id": "aba6237d",
   "metadata": {},
   "outputs": [
    {
     "data": {
      "text/plain": [
       "Hours            int64\n",
       "Minutes          int64\n",
       "Natural gas    float64\n",
       "Date             int64\n",
       "Time            object\n",
       "dtype: object"
      ]
     },
     "execution_count": 59,
     "metadata": {},
     "output_type": "execute_result"
    }
   ],
   "source": [
    "final_df.dtypes"
   ]
  },
  {
   "cell_type": "code",
   "execution_count": 60,
   "id": "30e1768e",
   "metadata": {},
   "outputs": [],
   "source": [
    "final_df= final_df.drop(['Time'],1)"
   ]
  },
  {
   "cell_type": "code",
   "execution_count": 61,
   "id": "9ca03f6c",
   "metadata": {},
   "outputs": [
    {
     "data": {
      "text/plain": [
       "412956"
      ]
     },
     "execution_count": 61,
     "metadata": {},
     "output_type": "execute_result"
    }
   ],
   "source": [
    "len(final_df)"
   ]
  },
  {
   "cell_type": "code",
   "execution_count": 62,
   "id": "5351ef92",
   "metadata": {},
   "outputs": [],
   "source": [
    "%matplotlib inline\n",
    "import matplotlib.pyplot as plt\n",
    "import numpy as np\n",
    "import pandas as pd"
   ]
  },
  {
   "cell_type": "code",
   "execution_count": 66,
   "id": "850a5dc1",
   "metadata": {},
   "outputs": [
    {
     "data": {
      "text/html": [
       "<div>\n",
       "<style scoped>\n",
       "    .dataframe tbody tr th:only-of-type {\n",
       "        vertical-align: middle;\n",
       "    }\n",
       "\n",
       "    .dataframe tbody tr th {\n",
       "        vertical-align: top;\n",
       "    }\n",
       "\n",
       "    .dataframe thead th {\n",
       "        text-align: right;\n",
       "    }\n",
       "</style>\n",
       "<table border=\"1\" class=\"dataframe\">\n",
       "  <thead>\n",
       "    <tr style=\"text-align: right;\">\n",
       "      <th></th>\n",
       "      <th>Hours</th>\n",
       "      <th>Minutes</th>\n",
       "      <th>Natural gas</th>\n",
       "      <th>Date</th>\n",
       "    </tr>\n",
       "  </thead>\n",
       "  <tbody>\n",
       "    <tr>\n",
       "      <th>0</th>\n",
       "      <td>0</td>\n",
       "      <td>0</td>\n",
       "      <td>8736.0</td>\n",
       "      <td>100</td>\n",
       "    </tr>\n",
       "    <tr>\n",
       "      <th>1</th>\n",
       "      <td>0</td>\n",
       "      <td>5</td>\n",
       "      <td>8722.0</td>\n",
       "      <td>100</td>\n",
       "    </tr>\n",
       "    <tr>\n",
       "      <th>2</th>\n",
       "      <td>0</td>\n",
       "      <td>10</td>\n",
       "      <td>8739.0</td>\n",
       "      <td>100</td>\n",
       "    </tr>\n",
       "    <tr>\n",
       "      <th>3</th>\n",
       "      <td>0</td>\n",
       "      <td>15</td>\n",
       "      <td>8696.0</td>\n",
       "      <td>100</td>\n",
       "    </tr>\n",
       "    <tr>\n",
       "      <th>4</th>\n",
       "      <td>0</td>\n",
       "      <td>20</td>\n",
       "      <td>8605.0</td>\n",
       "      <td>100</td>\n",
       "    </tr>\n",
       "    <tr>\n",
       "      <th>...</th>\n",
       "      <td>...</td>\n",
       "      <td>...</td>\n",
       "      <td>...</td>\n",
       "      <td>...</td>\n",
       "    </tr>\n",
       "    <tr>\n",
       "      <th>995</th>\n",
       "      <td>3</td>\n",
       "      <td>15</td>\n",
       "      <td>4991.0</td>\n",
       "      <td>104</td>\n",
       "    </tr>\n",
       "    <tr>\n",
       "      <th>996</th>\n",
       "      <td>3</td>\n",
       "      <td>20</td>\n",
       "      <td>4972.0</td>\n",
       "      <td>104</td>\n",
       "    </tr>\n",
       "    <tr>\n",
       "      <th>997</th>\n",
       "      <td>3</td>\n",
       "      <td>25</td>\n",
       "      <td>4975.0</td>\n",
       "      <td>104</td>\n",
       "    </tr>\n",
       "    <tr>\n",
       "      <th>998</th>\n",
       "      <td>3</td>\n",
       "      <td>30</td>\n",
       "      <td>4974.0</td>\n",
       "      <td>104</td>\n",
       "    </tr>\n",
       "    <tr>\n",
       "      <th>999</th>\n",
       "      <td>3</td>\n",
       "      <td>35</td>\n",
       "      <td>4975.0</td>\n",
       "      <td>104</td>\n",
       "    </tr>\n",
       "  </tbody>\n",
       "</table>\n",
       "<p>1000 rows × 4 columns</p>\n",
       "</div>"
      ],
      "text/plain": [
       "     Hours  Minutes  Natural gas  Date\n",
       "0        0        0       8736.0   100\n",
       "1        0        5       8722.0   100\n",
       "2        0       10       8739.0   100\n",
       "3        0       15       8696.0   100\n",
       "4        0       20       8605.0   100\n",
       "..     ...      ...          ...   ...\n",
       "995      3       15       4991.0   104\n",
       "996      3       20       4972.0   104\n",
       "997      3       25       4975.0   104\n",
       "998      3       30       4974.0   104\n",
       "999      3       35       4975.0   104\n",
       "\n",
       "[1000 rows x 4 columns]"
      ]
     },
     "execution_count": 66,
     "metadata": {},
     "output_type": "execute_result"
    }
   ],
   "source": [
    "final_df.head(1000)"
   ]
  },
  {
   "cell_type": "code",
   "execution_count": 65,
   "id": "603a1ed4",
   "metadata": {},
   "outputs": [
    {
     "data": {
      "image/png": "[encoded data removed]",
      "text/plain": [
       "<Figure size 432x288 with 4 Axes>"
      ]
     },
     "metadata": {
      "needs_background": "light"
     },
     "output_type": "display_data"
    }
   ],
   "source": [
    "axes = final_df.plot.line(subplots=True)\n"
   ]
  },
  {
   "cell_type": "code",
   "execution_count": 93,
   "id": "75898a67",
   "metadata": {},
   "outputs": [
    {
     "data": {
      "text/plain": [
       "0          0\n",
       "1          5\n",
       "2         10\n",
       "3         15\n",
       "4         20\n",
       "          ..\n",
       "412951    35\n",
       "412952    40\n",
       "412953    45\n",
       "412954    50\n",
       "412955    55\n",
       "Name: Minutes, Length: 412596, dtype: int64"
      ]
     },
     "execution_count": 93,
     "metadata": {},
     "output_type": "execute_result"
    }
   ],
   "source": [
    "(final_df['Minutes']).head(412596)"
   ]
  },
  {
   "cell_type": "code",
   "execution_count": 68,
   "id": "92b0be4e",
   "metadata": {},
   "outputs": [
    {
     "data": {
      "text/plain": [
       "True"
      ]
     },
     "execution_count": 68,
     "metadata": {},
     "output_type": "execute_result"
    }
   ],
   "source": [
    "(final_df['Natural gas'] < 0).any().any()"
   ]
  },
  {
   "cell_type": "code",
   "execution_count": 69,
   "id": "704ae019",
   "metadata": {},
   "outputs": [
    {
     "name": "stderr",
     "output_type": "stream",
     "text": [
      "<ipython-input-69-d0d7948091e5>:1: SettingWithCopyWarning: \n",
      "A value is trying to be set on a copy of a slice from a DataFrame\n",
      "\n",
      "See the caveats in the documentation: https://pandas.pydata.org/pandas-docs/stable/user_guide/indexing.html#returning-a-view-versus-a-copy\n",
      "  final_df['Natural gas'][final_df['Natural gas'] < 0] = 0\n"
     ]
    }
   ],
   "source": [
    "final_df['Natural gas'][final_df['Natural gas'] < 0] = 0"
   ]
  },
  {
   "cell_type": "code",
   "execution_count": 70,
   "id": "4c833eee",
   "metadata": {},
   "outputs": [
    {
     "data": {
      "image/png": "[encoded data removed]",
      "text/plain": [
       "<Figure size 432x288 with 4 Axes>"
      ]
     },
     "metadata": {
      "needs_background": "light"
     },
     "output_type": "display_data"
    }
   ],
   "source": [
    "axes = final_df.plot.line(subplots=True)"
   ]
  },
  {
   "cell_type": "code",
   "execution_count": 71,
   "id": "13899090",
   "metadata": {},
   "outputs": [
    {
     "data": {
      "text/html": [
       "<div>\n",
       "<style scoped>\n",
       "    .dataframe tbody tr th:only-of-type {\n",
       "        vertical-align: middle;\n",
       "    }\n",
       "\n",
       "    .dataframe tbody tr th {\n",
       "        vertical-align: top;\n",
       "    }\n",
       "\n",
       "    .dataframe thead th {\n",
       "        text-align: right;\n",
       "    }\n",
       "</style>\n",
       "<table border=\"1\" class=\"dataframe\">\n",
       "  <thead>\n",
       "    <tr style=\"text-align: right;\">\n",
       "      <th></th>\n",
       "      <th>Hours</th>\n",
       "      <th>Minutes</th>\n",
       "      <th>Natural gas</th>\n",
       "      <th>Date</th>\n",
       "    </tr>\n",
       "  </thead>\n",
       "  <tbody>\n",
       "  </tbody>\n",
       "</table>\n",
       "</div>"
      ],
      "text/plain": [
       "Empty DataFrame\n",
       "Columns: [Hours, Minutes, Natural gas, Date]\n",
       "Index: []"
      ]
     },
     "execution_count": 71,
     "metadata": {},
     "output_type": "execute_result"
    }
   ],
   "source": [
    "final_df.loc[final_df['Natural gas']== 50]"
   ]
  },
  {
   "cell_type": "code",
   "execution_count": 94,
   "id": "b49d1adf",
   "metadata": {},
   "outputs": [],
   "source": [
    "# Create our features\n",
    "X = final_df.drop(\"Natural gas\", axis = 1)\n",
    "\n",
    "# Create our target\n",
    "y = final_df.loc[:, 'Natural gas'].copy()"
   ]
  },
  {
   "cell_type": "code",
   "execution_count": 95,
   "id": "9d49c1f7",
   "metadata": {},
   "outputs": [],
   "source": [
    "final_df = final_df.dropna()"
   ]
  },
  {
   "cell_type": "code",
   "execution_count": 96,
   "id": "f975f598",
   "metadata": {},
   "outputs": [],
   "source": [
    "from sklearn.model_selection import train_test_split\n",
    "\n",
    "X_train, X_test, y_train, y_test = train_test_split(X, y, random_state=42)"
   ]
  },
  {
   "cell_type": "code",
   "execution_count": 97,
   "id": "d4dad9f7",
   "metadata": {},
   "outputs": [],
   "source": [
    "scaler = StandardScaler()\n",
    "\n",
    "# Fit the StandardScaler\n",
    "X_scaler = scaler.fit(X_train)\n",
    "\n",
    "# Scale the data\n",
    "X_train_scaled = X_scaler.transform(X_train)\n",
    "X_test_scaled = X_scaler.transform(X_test)"
   ]
  },
  {
   "cell_type": "code",
   "execution_count": 98,
   "id": "d1f1c199",
   "metadata": {},
   "outputs": [],
   "source": [
    "from sklearn.linear_model import LinearRegression\n",
    "model = LinearRegression()"
   ]
  },
  {
   "cell_type": "code",
   "execution_count": 99,
   "id": "78c63697",
   "metadata": {},
   "outputs": [
    {
     "data": {
      "text/plain": [
       "False"
      ]
     },
     "execution_count": 99,
     "metadata": {},
     "output_type": "execute_result"
    }
   ],
   "source": [
    "final_df.isnull().values.any()"
   ]
  },
  {
   "cell_type": "code",
   "execution_count": 100,
   "id": "329a5685",
   "metadata": {},
   "outputs": [
    {
     "name": "stdout",
     "output_type": "stream",
     "text": [
      "0\n"
     ]
    }
   ],
   "source": [
    "count = np.isinf(final_df).values.sum()\n",
    "print(count)"
   ]
  },
  {
   "cell_type": "code",
   "execution_count": 101,
   "id": "01a73933",
   "metadata": {},
   "outputs": [],
   "source": [
    "model.fit(X_train, y_train)\n",
    "training_score = model.score(X_train, y_train)\n",
    "testing_score = model.score(X_test, y_test)"
   ]
  },
  {
   "cell_type": "code",
   "execution_count": 102,
   "id": "97b00243",
   "metadata": {},
   "outputs": [
    {
     "data": {
      "image/png": "[encoded data removed]",
      "text/plain": [
       "<Figure size 432x288 with 1 Axes>"
      ]
     },
     "metadata": {
      "needs_background": "light"
     },
     "output_type": "display_data"
    }
   ],
   "source": [
    "plt.scatter(model.predict(X_train), model.predict(X_train) - y_train, c=\"red\", label=\"Training Data\")\n",
    "plt.scatter(model.predict(X_test), model.predict(X_test) - y_test, c=\"orange\", label=\"Testing Data\")\n",
    "plt.legend()\n",
    "plt.hlines(y=0, xmin=6000, xmax=1500)\n",
    "plt.title(\"Residual Plot\")\n",
    "plt.show()"
   ]
  },
  {
   "cell_type": "code",
   "execution_count": null,
   "id": "d4c1e136",
   "metadata": {},
   "outputs": [],
   "source": []
  }
 ],
 "metadata": {
  "kernelspec": {
   "display_name": "Python 3",
   "language": "python",
   "name": "python3"
  },
  "language_info": {
   "codemirror_mode": {
    "name": "ipython",
    "version": 3
   },
   "file_extension": ".py",
   "mimetype": "text/x-python",
   "name": "python",
   "nbconvert_exporter": "python",
   "pygments_lexer": "ipython3",
   "version": "3.8.8"
  }
 },
 "nbformat": 4,
 "nbformat_minor": 5
}
