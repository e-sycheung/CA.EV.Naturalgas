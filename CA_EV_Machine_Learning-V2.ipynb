{
 "cells": [
  {
   "cell_type": "code",
   "execution_count": 98,
   "id": "ab99928a",
   "metadata": {},
   "outputs": [
    {
     "data": {
      "text/html": [
       "<div>\n",
       "<style scoped>\n",
       "    .dataframe tbody tr th:only-of-type {\n",
       "        vertical-align: middle;\n",
       "    }\n",
       "\n",
       "    .dataframe tbody tr th {\n",
       "        vertical-align: top;\n",
       "    }\n",
       "\n",
       "    .dataframe thead th {\n",
       "        text-align: right;\n",
       "    }\n",
       "</style>\n",
       "<table border=\"1\" class=\"dataframe\">\n",
       "  <thead>\n",
       "    <tr style=\"text-align: right;\">\n",
       "      <th></th>\n",
       "      <th>Renewables</th>\n",
       "      <th>Natural gas</th>\n",
       "      <th>Large hydro</th>\n",
       "      <th>Imports</th>\n",
       "      <th>Batteries</th>\n",
       "      <th>Nuclear</th>\n",
       "      <th>Coal</th>\n",
       "      <th>Other</th>\n",
       "      <th>Date</th>\n",
       "      <th>Time</th>\n",
       "      <th>DateTime</th>\n",
       "    </tr>\n",
       "  </thead>\n",
       "  <tbody>\n",
       "    <tr>\n",
       "      <th>0</th>\n",
       "      <td>50036.0</td>\n",
       "      <td>5568.0</td>\n",
       "      <td>78.0</td>\n",
       "      <td>2353.0</td>\n",
       "      <td>-447.0</td>\n",
       "      <td>2265.0</td>\n",
       "      <td>21.0</td>\n",
       "      <td>0.0</td>\n",
       "      <td>7/5/21</td>\n",
       "      <td>11:50:00</td>\n",
       "      <td>7/5/21 11:50</td>\n",
       "    </tr>\n",
       "    <tr>\n",
       "      <th>1</th>\n",
       "      <td>8695.0</td>\n",
       "      <td>26540.0</td>\n",
       "      <td>5081.0</td>\n",
       "      <td>4575.0</td>\n",
       "      <td>119.0</td>\n",
       "      <td>2248.0</td>\n",
       "      <td>21.0</td>\n",
       "      <td>0.0</td>\n",
       "      <td>8/18/20</td>\n",
       "      <td>16:25:00</td>\n",
       "      <td>8/18/20 16:25</td>\n",
       "    </tr>\n",
       "    <tr>\n",
       "      <th>2</th>\n",
       "      <td>9301.0</td>\n",
       "      <td>26159.0</td>\n",
       "      <td>4408.0</td>\n",
       "      <td>5035.0</td>\n",
       "      <td>67.0</td>\n",
       "      <td>2250.0</td>\n",
       "      <td>23.0</td>\n",
       "      <td>0.0</td>\n",
       "      <td>8/18/20</td>\n",
       "      <td>15:55:00</td>\n",
       "      <td>8/18/20 15:55</td>\n",
       "    </tr>\n",
       "    <tr>\n",
       "      <th>3</th>\n",
       "      <td>9343.0</td>\n",
       "      <td>26132.0</td>\n",
       "      <td>4382.0</td>\n",
       "      <td>5032.0</td>\n",
       "      <td>49.0</td>\n",
       "      <td>2250.0</td>\n",
       "      <td>22.0</td>\n",
       "      <td>0.0</td>\n",
       "      <td>8/18/20</td>\n",
       "      <td>15:50:00</td>\n",
       "      <td>8/18/20 15:50</td>\n",
       "    </tr>\n",
       "    <tr>\n",
       "      <th>4</th>\n",
       "      <td>9283.0</td>\n",
       "      <td>26015.0</td>\n",
       "      <td>4300.0</td>\n",
       "      <td>5278.0</td>\n",
       "      <td>63.0</td>\n",
       "      <td>2248.0</td>\n",
       "      <td>22.0</td>\n",
       "      <td>0.0</td>\n",
       "      <td>8/18/20</td>\n",
       "      <td>15:40:00</td>\n",
       "      <td>8/18/20 15:40</td>\n",
       "    </tr>\n",
       "  </tbody>\n",
       "</table>\n",
       "</div>"
      ],
      "text/plain": [
       "   Renewables  Natural gas  Large hydro  Imports  Batteries  Nuclear  Coal  \\\n",
       "0     50036.0       5568.0         78.0   2353.0     -447.0   2265.0  21.0   \n",
       "1      8695.0      26540.0       5081.0   4575.0      119.0   2248.0  21.0   \n",
       "2      9301.0      26159.0       4408.0   5035.0       67.0   2250.0  23.0   \n",
       "3      9343.0      26132.0       4382.0   5032.0       49.0   2250.0  22.0   \n",
       "4      9283.0      26015.0       4300.0   5278.0       63.0   2248.0  22.0   \n",
       "\n",
       "   Other     Date      Time       DateTime  \n",
       "0    0.0   7/5/21  11:50:00   7/5/21 11:50  \n",
       "1    0.0  8/18/20  16:25:00  8/18/20 16:25  \n",
       "2    0.0  8/18/20  15:55:00  8/18/20 15:55  \n",
       "3    0.0  8/18/20  15:50:00  8/18/20 15:50  \n",
       "4    0.0  8/18/20  15:40:00  8/18/20 15:40  "
      ]
     },
     "execution_count": 98,
     "metadata": {},
     "output_type": "execute_result"
    }
   ],
   "source": [
    "# Initial imports\n",
    "# Import our dependencies\n",
    "from sklearn.model_selection import train_test_split\n",
    "from sklearn.preprocessing import StandardScaler\n",
    "from sklearn.linear_model import LogisticRegression\n",
    "from sklearn.metrics import accuracy_score\n",
    "import pandas as pd\n",
    "import tensorflow as tf\n",
    "\n",
    "#  Import and read the file.\n",
    "import pandas as pd \n",
    "supply_df = pd.read_csv(\"./CAISO-ALL-SUPPLY-DATA.csv\")\n",
    "supply_df.head()\n",
    "\n",
    "#Add in a column for MW of demand of cars. Do the absolute value for the demand.create dummy value to create everything to \n",
    "#negative and postive"
   ]
  },
  {
   "cell_type": "code",
   "execution_count": 99,
   "id": "f029d0de",
   "metadata": {},
   "outputs": [],
   "source": [
    "supply_df['Sum'] = supply_df['Renewables'] + supply_df['Large hydro'] + supply_df['Imports'] + supply_df['Batteries'] + supply_df['Nuclear'] + supply_df['Coal'] + supply_df['Other'] + supply_df['Natural gas']"
   ]
  },
  {
   "cell_type": "code",
   "execution_count": 100,
   "id": "5afbbc72",
   "metadata": {},
   "outputs": [],
   "source": [
    "weird_df = supply_df['Sum'][supply_df['Sum'] > 90000]"
   ]
  },
  {
   "cell_type": "code",
   "execution_count": 101,
   "id": "91918503",
   "metadata": {},
   "outputs": [
    {
     "data": {
      "text/plain": [
       "Series([], Name: Sum, dtype: float64)"
      ]
     },
     "execution_count": 101,
     "metadata": {},
     "output_type": "execute_result"
    }
   ],
   "source": [
    "weird_df.head()"
   ]
  },
  {
   "cell_type": "code",
   "execution_count": 102,
   "id": "848348a2",
   "metadata": {},
   "outputs": [
    {
     "data": {
      "text/html": [
       "<div>\n",
       "<style scoped>\n",
       "    .dataframe tbody tr th:only-of-type {\n",
       "        vertical-align: middle;\n",
       "    }\n",
       "\n",
       "    .dataframe tbody tr th {\n",
       "        vertical-align: top;\n",
       "    }\n",
       "\n",
       "    .dataframe thead th {\n",
       "        text-align: right;\n",
       "    }\n",
       "</style>\n",
       "<table border=\"1\" class=\"dataframe\">\n",
       "  <thead>\n",
       "    <tr style=\"text-align: right;\">\n",
       "      <th></th>\n",
       "      <th>Natural gas</th>\n",
       "      <th>Date</th>\n",
       "      <th>Time</th>\n",
       "      <th>Sum</th>\n",
       "    </tr>\n",
       "  </thead>\n",
       "  <tbody>\n",
       "    <tr>\n",
       "      <th>0</th>\n",
       "      <td>5568.0</td>\n",
       "      <td>7/5/21</td>\n",
       "      <td>11:50:00</td>\n",
       "      <td>59874.0</td>\n",
       "    </tr>\n",
       "    <tr>\n",
       "      <th>1</th>\n",
       "      <td>26540.0</td>\n",
       "      <td>8/18/20</td>\n",
       "      <td>16:25:00</td>\n",
       "      <td>47279.0</td>\n",
       "    </tr>\n",
       "    <tr>\n",
       "      <th>2</th>\n",
       "      <td>26159.0</td>\n",
       "      <td>8/18/20</td>\n",
       "      <td>15:55:00</td>\n",
       "      <td>47243.0</td>\n",
       "    </tr>\n",
       "    <tr>\n",
       "      <th>3</th>\n",
       "      <td>26132.0</td>\n",
       "      <td>8/18/20</td>\n",
       "      <td>15:50:00</td>\n",
       "      <td>47210.0</td>\n",
       "    </tr>\n",
       "    <tr>\n",
       "      <th>4</th>\n",
       "      <td>26015.0</td>\n",
       "      <td>8/18/20</td>\n",
       "      <td>15:40:00</td>\n",
       "      <td>47209.0</td>\n",
       "    </tr>\n",
       "    <tr>\n",
       "      <th>...</th>\n",
       "      <td>...</td>\n",
       "      <td>...</td>\n",
       "      <td>...</td>\n",
       "      <td>...</td>\n",
       "    </tr>\n",
       "    <tr>\n",
       "      <th>995</th>\n",
       "      <td>19813.0</td>\n",
       "      <td>8/26/19</td>\n",
       "      <td>18:00:00</td>\n",
       "      <td>43499.0</td>\n",
       "    </tr>\n",
       "    <tr>\n",
       "      <th>996</th>\n",
       "      <td>19813.0</td>\n",
       "      <td>8/27/19</td>\n",
       "      <td>18:00:00</td>\n",
       "      <td>43499.0</td>\n",
       "    </tr>\n",
       "    <tr>\n",
       "      <th>997</th>\n",
       "      <td>23554.0</td>\n",
       "      <td>8/15/20</td>\n",
       "      <td>15:20:00</td>\n",
       "      <td>43499.0</td>\n",
       "    </tr>\n",
       "    <tr>\n",
       "      <th>998</th>\n",
       "      <td>18174.0</td>\n",
       "      <td>7/27/18</td>\n",
       "      <td>17:40:00</td>\n",
       "      <td>43497.0</td>\n",
       "    </tr>\n",
       "    <tr>\n",
       "      <th>999</th>\n",
       "      <td>15971.0</td>\n",
       "      <td>8/10/18</td>\n",
       "      <td>16:00:00</td>\n",
       "      <td>43494.0</td>\n",
       "    </tr>\n",
       "  </tbody>\n",
       "</table>\n",
       "<p>1000 rows × 4 columns</p>\n",
       "</div>"
      ],
      "text/plain": [
       "     Natural gas     Date      Time      Sum\n",
       "0         5568.0   7/5/21  11:50:00  59874.0\n",
       "1        26540.0  8/18/20  16:25:00  47279.0\n",
       "2        26159.0  8/18/20  15:55:00  47243.0\n",
       "3        26132.0  8/18/20  15:50:00  47210.0\n",
       "4        26015.0  8/18/20  15:40:00  47209.0\n",
       "..           ...      ...       ...      ...\n",
       "995      19813.0  8/26/19  18:00:00  43499.0\n",
       "996      19813.0  8/27/19  18:00:00  43499.0\n",
       "997      23554.0  8/15/20  15:20:00  43499.0\n",
       "998      18174.0  7/27/18  17:40:00  43497.0\n",
       "999      15971.0  8/10/18  16:00:00  43494.0\n",
       "\n",
       "[1000 rows x 4 columns]"
      ]
     },
     "execution_count": 102,
     "metadata": {},
     "output_type": "execute_result"
    }
   ],
   "source": [
    "supply_df= supply_df.drop(['Renewables', 'Batteries', 'Large hydro', 'Imports', 'Other', 'Nuclear', 'Coal', 'DateTime'],1)\n",
    "supply_df.head(1000)"
   ]
  },
  {
   "cell_type": "code",
   "execution_count": 103,
   "id": "ad26a430",
   "metadata": {},
   "outputs": [],
   "source": [
    "supply_df['Date'] = pd.to_datetime(supply_df['Date'])"
   ]
  },
  {
   "cell_type": "code",
   "execution_count": 104,
   "id": "be12812e",
   "metadata": {},
   "outputs": [],
   "source": [
    "def fun(datetimething):\n",
    "     return datetimething.timetuple().tm_yday"
   ]
  },
  {
   "cell_type": "code",
   "execution_count": 105,
   "id": "427494ca",
   "metadata": {},
   "outputs": [
    {
     "data": {
      "text/html": [
       "<div>\n",
       "<style scoped>\n",
       "    .dataframe tbody tr th:only-of-type {\n",
       "        vertical-align: middle;\n",
       "    }\n",
       "\n",
       "    .dataframe tbody tr th {\n",
       "        vertical-align: top;\n",
       "    }\n",
       "\n",
       "    .dataframe thead th {\n",
       "        text-align: right;\n",
       "    }\n",
       "</style>\n",
       "<table border=\"1\" class=\"dataframe\">\n",
       "  <thead>\n",
       "    <tr style=\"text-align: right;\">\n",
       "      <th></th>\n",
       "      <th>Natural gas</th>\n",
       "      <th>Date</th>\n",
       "      <th>Time</th>\n",
       "      <th>Sum</th>\n",
       "    </tr>\n",
       "  </thead>\n",
       "  <tbody>\n",
       "    <tr>\n",
       "      <th>0</th>\n",
       "      <td>5568.0</td>\n",
       "      <td>186</td>\n",
       "      <td>11:50:00</td>\n",
       "      <td>59874.0</td>\n",
       "    </tr>\n",
       "    <tr>\n",
       "      <th>1</th>\n",
       "      <td>26540.0</td>\n",
       "      <td>231</td>\n",
       "      <td>16:25:00</td>\n",
       "      <td>47279.0</td>\n",
       "    </tr>\n",
       "    <tr>\n",
       "      <th>2</th>\n",
       "      <td>26159.0</td>\n",
       "      <td>231</td>\n",
       "      <td>15:55:00</td>\n",
       "      <td>47243.0</td>\n",
       "    </tr>\n",
       "    <tr>\n",
       "      <th>3</th>\n",
       "      <td>26132.0</td>\n",
       "      <td>231</td>\n",
       "      <td>15:50:00</td>\n",
       "      <td>47210.0</td>\n",
       "    </tr>\n",
       "    <tr>\n",
       "      <th>4</th>\n",
       "      <td>26015.0</td>\n",
       "      <td>231</td>\n",
       "      <td>15:40:00</td>\n",
       "      <td>47209.0</td>\n",
       "    </tr>\n",
       "    <tr>\n",
       "      <th>...</th>\n",
       "      <td>...</td>\n",
       "      <td>...</td>\n",
       "      <td>...</td>\n",
       "      <td>...</td>\n",
       "    </tr>\n",
       "    <tr>\n",
       "      <th>995</th>\n",
       "      <td>19813.0</td>\n",
       "      <td>238</td>\n",
       "      <td>18:00:00</td>\n",
       "      <td>43499.0</td>\n",
       "    </tr>\n",
       "    <tr>\n",
       "      <th>996</th>\n",
       "      <td>19813.0</td>\n",
       "      <td>239</td>\n",
       "      <td>18:00:00</td>\n",
       "      <td>43499.0</td>\n",
       "    </tr>\n",
       "    <tr>\n",
       "      <th>997</th>\n",
       "      <td>23554.0</td>\n",
       "      <td>228</td>\n",
       "      <td>15:20:00</td>\n",
       "      <td>43499.0</td>\n",
       "    </tr>\n",
       "    <tr>\n",
       "      <th>998</th>\n",
       "      <td>18174.0</td>\n",
       "      <td>208</td>\n",
       "      <td>17:40:00</td>\n",
       "      <td>43497.0</td>\n",
       "    </tr>\n",
       "    <tr>\n",
       "      <th>999</th>\n",
       "      <td>15971.0</td>\n",
       "      <td>222</td>\n",
       "      <td>16:00:00</td>\n",
       "      <td>43494.0</td>\n",
       "    </tr>\n",
       "  </tbody>\n",
       "</table>\n",
       "<p>1000 rows × 4 columns</p>\n",
       "</div>"
      ],
      "text/plain": [
       "     Natural gas  Date      Time      Sum\n",
       "0         5568.0   186  11:50:00  59874.0\n",
       "1        26540.0   231  16:25:00  47279.0\n",
       "2        26159.0   231  15:55:00  47243.0\n",
       "3        26132.0   231  15:50:00  47210.0\n",
       "4        26015.0   231  15:40:00  47209.0\n",
       "..           ...   ...       ...      ...\n",
       "995      19813.0   238  18:00:00  43499.0\n",
       "996      19813.0   239  18:00:00  43499.0\n",
       "997      23554.0   228  15:20:00  43499.0\n",
       "998      18174.0   208  17:40:00  43497.0\n",
       "999      15971.0   222  16:00:00  43494.0\n",
       "\n",
       "[1000 rows x 4 columns]"
      ]
     },
     "execution_count": 105,
     "metadata": {},
     "output_type": "execute_result"
    }
   ],
   "source": [
    "supply_df['Date'] = supply_df['Date'].apply(fun)\n",
    "supply_df.head(1000)"
   ]
  },
  {
   "cell_type": "code",
   "execution_count": 106,
   "id": "e96c0bf0",
   "metadata": {},
   "outputs": [
    {
     "data": {
      "text/plain": [
       "Natural gas    float64\n",
       "Date             int64\n",
       "Time            object\n",
       "Sum            float64\n",
       "dtype: object"
      ]
     },
     "execution_count": 106,
     "metadata": {},
     "output_type": "execute_result"
    }
   ],
   "source": [
    "supply_df.dtypes"
   ]
  },
  {
   "cell_type": "code",
   "execution_count": 107,
   "id": "2efbcc2a",
   "metadata": {},
   "outputs": [
    {
     "name": "stdout",
     "output_type": "stream",
     "text": [
      "         0   1   2\n",
      "0       11  50  00\n",
      "1       16  25  00\n",
      "2       15  55  00\n",
      "3       15  50  00\n",
      "4       15  40  00\n",
      "...     ..  ..  ..\n",
      "412947   2  35  00\n",
      "412948   2  40  00\n",
      "412949   2  45  00\n",
      "412950   2  50  00\n",
      "412951   2  55  00\n",
      "\n",
      "[412952 rows x 3 columns]\n"
     ]
    }
   ],
   "source": [
    "baby_df = supply_df['Time'].str.split(\":\", expand=True)\n",
    "print(baby_df)"
   ]
  },
  {
   "cell_type": "code",
   "execution_count": 108,
   "id": "072f1b5f",
   "metadata": {},
   "outputs": [],
   "source": [
    "baby_df[0] = baby_df[0].astype(int)\n",
    "baby_df[1] = baby_df[1].astype(int)"
   ]
  },
  {
   "cell_type": "code",
   "execution_count": 109,
   "id": "077f3c65",
   "metadata": {},
   "outputs": [],
   "source": [
    "baby_df= baby_df.drop([2],1)"
   ]
  },
  {
   "cell_type": "code",
   "execution_count": 110,
   "id": "ce65cb6e",
   "metadata": {},
   "outputs": [
    {
     "data": {
      "text/plain": [
       "0    int64\n",
       "1    int64\n",
       "dtype: object"
      ]
     },
     "execution_count": 110,
     "metadata": {},
     "output_type": "execute_result"
    }
   ],
   "source": [
    "baby_df.dtypes"
   ]
  },
  {
   "cell_type": "code",
   "execution_count": 111,
   "id": "f0dcf1cf",
   "metadata": {},
   "outputs": [],
   "source": [
    "baby_df = baby_df.rename(columns={baby_df.columns[0]: 'Hours'})\n",
    "baby_df = baby_df.rename(columns={baby_df.columns[1]: 'Minutes'})"
   ]
  },
  {
   "cell_type": "code",
   "execution_count": 112,
   "id": "a690aa6d",
   "metadata": {},
   "outputs": [
    {
     "data": {
      "text/html": [
       "<div>\n",
       "<style scoped>\n",
       "    .dataframe tbody tr th:only-of-type {\n",
       "        vertical-align: middle;\n",
       "    }\n",
       "\n",
       "    .dataframe tbody tr th {\n",
       "        vertical-align: top;\n",
       "    }\n",
       "\n",
       "    .dataframe thead th {\n",
       "        text-align: right;\n",
       "    }\n",
       "</style>\n",
       "<table border=\"1\" class=\"dataframe\">\n",
       "  <thead>\n",
       "    <tr style=\"text-align: right;\">\n",
       "      <th></th>\n",
       "      <th>Hours</th>\n",
       "      <th>Minutes</th>\n",
       "    </tr>\n",
       "  </thead>\n",
       "  <tbody>\n",
       "    <tr>\n",
       "      <th>0</th>\n",
       "      <td>11</td>\n",
       "      <td>50</td>\n",
       "    </tr>\n",
       "    <tr>\n",
       "      <th>1</th>\n",
       "      <td>16</td>\n",
       "      <td>25</td>\n",
       "    </tr>\n",
       "    <tr>\n",
       "      <th>2</th>\n",
       "      <td>15</td>\n",
       "      <td>55</td>\n",
       "    </tr>\n",
       "    <tr>\n",
       "      <th>3</th>\n",
       "      <td>15</td>\n",
       "      <td>50</td>\n",
       "    </tr>\n",
       "    <tr>\n",
       "      <th>4</th>\n",
       "      <td>15</td>\n",
       "      <td>40</td>\n",
       "    </tr>\n",
       "  </tbody>\n",
       "</table>\n",
       "</div>"
      ],
      "text/plain": [
       "   Hours  Minutes\n",
       "0     11       50\n",
       "1     16       25\n",
       "2     15       55\n",
       "3     15       50\n",
       "4     15       40"
      ]
     },
     "execution_count": 112,
     "metadata": {},
     "output_type": "execute_result"
    }
   ],
   "source": [
    "baby_df.head()"
   ]
  },
  {
   "cell_type": "code",
   "execution_count": 113,
   "id": "7a5b0de6",
   "metadata": {},
   "outputs": [],
   "source": [
    "final_df = pd.merge(baby_df, supply_df, left_index=True, right_index=True, how='outer')"
   ]
  },
  {
   "cell_type": "code",
   "execution_count": 119,
   "id": "aba6237d",
   "metadata": {},
   "outputs": [
    {
     "data": {
      "text/html": [
       "<div>\n",
       "<style scoped>\n",
       "    .dataframe tbody tr th:only-of-type {\n",
       "        vertical-align: middle;\n",
       "    }\n",
       "\n",
       "    .dataframe tbody tr th {\n",
       "        vertical-align: top;\n",
       "    }\n",
       "\n",
       "    .dataframe thead th {\n",
       "        text-align: right;\n",
       "    }\n",
       "</style>\n",
       "<table border=\"1\" class=\"dataframe\">\n",
       "  <thead>\n",
       "    <tr style=\"text-align: right;\">\n",
       "      <th></th>\n",
       "      <th>Hours</th>\n",
       "      <th>Minutes</th>\n",
       "      <th>Natural gas</th>\n",
       "      <th>Date</th>\n",
       "      <th>Sum</th>\n",
       "    </tr>\n",
       "  </thead>\n",
       "  <tbody>\n",
       "    <tr>\n",
       "      <th>0</th>\n",
       "      <td>11</td>\n",
       "      <td>50</td>\n",
       "      <td>5568.0</td>\n",
       "      <td>186</td>\n",
       "      <td>59874.0</td>\n",
       "    </tr>\n",
       "    <tr>\n",
       "      <th>1</th>\n",
       "      <td>16</td>\n",
       "      <td>25</td>\n",
       "      <td>26540.0</td>\n",
       "      <td>231</td>\n",
       "      <td>47279.0</td>\n",
       "    </tr>\n",
       "    <tr>\n",
       "      <th>2</th>\n",
       "      <td>15</td>\n",
       "      <td>55</td>\n",
       "      <td>26159.0</td>\n",
       "      <td>231</td>\n",
       "      <td>47243.0</td>\n",
       "    </tr>\n",
       "    <tr>\n",
       "      <th>3</th>\n",
       "      <td>15</td>\n",
       "      <td>50</td>\n",
       "      <td>26132.0</td>\n",
       "      <td>231</td>\n",
       "      <td>47210.0</td>\n",
       "    </tr>\n",
       "    <tr>\n",
       "      <th>4</th>\n",
       "      <td>15</td>\n",
       "      <td>40</td>\n",
       "      <td>26015.0</td>\n",
       "      <td>231</td>\n",
       "      <td>47209.0</td>\n",
       "    </tr>\n",
       "  </tbody>\n",
       "</table>\n",
       "</div>"
      ],
      "text/plain": [
       "   Hours  Minutes  Natural gas  Date      Sum\n",
       "0     11       50       5568.0   186  59874.0\n",
       "1     16       25      26540.0   231  47279.0\n",
       "2     15       55      26159.0   231  47243.0\n",
       "3     15       50      26132.0   231  47210.0\n",
       "4     15       40      26015.0   231  47209.0"
      ]
     },
     "execution_count": 119,
     "metadata": {},
     "output_type": "execute_result"
    }
   ],
   "source": [
    "final_df.head()"
   ]
  },
  {
   "cell_type": "code",
   "execution_count": 115,
   "id": "30e1768e",
   "metadata": {},
   "outputs": [],
   "source": [
    "final_df= final_df.drop(['Time'],1)"
   ]
  },
  {
   "cell_type": "code",
   "execution_count": 116,
   "id": "9ca03f6c",
   "metadata": {},
   "outputs": [
    {
     "data": {
      "text/plain": [
       "412952"
      ]
     },
     "execution_count": 116,
     "metadata": {},
     "output_type": "execute_result"
    }
   ],
   "source": [
    "len(final_df)"
   ]
  },
  {
   "cell_type": "code",
   "execution_count": 140,
   "id": "157c6485",
   "metadata": {},
   "outputs": [
    {
     "name": "stdout",
     "output_type": "stream",
     "text": [
      "Collecting pingouin\n",
      "  Downloading pingouin-0.5.1.tar.gz (183 kB)\n",
      "\u001b[K     |████████████████████████████████| 183 kB 2.8 MB/s eta 0:00:01\n",
      "\u001b[?25hRequirement already satisfied: numpy>=1.19 in /Users/rosestrauss/opt/anaconda3/lib/python3.8/site-packages (from pingouin) (1.20.1)\n",
      "Collecting scipy>=1.7\n",
      "  Downloading scipy-1.8.0-cp38-cp38-macosx_12_0_universal2.macosx_10_9_x86_64.whl (55.3 MB)\n",
      "\u001b[K     |████████████████████████████████| 55.3 MB 76.1 MB/s eta 0:00:01     |███████████████████             | 32.8 MB 35.9 MB/s eta 0:00:01��████████████▎| 54.0 MB 76.1 MB/s eta 0:00:01\n",
      "\u001b[?25hRequirement already satisfied: pandas>=1.0 in /Users/rosestrauss/opt/anaconda3/lib/python3.8/site-packages (from pingouin) (1.2.4)\n",
      "Requirement already satisfied: matplotlib>=3.0.2 in /Users/rosestrauss/opt/anaconda3/lib/python3.8/site-packages (from pingouin) (3.3.4)\n",
      "Requirement already satisfied: seaborn>=0.11 in /Users/rosestrauss/opt/anaconda3/lib/python3.8/site-packages (from pingouin) (0.11.1)\n",
      "Collecting statsmodels>=0.13\n",
      "  Downloading statsmodels-0.13.2-cp38-cp38-macosx_10_9_x86_64.whl (9.6 MB)\n",
      "\u001b[K     |████████████████████████████████| 9.6 MB 19.7 MB/s eta 0:00:01\n",
      "\u001b[?25hRequirement already satisfied: scikit-learn in /Users/rosestrauss/opt/anaconda3/lib/python3.8/site-packages (from pingouin) (0.24.1)\n",
      "Collecting pandas_flavor>=0.2.0\n",
      "  Downloading pandas_flavor-0.2.0-py2.py3-none-any.whl (6.6 kB)\n",
      "Collecting outdated\n",
      "  Downloading outdated-0.2.1-py3-none-any.whl (7.5 kB)\n",
      "Collecting tabulate\n",
      "  Downloading tabulate-0.8.9-py3-none-any.whl (25 kB)\n",
      "Requirement already satisfied: kiwisolver>=1.0.1 in /Users/rosestrauss/opt/anaconda3/lib/python3.8/site-packages (from matplotlib>=3.0.2->pingouin) (1.3.1)\n",
      "Requirement already satisfied: cycler>=0.10 in /Users/rosestrauss/opt/anaconda3/lib/python3.8/site-packages (from matplotlib>=3.0.2->pingouin) (0.10.0)\n",
      "Requirement already satisfied: pillow>=6.2.0 in /Users/rosestrauss/opt/anaconda3/lib/python3.8/site-packages (from matplotlib>=3.0.2->pingouin) (8.2.0)\n",
      "Requirement already satisfied: python-dateutil>=2.1 in /Users/rosestrauss/opt/anaconda3/lib/python3.8/site-packages (from matplotlib>=3.0.2->pingouin) (2.8.1)\n",
      "Requirement already satisfied: pyparsing!=2.0.4,!=2.1.2,!=2.1.6,>=2.0.3 in /Users/rosestrauss/opt/anaconda3/lib/python3.8/site-packages (from matplotlib>=3.0.2->pingouin) (2.4.7)\n",
      "Requirement already satisfied: six in /Users/rosestrauss/opt/anaconda3/lib/python3.8/site-packages (from cycler>=0.10->matplotlib>=3.0.2->pingouin) (1.15.0)\n",
      "Requirement already satisfied: pytz>=2017.3 in /Users/rosestrauss/opt/anaconda3/lib/python3.8/site-packages (from pandas>=1.0->pingouin) (2021.1)\n",
      "Collecting xarray\n",
      "  Downloading xarray-2022.3.0-py3-none-any.whl (870 kB)\n",
      "\u001b[K     |████████████████████████████████| 870 kB 44.0 MB/s eta 0:00:01\n",
      "\u001b[?25hCollecting patsy>=0.5.2\n",
      "  Downloading patsy-0.5.2-py2.py3-none-any.whl (233 kB)\n",
      "\u001b[K     |████████████████████████████████| 233 kB 36.1 MB/s eta 0:00:01\n",
      "\u001b[?25hCollecting packaging>=21.3\n",
      "  Using cached packaging-21.3-py3-none-any.whl (40 kB)\n",
      "Collecting littleutils\n",
      "  Downloading littleutils-0.2.2.tar.gz (6.6 kB)\n",
      "Requirement already satisfied: requests in /Users/rosestrauss/opt/anaconda3/lib/python3.8/site-packages (from outdated->pingouin) (2.25.1)\n",
      "Requirement already satisfied: certifi>=2017.4.17 in /Users/rosestrauss/opt/anaconda3/lib/python3.8/site-packages (from requests->outdated->pingouin) (2020.12.5)\n",
      "Requirement already satisfied: chardet<5,>=3.0.2 in /Users/rosestrauss/opt/anaconda3/lib/python3.8/site-packages (from requests->outdated->pingouin) (4.0.0)\n",
      "Requirement already satisfied: urllib3<1.27,>=1.21.1 in /Users/rosestrauss/opt/anaconda3/lib/python3.8/site-packages (from requests->outdated->pingouin) (1.26.4)\n",
      "Requirement already satisfied: idna<3,>=2.5 in /Users/rosestrauss/opt/anaconda3/lib/python3.8/site-packages (from requests->outdated->pingouin) (2.10)\n",
      "Requirement already satisfied: threadpoolctl>=2.0.0 in /Users/rosestrauss/opt/anaconda3/lib/python3.8/site-packages (from scikit-learn->pingouin) (2.1.0)\n",
      "Requirement already satisfied: joblib>=0.11 in /Users/rosestrauss/opt/anaconda3/lib/python3.8/site-packages (from scikit-learn->pingouin) (1.0.1)\n",
      "Building wheels for collected packages: pingouin, littleutils\n",
      "  Building wheel for pingouin (setup.py) ... \u001b[?25ldone\n",
      "\u001b[?25h  Created wheel for pingouin: filename=pingouin-0.5.1-py3-none-any.whl size=193988 sha256=16c533d0714238caaa2668bdffa23a92cad3013dc7066db5f9799204fb971d71\n",
      "  Stored in directory: /Users/rosestrauss/Library/Caches/pip/wheels/8e/f4/3f/2629f2a31641ee865256bd1a03e0f3c66cea7ba4fa30ca7f9e\n",
      "  Building wheel for littleutils (setup.py) ... \u001b[?25ldone\n",
      "\u001b[?25h  Created wheel for littleutils: filename=littleutils-0.2.2-py3-none-any.whl size=7048 sha256=eed2fb302d7457bf1af1320a2c2e418626f002fb26f442dce1ec887a595f35fa\n",
      "  Stored in directory: /Users/rosestrauss/Library/Caches/pip/wheels/6a/33/c4/0ef84d7f5568c2823e3d63a6e08988852fb9e4bc822034870a\n",
      "Successfully built pingouin littleutils\n",
      "Installing collected packages: packaging, xarray, scipy, patsy, littleutils, tabulate, statsmodels, pandas-flavor, outdated, pingouin\n",
      "  Attempting uninstall: packaging\n",
      "    Found existing installation: packaging 20.9\n",
      "    Uninstalling packaging-20.9:\n",
      "      Successfully uninstalled packaging-20.9\n",
      "  Attempting uninstall: scipy\n",
      "    Found existing installation: scipy 1.6.2\n",
      "    Uninstalling scipy-1.6.2:\n",
      "      Successfully uninstalled scipy-1.6.2\n",
      "  Attempting uninstall: patsy\n",
      "    Found existing installation: patsy 0.5.1\n",
      "    Uninstalling patsy-0.5.1:\n",
      "      Successfully uninstalled patsy-0.5.1\n",
      "  Attempting uninstall: statsmodels\n",
      "    Found existing installation: statsmodels 0.12.2\n",
      "    Uninstalling statsmodels-0.12.2:\n",
      "      Successfully uninstalled statsmodels-0.12.2\n",
      "Successfully installed littleutils-0.2.2 outdated-0.2.1 packaging-21.3 pandas-flavor-0.2.0 patsy-0.5.2 pingouin-0.5.1 scipy-1.8.0 statsmodels-0.13.2 tabulate-0.8.9 xarray-2022.3.0\n",
      "Note: you may need to restart the kernel to use updated packages.\n"
     ]
    }
   ],
   "source": [
    "pip install pingouin"
   ]
  },
  {
   "cell_type": "code",
   "execution_count": 141,
   "id": "ee4c174d",
   "metadata": {},
   "outputs": [
    {
     "ename": "ImportError",
     "evalue": "cannot import name 'studentized_range' from 'scipy.stats' (/Users/rosestrauss/opt/anaconda3/lib/python3.8/site-packages/scipy/stats/__init__.py)",
     "output_type": "error",
     "traceback": [
      "\u001b[0;31m---------------------------------------------------------------------------\u001b[0m",
      "\u001b[0;31mImportError\u001b[0m                               Traceback (most recent call last)",
      "\u001b[0;32m<ipython-input-141-bb661a6b3c39>\u001b[0m in \u001b[0;36m<module>\u001b[0;34m\u001b[0m\n\u001b[1;32m      1\u001b[0m \u001b[0;32mimport\u001b[0m \u001b[0mpandas\u001b[0m \u001b[0;32mas\u001b[0m \u001b[0mpd\u001b[0m\u001b[0;34m\u001b[0m\u001b[0;34m\u001b[0m\u001b[0m\n\u001b[0;32m----> 2\u001b[0;31m \u001b[0;32mimport\u001b[0m \u001b[0mpingouin\u001b[0m \u001b[0;32mas\u001b[0m \u001b[0mpg\u001b[0m\u001b[0;34m\u001b[0m\u001b[0;34m\u001b[0m\u001b[0m\n\u001b[0m\u001b[1;32m      3\u001b[0m \u001b[0;34m\u001b[0m\u001b[0m\n\u001b[1;32m      4\u001b[0m aov = pg.anova(dv='len', between=['Hours', 'Minutes'], supply_data=df,\n\u001b[1;32m      5\u001b[0m              detailed=True)\n",
      "\u001b[0;32m~/opt/anaconda3/lib/python3.8/site-packages/pingouin/__init__.py\u001b[0m in \u001b[0;36m<module>\u001b[0;34m\u001b[0m\n\u001b[1;32m     12\u001b[0m \u001b[0;32mfrom\u001b[0m \u001b[0;34m.\u001b[0m\u001b[0mcorrelation\u001b[0m \u001b[0;32mimport\u001b[0m \u001b[0;34m*\u001b[0m\u001b[0;34m\u001b[0m\u001b[0;34m\u001b[0m\u001b[0m\n\u001b[1;32m     13\u001b[0m \u001b[0;32mfrom\u001b[0m \u001b[0;34m.\u001b[0m\u001b[0mcircular\u001b[0m \u001b[0;32mimport\u001b[0m \u001b[0;34m*\u001b[0m\u001b[0;34m\u001b[0m\u001b[0;34m\u001b[0m\u001b[0m\n\u001b[0;32m---> 14\u001b[0;31m \u001b[0;32mfrom\u001b[0m \u001b[0;34m.\u001b[0m\u001b[0mpairwise\u001b[0m \u001b[0;32mimport\u001b[0m \u001b[0;34m*\u001b[0m\u001b[0;34m\u001b[0m\u001b[0;34m\u001b[0m\u001b[0m\n\u001b[0m\u001b[1;32m     15\u001b[0m \u001b[0;32mfrom\u001b[0m \u001b[0;34m.\u001b[0m\u001b[0mpower\u001b[0m \u001b[0;32mimport\u001b[0m \u001b[0;34m*\u001b[0m\u001b[0;34m\u001b[0m\u001b[0;34m\u001b[0m\u001b[0m\n\u001b[1;32m     16\u001b[0m \u001b[0;32mfrom\u001b[0m \u001b[0;34m.\u001b[0m\u001b[0mreliability\u001b[0m \u001b[0;32mimport\u001b[0m \u001b[0;34m*\u001b[0m\u001b[0;34m\u001b[0m\u001b[0;34m\u001b[0m\u001b[0m\n",
      "\u001b[0;32m~/opt/anaconda3/lib/python3.8/site-packages/pingouin/pairwise.py\u001b[0m in \u001b[0;36m<module>\u001b[0;34m\u001b[0m\n\u001b[1;32m     10\u001b[0m \u001b[0;32mfrom\u001b[0m \u001b[0mpingouin\u001b[0m\u001b[0;34m.\u001b[0m\u001b[0meffsize\u001b[0m \u001b[0;32mimport\u001b[0m \u001b[0mcompute_effsize\u001b[0m\u001b[0;34m,\u001b[0m \u001b[0mconvert_effsize\u001b[0m\u001b[0;34m\u001b[0m\u001b[0;34m\u001b[0m\u001b[0m\n\u001b[1;32m     11\u001b[0m \u001b[0;32mfrom\u001b[0m \u001b[0mpingouin\u001b[0m\u001b[0;34m.\u001b[0m\u001b[0mutils\u001b[0m \u001b[0;32mimport\u001b[0m \u001b[0;34m(\u001b[0m\u001b[0m_check_dataframe\u001b[0m\u001b[0;34m,\u001b[0m \u001b[0m_flatten_list\u001b[0m\u001b[0;34m,\u001b[0m \u001b[0m_postprocess_dataframe\u001b[0m\u001b[0;34m)\u001b[0m\u001b[0;34m\u001b[0m\u001b[0;34m\u001b[0m\u001b[0m\n\u001b[0;32m---> 12\u001b[0;31m \u001b[0;32mfrom\u001b[0m \u001b[0mscipy\u001b[0m\u001b[0;34m.\u001b[0m\u001b[0mstats\u001b[0m \u001b[0;32mimport\u001b[0m \u001b[0mstudentized_range\u001b[0m\u001b[0;34m\u001b[0m\u001b[0;34m\u001b[0m\u001b[0m\n\u001b[0m\u001b[1;32m     13\u001b[0m \u001b[0;34m\u001b[0m\u001b[0m\n\u001b[1;32m     14\u001b[0m __all__ = [\"pairwise_ttests\", \"pairwise_tukey\", \"pairwise_gameshowell\",\n",
      "\u001b[0;31mImportError\u001b[0m: cannot import name 'studentized_range' from 'scipy.stats' (/Users/rosestrauss/opt/anaconda3/lib/python3.8/site-packages/scipy/stats/__init__.py)"
     ]
    }
   ],
   "source": [
    "import pandas as pd\n",
    "import pingouin as pg\n",
    "\n",
    "aov = pg.anova(dv='len', between=['Hours', 'Minutes'], supply_data=df,\n",
    "             detailed=True)\n",
    "\n",
    "print(aov)"
   ]
  },
  {
   "cell_type": "code",
   "execution_count": 71,
   "id": "5351ef92",
   "metadata": {},
   "outputs": [],
   "source": [
    "%matplotlib inline\n",
    "import matplotlib.pyplot as plt\n",
    "import numpy as np\n",
    "import pandas as pd"
   ]
  },
  {
   "cell_type": "code",
   "execution_count": 72,
   "id": "850a5dc1",
   "metadata": {},
   "outputs": [
    {
     "data": {
      "text/html": [
       "<div>\n",
       "<style scoped>\n",
       "    .dataframe tbody tr th:only-of-type {\n",
       "        vertical-align: middle;\n",
       "    }\n",
       "\n",
       "    .dataframe tbody tr th {\n",
       "        vertical-align: top;\n",
       "    }\n",
       "\n",
       "    .dataframe thead th {\n",
       "        text-align: right;\n",
       "    }\n",
       "</style>\n",
       "<table border=\"1\" class=\"dataframe\">\n",
       "  <thead>\n",
       "    <tr style=\"text-align: right;\">\n",
       "      <th></th>\n",
       "      <th>Hours</th>\n",
       "      <th>Minutes</th>\n",
       "      <th>Natural gas</th>\n",
       "      <th>Date</th>\n",
       "      <th>Sum</th>\n",
       "    </tr>\n",
       "  </thead>\n",
       "  <tbody>\n",
       "    <tr>\n",
       "      <th>0</th>\n",
       "      <td>11</td>\n",
       "      <td>50</td>\n",
       "      <td>5568.0</td>\n",
       "      <td>186</td>\n",
       "      <td>59874.0</td>\n",
       "    </tr>\n",
       "    <tr>\n",
       "      <th>1</th>\n",
       "      <td>16</td>\n",
       "      <td>25</td>\n",
       "      <td>26540.0</td>\n",
       "      <td>231</td>\n",
       "      <td>47279.0</td>\n",
       "    </tr>\n",
       "    <tr>\n",
       "      <th>2</th>\n",
       "      <td>15</td>\n",
       "      <td>55</td>\n",
       "      <td>26159.0</td>\n",
       "      <td>231</td>\n",
       "      <td>47243.0</td>\n",
       "    </tr>\n",
       "    <tr>\n",
       "      <th>3</th>\n",
       "      <td>15</td>\n",
       "      <td>50</td>\n",
       "      <td>26132.0</td>\n",
       "      <td>231</td>\n",
       "      <td>47210.0</td>\n",
       "    </tr>\n",
       "    <tr>\n",
       "      <th>4</th>\n",
       "      <td>15</td>\n",
       "      <td>40</td>\n",
       "      <td>26015.0</td>\n",
       "      <td>231</td>\n",
       "      <td>47209.0</td>\n",
       "    </tr>\n",
       "    <tr>\n",
       "      <th>...</th>\n",
       "      <td>...</td>\n",
       "      <td>...</td>\n",
       "      <td>...</td>\n",
       "      <td>...</td>\n",
       "      <td>...</td>\n",
       "    </tr>\n",
       "    <tr>\n",
       "      <th>995</th>\n",
       "      <td>18</td>\n",
       "      <td>0</td>\n",
       "      <td>19813.0</td>\n",
       "      <td>238</td>\n",
       "      <td>43499.0</td>\n",
       "    </tr>\n",
       "    <tr>\n",
       "      <th>996</th>\n",
       "      <td>18</td>\n",
       "      <td>0</td>\n",
       "      <td>19813.0</td>\n",
       "      <td>239</td>\n",
       "      <td>43499.0</td>\n",
       "    </tr>\n",
       "    <tr>\n",
       "      <th>997</th>\n",
       "      <td>15</td>\n",
       "      <td>20</td>\n",
       "      <td>23554.0</td>\n",
       "      <td>228</td>\n",
       "      <td>43499.0</td>\n",
       "    </tr>\n",
       "    <tr>\n",
       "      <th>998</th>\n",
       "      <td>17</td>\n",
       "      <td>40</td>\n",
       "      <td>18174.0</td>\n",
       "      <td>208</td>\n",
       "      <td>43497.0</td>\n",
       "    </tr>\n",
       "    <tr>\n",
       "      <th>999</th>\n",
       "      <td>16</td>\n",
       "      <td>0</td>\n",
       "      <td>15971.0</td>\n",
       "      <td>222</td>\n",
       "      <td>43494.0</td>\n",
       "    </tr>\n",
       "  </tbody>\n",
       "</table>\n",
       "<p>1000 rows × 5 columns</p>\n",
       "</div>"
      ],
      "text/plain": [
       "     Hours  Minutes  Natural gas  Date      Sum\n",
       "0       11       50       5568.0   186  59874.0\n",
       "1       16       25      26540.0   231  47279.0\n",
       "2       15       55      26159.0   231  47243.0\n",
       "3       15       50      26132.0   231  47210.0\n",
       "4       15       40      26015.0   231  47209.0\n",
       "..     ...      ...          ...   ...      ...\n",
       "995     18        0      19813.0   238  43499.0\n",
       "996     18        0      19813.0   239  43499.0\n",
       "997     15       20      23554.0   228  43499.0\n",
       "998     17       40      18174.0   208  43497.0\n",
       "999     16        0      15971.0   222  43494.0\n",
       "\n",
       "[1000 rows x 5 columns]"
      ]
     },
     "execution_count": 72,
     "metadata": {},
     "output_type": "execute_result"
    }
   ],
   "source": [
    "final_df.head(1000)"
   ]
  },
  {
   "cell_type": "code",
   "execution_count": 73,
   "id": "584f82c4",
   "metadata": {},
   "outputs": [
    {
     "data": {
      "image/png": "[encoded data removed]",
      "text/plain": [
       "<Figure size 432x288 with 5 Axes>"
      ]
     },
     "metadata": {
      "needs_background": "light"
     },
     "output_type": "display_data"
    }
   ],
   "source": [
    "axes = final_df.plot.line(subplots=True)\n"
   ]
  },
  {
   "cell_type": "code",
   "execution_count": 82,
   "id": "b49d1adf",
   "metadata": {},
   "outputs": [],
   "source": [
    "# Create our features\n",
    "X = final_df.drop(\"Natural gas\", axis = 1)\n",
    "\n",
    "# Create our target\n",
    "y = final_df.loc[:, 'Natural gas'].copy()"
   ]
  },
  {
   "cell_type": "code",
   "execution_count": 83,
   "id": "9d49c1f7",
   "metadata": {},
   "outputs": [],
   "source": [
    "final_df = final_df.dropna()"
   ]
  },
  {
   "cell_type": "code",
   "execution_count": 84,
   "id": "f975f598",
   "metadata": {},
   "outputs": [],
   "source": [
    "from sklearn.model_selection import train_test_split\n",
    "\n",
    "X_train, X_test, y_train, y_test = train_test_split(X, y, random_state=42)"
   ]
  },
  {
   "cell_type": "code",
   "execution_count": 85,
   "id": "c2f8420a",
   "metadata": {},
   "outputs": [],
   "source": [
    "scaler = StandardScaler()\n",
    "\n",
    "# Fit the StandardScaler\n",
    "X_scaler = scaler.fit(X_train)\n",
    "\n",
    "# Scale the data\n",
    "X_train_scaled = X_scaler.transform(X_train)\n",
    "X_test_scaled = X_scaler.transform(X_test)"
   ]
  },
  {
   "cell_type": "code",
   "execution_count": 86,
   "id": "d1f1c199",
   "metadata": {},
   "outputs": [],
   "source": [
    "from sklearn.linear_model import LinearRegression\n",
    "model = LinearRegression()"
   ]
  },
  {
   "cell_type": "code",
   "execution_count": 87,
   "id": "78c63697",
   "metadata": {},
   "outputs": [
    {
     "data": {
      "text/plain": [
       "False"
      ]
     },
     "execution_count": 87,
     "metadata": {},
     "output_type": "execute_result"
    }
   ],
   "source": [
    "final_df.isnull().values.any()"
   ]
  },
  {
   "cell_type": "code",
   "execution_count": 88,
   "id": "329a5685",
   "metadata": {},
   "outputs": [
    {
     "name": "stdout",
     "output_type": "stream",
     "text": [
      "0\n"
     ]
    }
   ],
   "source": [
    "count = np.isinf(final_df).values.sum()\n",
    "print(count)"
   ]
  },
  {
   "cell_type": "code",
   "execution_count": 89,
   "id": "01a73933",
   "metadata": {},
   "outputs": [],
   "source": [
    "model.fit(X_train, y_train)\n",
    "training_score = model.score(X_train, y_train)\n",
    "testing_score = model.score(X_test, y_test)"
   ]
  },
  {
   "cell_type": "code",
   "execution_count": 90,
   "id": "63dacbd3",
   "metadata": {},
   "outputs": [
    {
     "name": "stdout",
     "output_type": "stream",
     "text": [
      "0.5693510858183524\n"
     ]
    }
   ],
   "source": [
    "print(training_score)\n",
    "\n",
    "#75 or above"
   ]
  },
  {
   "cell_type": "code",
   "execution_count": 91,
   "id": "3eec29a9",
   "metadata": {},
   "outputs": [
    {
     "name": "stdout",
     "output_type": "stream",
     "text": [
      "0.5706415408073546\n"
     ]
    }
   ],
   "source": [
    "print(testing_score)"
   ]
  },
  {
   "cell_type": "code",
   "execution_count": 94,
   "id": "97b00243",
   "metadata": {},
   "outputs": [
    {
     "data": {
      "image/png": "[encoded data removed]",
      "text/plain": [
       "<Figure size 432x288 with 1 Axes>"
      ]
     },
     "metadata": {
      "needs_background": "light"
     },
     "output_type": "display_data"
    }
   ],
   "source": [
    "plt.scatter(model.predict(X_train), model.predict(X_train) - y_train, c=\"red\", label=\"Training Data\")\n",
    "plt.scatter(model.predict(X_test), model.predict(X_test) - y_test, c=\"orange\", label=\"Testing Data\")\n",
    "plt.legend()\n",
    "plt.hlines(y=0, xmin=6000, xmax=1500)\n",
    "plt.title(\"Residual Plot\")\n",
    "plt.show()"
   ]
  },
  {
   "cell_type": "code",
   "execution_count": 93,
   "id": "32ad069f",
   "metadata": {},
   "outputs": [
    {
     "name": "stdout",
     "output_type": "stream",
     "text": [
      "R2 Score: 0.5696781130021757\n"
     ]
    }
   ],
   "source": [
    "from sklearn.linear_model import LinearRegression\n",
    "model = LinearRegression()\n",
    "\n",
    "# Fitting our model with all our features in X\n",
    "model.fit(X, y)\n",
    "\n",
    "score = model.score(X, y)\n",
    "print(f\"R2 Score: {score}\")"
   ]
  },
  {
   "cell_type": "code",
   "execution_count": null,
   "id": "0ffb98d2",
   "metadata": {},
   "outputs": [],
   "source": [
    "#Use charging data to predict, that number times the current number of electricc ar to be baseline EV demand per hour and then\n",
    "#muplitple it by the %change of electric vehicles. then take training or testing data, probably testing\n",
    "#and add it to demand and predict supply."
   ]
  },
  {
   "cell_type": "code",
   "execution_count": null,
   "id": "53a8e768",
   "metadata": {},
   "outputs": [],
   "source": [
    "#Anova table  use P value to check what variable has more impact to the response variable. compare P values "
   ]
  }
 ],
 "metadata": {
  "kernelspec": {
   "display_name": "Python 3",
   "language": "python",
   "name": "python3"
  },
  "language_info": {
   "codemirror_mode": {
    "name": "ipython",
    "version": 3
   },
   "file_extension": ".py",
   "mimetype": "text/x-python",
   "name": "python",
   "nbconvert_exporter": "python",
   "pygments_lexer": "ipython3",
   "version": "3.8.8"
  }
 },
 "nbformat": 4,
 "nbformat_minor": 5
}
