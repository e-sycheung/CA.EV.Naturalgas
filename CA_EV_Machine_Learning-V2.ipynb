{
 "cells": [
  {
   "cell_type": "code",
   "execution_count": 99,
   "id": "ab99928a",
   "metadata": {},
   "outputs": [
    {
     "data": {
      "text/html": [
       "<div>\n",
       "<style scoped>\n",
       "    .dataframe tbody tr th:only-of-type {\n",
       "        vertical-align: middle;\n",
       "    }\n",
       "\n",
       "    .dataframe tbody tr th {\n",
       "        vertical-align: top;\n",
       "    }\n",
       "\n",
       "    .dataframe thead th {\n",
       "        text-align: right;\n",
       "    }\n",
       "</style>\n",
       "<table border=\"1\" class=\"dataframe\">\n",
       "  <thead>\n",
       "    <tr style=\"text-align: right;\">\n",
       "      <th></th>\n",
       "      <th>Renewables</th>\n",
       "      <th>Natural gas</th>\n",
       "      <th>Large hydro</th>\n",
       "      <th>Imports</th>\n",
       "      <th>Batteries</th>\n",
       "      <th>Nuclear</th>\n",
       "      <th>Coal</th>\n",
       "      <th>Other</th>\n",
       "      <th>Date</th>\n",
       "      <th>Time</th>\n",
       "      <th>DateTime</th>\n",
       "    </tr>\n",
       "  </thead>\n",
       "  <tbody>\n",
       "    <tr>\n",
       "      <th>0</th>\n",
       "      <td>50036.0</td>\n",
       "      <td>5568.0</td>\n",
       "      <td>78.0</td>\n",
       "      <td>2353.0</td>\n",
       "      <td>-447.0</td>\n",
       "      <td>2265.0</td>\n",
       "      <td>21.0</td>\n",
       "      <td>0.0</td>\n",
       "      <td>7/5/21</td>\n",
       "      <td>11:50:00</td>\n",
       "      <td>7/5/21 11:50</td>\n",
       "    </tr>\n",
       "    <tr>\n",
       "      <th>1</th>\n",
       "      <td>8695.0</td>\n",
       "      <td>26540.0</td>\n",
       "      <td>5081.0</td>\n",
       "      <td>4575.0</td>\n",
       "      <td>119.0</td>\n",
       "      <td>2248.0</td>\n",
       "      <td>21.0</td>\n",
       "      <td>0.0</td>\n",
       "      <td>8/18/20</td>\n",
       "      <td>16:25:00</td>\n",
       "      <td>8/18/20 16:25</td>\n",
       "    </tr>\n",
       "    <tr>\n",
       "      <th>2</th>\n",
       "      <td>9301.0</td>\n",
       "      <td>26159.0</td>\n",
       "      <td>4408.0</td>\n",
       "      <td>5035.0</td>\n",
       "      <td>67.0</td>\n",
       "      <td>2250.0</td>\n",
       "      <td>23.0</td>\n",
       "      <td>0.0</td>\n",
       "      <td>8/18/20</td>\n",
       "      <td>15:55:00</td>\n",
       "      <td>8/18/20 15:55</td>\n",
       "    </tr>\n",
       "    <tr>\n",
       "      <th>3</th>\n",
       "      <td>9343.0</td>\n",
       "      <td>26132.0</td>\n",
       "      <td>4382.0</td>\n",
       "      <td>5032.0</td>\n",
       "      <td>49.0</td>\n",
       "      <td>2250.0</td>\n",
       "      <td>22.0</td>\n",
       "      <td>0.0</td>\n",
       "      <td>8/18/20</td>\n",
       "      <td>15:50:00</td>\n",
       "      <td>8/18/20 15:50</td>\n",
       "    </tr>\n",
       "    <tr>\n",
       "      <th>4</th>\n",
       "      <td>9283.0</td>\n",
       "      <td>26015.0</td>\n",
       "      <td>4300.0</td>\n",
       "      <td>5278.0</td>\n",
       "      <td>63.0</td>\n",
       "      <td>2248.0</td>\n",
       "      <td>22.0</td>\n",
       "      <td>0.0</td>\n",
       "      <td>8/18/20</td>\n",
       "      <td>15:40:00</td>\n",
       "      <td>8/18/20 15:40</td>\n",
       "    </tr>\n",
       "  </tbody>\n",
       "</table>\n",
       "</div>"
      ],
      "text/plain": [
       "   Renewables  Natural gas  Large hydro  Imports  Batteries  Nuclear  Coal  \\\n",
       "0     50036.0       5568.0         78.0   2353.0     -447.0   2265.0  21.0   \n",
       "1      8695.0      26540.0       5081.0   4575.0      119.0   2248.0  21.0   \n",
       "2      9301.0      26159.0       4408.0   5035.0       67.0   2250.0  23.0   \n",
       "3      9343.0      26132.0       4382.0   5032.0       49.0   2250.0  22.0   \n",
       "4      9283.0      26015.0       4300.0   5278.0       63.0   2248.0  22.0   \n",
       "\n",
       "   Other     Date      Time       DateTime  \n",
       "0    0.0   7/5/21  11:50:00   7/5/21 11:50  \n",
       "1    0.0  8/18/20  16:25:00  8/18/20 16:25  \n",
       "2    0.0  8/18/20  15:55:00  8/18/20 15:55  \n",
       "3    0.0  8/18/20  15:50:00  8/18/20 15:50  \n",
       "4    0.0  8/18/20  15:40:00  8/18/20 15:40  "
      ]
     },
     "execution_count": 99,
     "metadata": {},
     "output_type": "execute_result"
    }
   ],
   "source": [
    "# Initial imports\n",
    "# Import our dependencies\n",
    "from sklearn.model_selection import train_test_split\n",
    "from sklearn.preprocessing import StandardScaler\n",
    "from sklearn.linear_model import LogisticRegression\n",
    "from sklearn.metrics import accuracy_score\n",
    "import pandas as pd\n",
    "import tensorflow as tf\n",
    "\n",
    "#  Import and read the file.\n",
    "import pandas as pd \n",
    "supply_df = pd.read_csv(\"./CAISO-ALL-SUPPLY-DATA.csv\")\n",
    "supply_df.head()\n",
    "\n",
    "#Add in a column for MW of demand of cars. Do the absolute value for the demand.create dummy value to create everything to \n",
    "#negative and postive"
   ]
  },
  {
   "cell_type": "code",
   "execution_count": 100,
   "id": "f029d0de",
   "metadata": {},
   "outputs": [],
   "source": [
    "supply_df['Sum'] = supply_df['Renewables'] + supply_df['Large hydro'] + supply_df['Imports'] + supply_df['Batteries'] + supply_df['Nuclear'] + supply_df['Coal'] + supply_df['Other'] + supply_df['Natural gas']"
   ]
  },
  {
   "cell_type": "code",
   "execution_count": 101,
   "id": "5afbbc72",
   "metadata": {},
   "outputs": [],
   "source": [
    "weird_df = supply_df['Natural gas'][supply_df['Natural gas'] < 5000]"
   ]
  },
  {
   "cell_type": "code",
   "execution_count": 102,
   "id": "91918503",
   "metadata": {},
   "outputs": [
    {
     "data": {
      "text/plain": [
       "46193    4991.0\n",
       "46194    4991.0\n",
       "46448    4867.0\n",
       "46483    4934.0\n",
       "46830    4794.0\n",
       "Name: Natural gas, dtype: float64"
      ]
     },
     "execution_count": 102,
     "metadata": {},
     "output_type": "execute_result"
    }
   ],
   "source": [
    "weird_df.head()"
   ]
  },
  {
   "cell_type": "code",
   "execution_count": 103,
   "id": "848348a2",
   "metadata": {},
   "outputs": [
    {
     "data": {
      "text/html": [
       "<div>\n",
       "<style scoped>\n",
       "    .dataframe tbody tr th:only-of-type {\n",
       "        vertical-align: middle;\n",
       "    }\n",
       "\n",
       "    .dataframe tbody tr th {\n",
       "        vertical-align: top;\n",
       "    }\n",
       "\n",
       "    .dataframe thead th {\n",
       "        text-align: right;\n",
       "    }\n",
       "</style>\n",
       "<table border=\"1\" class=\"dataframe\">\n",
       "  <thead>\n",
       "    <tr style=\"text-align: right;\">\n",
       "      <th></th>\n",
       "      <th>Natural gas</th>\n",
       "      <th>Date</th>\n",
       "      <th>Time</th>\n",
       "      <th>Sum</th>\n",
       "    </tr>\n",
       "  </thead>\n",
       "  <tbody>\n",
       "    <tr>\n",
       "      <th>0</th>\n",
       "      <td>5568.0</td>\n",
       "      <td>7/5/21</td>\n",
       "      <td>11:50:00</td>\n",
       "      <td>59874.0</td>\n",
       "    </tr>\n",
       "    <tr>\n",
       "      <th>1</th>\n",
       "      <td>26540.0</td>\n",
       "      <td>8/18/20</td>\n",
       "      <td>16:25:00</td>\n",
       "      <td>47279.0</td>\n",
       "    </tr>\n",
       "    <tr>\n",
       "      <th>2</th>\n",
       "      <td>26159.0</td>\n",
       "      <td>8/18/20</td>\n",
       "      <td>15:55:00</td>\n",
       "      <td>47243.0</td>\n",
       "    </tr>\n",
       "    <tr>\n",
       "      <th>3</th>\n",
       "      <td>26132.0</td>\n",
       "      <td>8/18/20</td>\n",
       "      <td>15:50:00</td>\n",
       "      <td>47210.0</td>\n",
       "    </tr>\n",
       "    <tr>\n",
       "      <th>4</th>\n",
       "      <td>26015.0</td>\n",
       "      <td>8/18/20</td>\n",
       "      <td>15:40:00</td>\n",
       "      <td>47209.0</td>\n",
       "    </tr>\n",
       "    <tr>\n",
       "      <th>...</th>\n",
       "      <td>...</td>\n",
       "      <td>...</td>\n",
       "      <td>...</td>\n",
       "      <td>...</td>\n",
       "    </tr>\n",
       "    <tr>\n",
       "      <th>995</th>\n",
       "      <td>19813.0</td>\n",
       "      <td>8/26/19</td>\n",
       "      <td>18:00:00</td>\n",
       "      <td>43499.0</td>\n",
       "    </tr>\n",
       "    <tr>\n",
       "      <th>996</th>\n",
       "      <td>19813.0</td>\n",
       "      <td>8/27/19</td>\n",
       "      <td>18:00:00</td>\n",
       "      <td>43499.0</td>\n",
       "    </tr>\n",
       "    <tr>\n",
       "      <th>997</th>\n",
       "      <td>23554.0</td>\n",
       "      <td>8/15/20</td>\n",
       "      <td>15:20:00</td>\n",
       "      <td>43499.0</td>\n",
       "    </tr>\n",
       "    <tr>\n",
       "      <th>998</th>\n",
       "      <td>18174.0</td>\n",
       "      <td>7/27/18</td>\n",
       "      <td>17:40:00</td>\n",
       "      <td>43497.0</td>\n",
       "    </tr>\n",
       "    <tr>\n",
       "      <th>999</th>\n",
       "      <td>15971.0</td>\n",
       "      <td>8/10/18</td>\n",
       "      <td>16:00:00</td>\n",
       "      <td>43494.0</td>\n",
       "    </tr>\n",
       "  </tbody>\n",
       "</table>\n",
       "<p>1000 rows × 4 columns</p>\n",
       "</div>"
      ],
      "text/plain": [
       "     Natural gas     Date      Time      Sum\n",
       "0         5568.0   7/5/21  11:50:00  59874.0\n",
       "1        26540.0  8/18/20  16:25:00  47279.0\n",
       "2        26159.0  8/18/20  15:55:00  47243.0\n",
       "3        26132.0  8/18/20  15:50:00  47210.0\n",
       "4        26015.0  8/18/20  15:40:00  47209.0\n",
       "..           ...      ...       ...      ...\n",
       "995      19813.0  8/26/19  18:00:00  43499.0\n",
       "996      19813.0  8/27/19  18:00:00  43499.0\n",
       "997      23554.0  8/15/20  15:20:00  43499.0\n",
       "998      18174.0  7/27/18  17:40:00  43497.0\n",
       "999      15971.0  8/10/18  16:00:00  43494.0\n",
       "\n",
       "[1000 rows x 4 columns]"
      ]
     },
     "execution_count": 103,
     "metadata": {},
     "output_type": "execute_result"
    }
   ],
   "source": [
    "supply_df= supply_df.drop(['Renewables', 'Batteries', 'Large hydro', 'Imports', 'Other', 'Nuclear', 'Coal', 'DateTime'],1)\n",
    "supply_df.head(1000)"
   ]
  },
  {
   "cell_type": "code",
   "execution_count": 104,
   "id": "ad26a430",
   "metadata": {},
   "outputs": [],
   "source": [
    "supply_df['Date'] = pd.to_datetime(supply_df['Date'])"
   ]
  },
  {
   "cell_type": "code",
   "execution_count": 105,
   "id": "be12812e",
   "metadata": {},
   "outputs": [],
   "source": [
    "def fun(datetimething):\n",
    "     return datetimething.timetuple().tm_yday"
   ]
  },
  {
   "cell_type": "code",
   "execution_count": 106,
   "id": "427494ca",
   "metadata": {},
   "outputs": [
    {
     "data": {
      "text/html": [
       "<div>\n",
       "<style scoped>\n",
       "    .dataframe tbody tr th:only-of-type {\n",
       "        vertical-align: middle;\n",
       "    }\n",
       "\n",
       "    .dataframe tbody tr th {\n",
       "        vertical-align: top;\n",
       "    }\n",
       "\n",
       "    .dataframe thead th {\n",
       "        text-align: right;\n",
       "    }\n",
       "</style>\n",
       "<table border=\"1\" class=\"dataframe\">\n",
       "  <thead>\n",
       "    <tr style=\"text-align: right;\">\n",
       "      <th></th>\n",
       "      <th>Natural gas</th>\n",
       "      <th>Date</th>\n",
       "      <th>Time</th>\n",
       "      <th>Sum</th>\n",
       "    </tr>\n",
       "  </thead>\n",
       "  <tbody>\n",
       "    <tr>\n",
       "      <th>0</th>\n",
       "      <td>5568.0</td>\n",
       "      <td>186</td>\n",
       "      <td>11:50:00</td>\n",
       "      <td>59874.0</td>\n",
       "    </tr>\n",
       "    <tr>\n",
       "      <th>1</th>\n",
       "      <td>26540.0</td>\n",
       "      <td>231</td>\n",
       "      <td>16:25:00</td>\n",
       "      <td>47279.0</td>\n",
       "    </tr>\n",
       "    <tr>\n",
       "      <th>2</th>\n",
       "      <td>26159.0</td>\n",
       "      <td>231</td>\n",
       "      <td>15:55:00</td>\n",
       "      <td>47243.0</td>\n",
       "    </tr>\n",
       "    <tr>\n",
       "      <th>3</th>\n",
       "      <td>26132.0</td>\n",
       "      <td>231</td>\n",
       "      <td>15:50:00</td>\n",
       "      <td>47210.0</td>\n",
       "    </tr>\n",
       "    <tr>\n",
       "      <th>4</th>\n",
       "      <td>26015.0</td>\n",
       "      <td>231</td>\n",
       "      <td>15:40:00</td>\n",
       "      <td>47209.0</td>\n",
       "    </tr>\n",
       "    <tr>\n",
       "      <th>...</th>\n",
       "      <td>...</td>\n",
       "      <td>...</td>\n",
       "      <td>...</td>\n",
       "      <td>...</td>\n",
       "    </tr>\n",
       "    <tr>\n",
       "      <th>1295</th>\n",
       "      <td>20240.0</td>\n",
       "      <td>232</td>\n",
       "      <td>12:55:00</td>\n",
       "      <td>43089.0</td>\n",
       "    </tr>\n",
       "    <tr>\n",
       "      <th>1296</th>\n",
       "      <td>20240.0</td>\n",
       "      <td>233</td>\n",
       "      <td>12:55:00</td>\n",
       "      <td>43089.0</td>\n",
       "    </tr>\n",
       "    <tr>\n",
       "      <th>1297</th>\n",
       "      <td>24279.0</td>\n",
       "      <td>232</td>\n",
       "      <td>19:15:00</td>\n",
       "      <td>43087.0</td>\n",
       "    </tr>\n",
       "    <tr>\n",
       "      <th>1298</th>\n",
       "      <td>24279.0</td>\n",
       "      <td>233</td>\n",
       "      <td>19:15:00</td>\n",
       "      <td>43087.0</td>\n",
       "    </tr>\n",
       "    <tr>\n",
       "      <th>1299</th>\n",
       "      <td>20265.0</td>\n",
       "      <td>227</td>\n",
       "      <td>18:55:00</td>\n",
       "      <td>43085.0</td>\n",
       "    </tr>\n",
       "  </tbody>\n",
       "</table>\n",
       "<p>1300 rows × 4 columns</p>\n",
       "</div>"
      ],
      "text/plain": [
       "      Natural gas  Date      Time      Sum\n",
       "0          5568.0   186  11:50:00  59874.0\n",
       "1         26540.0   231  16:25:00  47279.0\n",
       "2         26159.0   231  15:55:00  47243.0\n",
       "3         26132.0   231  15:50:00  47210.0\n",
       "4         26015.0   231  15:40:00  47209.0\n",
       "...           ...   ...       ...      ...\n",
       "1295      20240.0   232  12:55:00  43089.0\n",
       "1296      20240.0   233  12:55:00  43089.0\n",
       "1297      24279.0   232  19:15:00  43087.0\n",
       "1298      24279.0   233  19:15:00  43087.0\n",
       "1299      20265.0   227  18:55:00  43085.0\n",
       "\n",
       "[1300 rows x 4 columns]"
      ]
     },
     "execution_count": 106,
     "metadata": {},
     "output_type": "execute_result"
    }
   ],
   "source": [
    "supply_df['Date'] = supply_df['Date'].apply(fun)\n",
    "supply_df.head(1300)"
   ]
  },
  {
   "cell_type": "code",
   "execution_count": 41,
   "id": "e96c0bf0",
   "metadata": {},
   "outputs": [
    {
     "data": {
      "text/plain": [
       "Natural gas    float64\n",
       "Date             int64\n",
       "Time            object\n",
       "Sum            float64\n",
       "dtype: object"
      ]
     },
     "execution_count": 41,
     "metadata": {},
     "output_type": "execute_result"
    }
   ],
   "source": [
    "supply_df.dtypes"
   ]
  },
  {
   "cell_type": "code",
   "execution_count": 42,
   "id": "2efbcc2a",
   "metadata": {},
   "outputs": [
    {
     "name": "stdout",
     "output_type": "stream",
     "text": [
      "         0   1   2\n",
      "0       11  50  00\n",
      "1       16  25  00\n",
      "2       15  55  00\n",
      "3       15  50  00\n",
      "4       15  40  00\n",
      "...     ..  ..  ..\n",
      "412947   2  35  00\n",
      "412948   2  40  00\n",
      "412949   2  45  00\n",
      "412950   2  50  00\n",
      "412951   2  55  00\n",
      "\n",
      "[412952 rows x 3 columns]\n"
     ]
    }
   ],
   "source": [
    "baby_df = supply_df['Time'].str.split(\":\", expand=True)\n",
    "print(baby_df)"
   ]
  },
  {
   "cell_type": "code",
   "execution_count": 43,
   "id": "072f1b5f",
   "metadata": {},
   "outputs": [],
   "source": [
    "baby_df[0] = baby_df[0].astype(int)\n",
    "baby_df[1] = baby_df[1].astype(int)"
   ]
  },
  {
   "cell_type": "code",
   "execution_count": 44,
   "id": "077f3c65",
   "metadata": {},
   "outputs": [],
   "source": [
    "baby_df= baby_df.drop([2],1)"
   ]
  },
  {
   "cell_type": "code",
   "execution_count": 45,
   "id": "ce65cb6e",
   "metadata": {},
   "outputs": [
    {
     "data": {
      "text/plain": [
       "0    int64\n",
       "1    int64\n",
       "dtype: object"
      ]
     },
     "execution_count": 45,
     "metadata": {},
     "output_type": "execute_result"
    }
   ],
   "source": [
    "baby_df.dtypes"
   ]
  },
  {
   "cell_type": "code",
   "execution_count": 46,
   "id": "f0dcf1cf",
   "metadata": {},
   "outputs": [],
   "source": [
    "baby_df = baby_df.rename(columns={baby_df.columns[0]: 'Hours'})\n",
    "baby_df = baby_df.rename(columns={baby_df.columns[1]: 'Minutes'})"
   ]
  },
  {
   "cell_type": "code",
   "execution_count": 47,
   "id": "a690aa6d",
   "metadata": {},
   "outputs": [
    {
     "data": {
      "text/html": [
       "<div>\n",
       "<style scoped>\n",
       "    .dataframe tbody tr th:only-of-type {\n",
       "        vertical-align: middle;\n",
       "    }\n",
       "\n",
       "    .dataframe tbody tr th {\n",
       "        vertical-align: top;\n",
       "    }\n",
       "\n",
       "    .dataframe thead th {\n",
       "        text-align: right;\n",
       "    }\n",
       "</style>\n",
       "<table border=\"1\" class=\"dataframe\">\n",
       "  <thead>\n",
       "    <tr style=\"text-align: right;\">\n",
       "      <th></th>\n",
       "      <th>Hours</th>\n",
       "      <th>Minutes</th>\n",
       "    </tr>\n",
       "  </thead>\n",
       "  <tbody>\n",
       "    <tr>\n",
       "      <th>0</th>\n",
       "      <td>11</td>\n",
       "      <td>50</td>\n",
       "    </tr>\n",
       "    <tr>\n",
       "      <th>1</th>\n",
       "      <td>16</td>\n",
       "      <td>25</td>\n",
       "    </tr>\n",
       "    <tr>\n",
       "      <th>2</th>\n",
       "      <td>15</td>\n",
       "      <td>55</td>\n",
       "    </tr>\n",
       "    <tr>\n",
       "      <th>3</th>\n",
       "      <td>15</td>\n",
       "      <td>50</td>\n",
       "    </tr>\n",
       "    <tr>\n",
       "      <th>4</th>\n",
       "      <td>15</td>\n",
       "      <td>40</td>\n",
       "    </tr>\n",
       "  </tbody>\n",
       "</table>\n",
       "</div>"
      ],
      "text/plain": [
       "   Hours  Minutes\n",
       "0     11       50\n",
       "1     16       25\n",
       "2     15       55\n",
       "3     15       50\n",
       "4     15       40"
      ]
     },
     "execution_count": 47,
     "metadata": {},
     "output_type": "execute_result"
    }
   ],
   "source": [
    "baby_df.head()"
   ]
  },
  {
   "cell_type": "code",
   "execution_count": 48,
   "id": "7a5b0de6",
   "metadata": {},
   "outputs": [],
   "source": [
    "final_df = pd.merge(baby_df, supply_df, left_index=True, right_index=True, how='outer')"
   ]
  },
  {
   "cell_type": "code",
   "execution_count": 49,
   "id": "aba6237d",
   "metadata": {},
   "outputs": [
    {
     "data": {
      "text/html": [
       "<div>\n",
       "<style scoped>\n",
       "    .dataframe tbody tr th:only-of-type {\n",
       "        vertical-align: middle;\n",
       "    }\n",
       "\n",
       "    .dataframe tbody tr th {\n",
       "        vertical-align: top;\n",
       "    }\n",
       "\n",
       "    .dataframe thead th {\n",
       "        text-align: right;\n",
       "    }\n",
       "</style>\n",
       "<table border=\"1\" class=\"dataframe\">\n",
       "  <thead>\n",
       "    <tr style=\"text-align: right;\">\n",
       "      <th></th>\n",
       "      <th>Hours</th>\n",
       "      <th>Minutes</th>\n",
       "      <th>Natural gas</th>\n",
       "      <th>Date</th>\n",
       "      <th>Time</th>\n",
       "      <th>Sum</th>\n",
       "    </tr>\n",
       "  </thead>\n",
       "  <tbody>\n",
       "    <tr>\n",
       "      <th>0</th>\n",
       "      <td>11</td>\n",
       "      <td>50</td>\n",
       "      <td>5568.0</td>\n",
       "      <td>186</td>\n",
       "      <td>11:50:00</td>\n",
       "      <td>59874.0</td>\n",
       "    </tr>\n",
       "    <tr>\n",
       "      <th>1</th>\n",
       "      <td>16</td>\n",
       "      <td>25</td>\n",
       "      <td>26540.0</td>\n",
       "      <td>231</td>\n",
       "      <td>16:25:00</td>\n",
       "      <td>47279.0</td>\n",
       "    </tr>\n",
       "    <tr>\n",
       "      <th>2</th>\n",
       "      <td>15</td>\n",
       "      <td>55</td>\n",
       "      <td>26159.0</td>\n",
       "      <td>231</td>\n",
       "      <td>15:55:00</td>\n",
       "      <td>47243.0</td>\n",
       "    </tr>\n",
       "    <tr>\n",
       "      <th>3</th>\n",
       "      <td>15</td>\n",
       "      <td>50</td>\n",
       "      <td>26132.0</td>\n",
       "      <td>231</td>\n",
       "      <td>15:50:00</td>\n",
       "      <td>47210.0</td>\n",
       "    </tr>\n",
       "    <tr>\n",
       "      <th>4</th>\n",
       "      <td>15</td>\n",
       "      <td>40</td>\n",
       "      <td>26015.0</td>\n",
       "      <td>231</td>\n",
       "      <td>15:40:00</td>\n",
       "      <td>47209.0</td>\n",
       "    </tr>\n",
       "  </tbody>\n",
       "</table>\n",
       "</div>"
      ],
      "text/plain": [
       "   Hours  Minutes  Natural gas  Date      Time      Sum\n",
       "0     11       50       5568.0   186  11:50:00  59874.0\n",
       "1     16       25      26540.0   231  16:25:00  47279.0\n",
       "2     15       55      26159.0   231  15:55:00  47243.0\n",
       "3     15       50      26132.0   231  15:50:00  47210.0\n",
       "4     15       40      26015.0   231  15:40:00  47209.0"
      ]
     },
     "execution_count": 49,
     "metadata": {},
     "output_type": "execute_result"
    }
   ],
   "source": [
    "final_df.head()"
   ]
  },
  {
   "cell_type": "code",
   "execution_count": 50,
   "id": "30e1768e",
   "metadata": {},
   "outputs": [],
   "source": [
    "final_df= final_df.drop(['Time'],1)"
   ]
  },
  {
   "cell_type": "code",
   "execution_count": 51,
   "id": "9ca03f6c",
   "metadata": {},
   "outputs": [
    {
     "data": {
      "text/plain": [
       "412952"
      ]
     },
     "execution_count": 51,
     "metadata": {},
     "output_type": "execute_result"
    }
   ],
   "source": [
    "len(final_df)"
   ]
  },
  {
   "cell_type": "code",
   "execution_count": 52,
   "id": "5351ef92",
   "metadata": {},
   "outputs": [],
   "source": [
    "%matplotlib inline\n",
    "import matplotlib.pyplot as plt\n",
    "import numpy as np\n",
    "import pandas as pd"
   ]
  },
  {
   "cell_type": "code",
   "execution_count": 53,
   "id": "33e05bf0",
   "metadata": {},
   "outputs": [],
   "source": [
    "supply_df.rename( columns={'Natural gas':'Natural_gas' } ,inplace=True)"
   ]
  },
  {
   "cell_type": "code",
   "execution_count": 54,
   "id": "850a5dc1",
   "metadata": {},
   "outputs": [
    {
     "data": {
      "text/html": [
       "<div>\n",
       "<style scoped>\n",
       "    .dataframe tbody tr th:only-of-type {\n",
       "        vertical-align: middle;\n",
       "    }\n",
       "\n",
       "    .dataframe tbody tr th {\n",
       "        vertical-align: top;\n",
       "    }\n",
       "\n",
       "    .dataframe thead th {\n",
       "        text-align: right;\n",
       "    }\n",
       "</style>\n",
       "<table border=\"1\" class=\"dataframe\">\n",
       "  <thead>\n",
       "    <tr style=\"text-align: right;\">\n",
       "      <th></th>\n",
       "      <th>Hours</th>\n",
       "      <th>Minutes</th>\n",
       "      <th>Natural gas</th>\n",
       "      <th>Date</th>\n",
       "      <th>Sum</th>\n",
       "    </tr>\n",
       "  </thead>\n",
       "  <tbody>\n",
       "    <tr>\n",
       "      <th>0</th>\n",
       "      <td>11</td>\n",
       "      <td>50</td>\n",
       "      <td>5568.0</td>\n",
       "      <td>186</td>\n",
       "      <td>59874.0</td>\n",
       "    </tr>\n",
       "    <tr>\n",
       "      <th>1</th>\n",
       "      <td>16</td>\n",
       "      <td>25</td>\n",
       "      <td>26540.0</td>\n",
       "      <td>231</td>\n",
       "      <td>47279.0</td>\n",
       "    </tr>\n",
       "    <tr>\n",
       "      <th>2</th>\n",
       "      <td>15</td>\n",
       "      <td>55</td>\n",
       "      <td>26159.0</td>\n",
       "      <td>231</td>\n",
       "      <td>47243.0</td>\n",
       "    </tr>\n",
       "    <tr>\n",
       "      <th>3</th>\n",
       "      <td>15</td>\n",
       "      <td>50</td>\n",
       "      <td>26132.0</td>\n",
       "      <td>231</td>\n",
       "      <td>47210.0</td>\n",
       "    </tr>\n",
       "    <tr>\n",
       "      <th>4</th>\n",
       "      <td>15</td>\n",
       "      <td>40</td>\n",
       "      <td>26015.0</td>\n",
       "      <td>231</td>\n",
       "      <td>47209.0</td>\n",
       "    </tr>\n",
       "    <tr>\n",
       "      <th>...</th>\n",
       "      <td>...</td>\n",
       "      <td>...</td>\n",
       "      <td>...</td>\n",
       "      <td>...</td>\n",
       "      <td>...</td>\n",
       "    </tr>\n",
       "    <tr>\n",
       "      <th>995</th>\n",
       "      <td>18</td>\n",
       "      <td>0</td>\n",
       "      <td>19813.0</td>\n",
       "      <td>238</td>\n",
       "      <td>43499.0</td>\n",
       "    </tr>\n",
       "    <tr>\n",
       "      <th>996</th>\n",
       "      <td>18</td>\n",
       "      <td>0</td>\n",
       "      <td>19813.0</td>\n",
       "      <td>239</td>\n",
       "      <td>43499.0</td>\n",
       "    </tr>\n",
       "    <tr>\n",
       "      <th>997</th>\n",
       "      <td>15</td>\n",
       "      <td>20</td>\n",
       "      <td>23554.0</td>\n",
       "      <td>228</td>\n",
       "      <td>43499.0</td>\n",
       "    </tr>\n",
       "    <tr>\n",
       "      <th>998</th>\n",
       "      <td>17</td>\n",
       "      <td>40</td>\n",
       "      <td>18174.0</td>\n",
       "      <td>208</td>\n",
       "      <td>43497.0</td>\n",
       "    </tr>\n",
       "    <tr>\n",
       "      <th>999</th>\n",
       "      <td>16</td>\n",
       "      <td>0</td>\n",
       "      <td>15971.0</td>\n",
       "      <td>222</td>\n",
       "      <td>43494.0</td>\n",
       "    </tr>\n",
       "  </tbody>\n",
       "</table>\n",
       "<p>1000 rows × 5 columns</p>\n",
       "</div>"
      ],
      "text/plain": [
       "     Hours  Minutes  Natural gas  Date      Sum\n",
       "0       11       50       5568.0   186  59874.0\n",
       "1       16       25      26540.0   231  47279.0\n",
       "2       15       55      26159.0   231  47243.0\n",
       "3       15       50      26132.0   231  47210.0\n",
       "4       15       40      26015.0   231  47209.0\n",
       "..     ...      ...          ...   ...      ...\n",
       "995     18        0      19813.0   238  43499.0\n",
       "996     18        0      19813.0   239  43499.0\n",
       "997     15       20      23554.0   228  43499.0\n",
       "998     17       40      18174.0   208  43497.0\n",
       "999     16        0      15971.0   222  43494.0\n",
       "\n",
       "[1000 rows x 5 columns]"
      ]
     },
     "execution_count": 54,
     "metadata": {},
     "output_type": "execute_result"
    }
   ],
   "source": [
    "final_df.head(1000)"
   ]
  },
  {
   "cell_type": "code",
   "execution_count": 70,
   "id": "584f82c4",
   "metadata": {},
   "outputs": [
    {
     "data": {
      "image/png": "[encoded data removed]",
      "text/plain": [
       "<Figure size 432x288 with 5 Axes>"
      ]
     },
     "metadata": {
      "needs_background": "light"
     },
     "output_type": "display_data"
    }
   ],
   "source": [
    "axes = final_df.plot.line(subplots=True)\n"
   ]
  },
  {
   "cell_type": "code",
   "execution_count": 107,
   "id": "b49d1adf",
   "metadata": {},
   "outputs": [],
   "source": [
    "# Create our features\n",
    "X = final_df.drop(\"Natural gas\", axis = 1)\n",
    "\n",
    "# Create our target\n",
    "y = final_df.loc[:, 'Natural gas'].copy()"
   ]
  },
  {
   "cell_type": "code",
   "execution_count": 108,
   "id": "9d49c1f7",
   "metadata": {},
   "outputs": [],
   "source": [
    "final_df = final_df.dropna()"
   ]
  },
  {
   "cell_type": "code",
   "execution_count": 109,
   "id": "f975f598",
   "metadata": {},
   "outputs": [],
   "source": [
    "from sklearn.model_selection import train_test_split\n",
    "\n",
    "X_train, X_test, y_train, y_test = train_test_split(X, y, random_state=42)"
   ]
  },
  {
   "cell_type": "code",
   "execution_count": 110,
   "id": "c2f8420a",
   "metadata": {},
   "outputs": [],
   "source": [
    "scaler = StandardScaler()\n",
    "\n",
    "# Fit the StandardScaler\n",
    "X_scaler = scaler.fit(X_train)\n",
    "\n",
    "# Scale the data\n",
    "X_train_scaled = X_scaler.transform(X_train)\n",
    "X_test_scaled = X_scaler.transform(X_test)"
   ]
  },
  {
   "cell_type": "code",
   "execution_count": 111,
   "id": "d1f1c199",
   "metadata": {},
   "outputs": [],
   "source": [
    "from sklearn.linear_model import LinearRegression\n",
    "model = LinearRegression()"
   ]
  },
  {
   "cell_type": "code",
   "execution_count": 112,
   "id": "78c63697",
   "metadata": {},
   "outputs": [
    {
     "data": {
      "text/plain": [
       "False"
      ]
     },
     "execution_count": 112,
     "metadata": {},
     "output_type": "execute_result"
    }
   ],
   "source": [
    "final_df.isnull().values.any()"
   ]
  },
  {
   "cell_type": "code",
   "execution_count": 113,
   "id": "329a5685",
   "metadata": {},
   "outputs": [
    {
     "name": "stdout",
     "output_type": "stream",
     "text": [
      "0\n"
     ]
    }
   ],
   "source": [
    "count = np.isinf(final_df).values.sum()\n",
    "print(count)"
   ]
  },
  {
   "cell_type": "code",
   "execution_count": 114,
   "id": "01a73933",
   "metadata": {},
   "outputs": [],
   "source": [
    "model.fit(X_train_scaled, y_train)\n",
    "training_score = model.score(X_train_scaled, y_train)\n",
    "testing_score = model.score(X_test_scaled, y_test)"
   ]
  },
  {
   "cell_type": "code",
   "execution_count": 115,
   "id": "63dacbd3",
   "metadata": {},
   "outputs": [
    {
     "name": "stdout",
     "output_type": "stream",
     "text": [
      "0.5693510858183524\n"
     ]
    }
   ],
   "source": [
    "print(training_score)\n",
    "\n",
    "#75 or above"
   ]
  },
  {
   "cell_type": "code",
   "execution_count": 116,
   "id": "3eec29a9",
   "metadata": {},
   "outputs": [
    {
     "name": "stdout",
     "output_type": "stream",
     "text": [
      "0.5706415408073546\n"
     ]
    }
   ],
   "source": [
    "print(testing_score)"
   ]
  },
  {
   "cell_type": "code",
   "execution_count": 81,
   "id": "97b00243",
   "metadata": {},
   "outputs": [
    {
     "data": {
      "image/png": "[encoded data removed]",
      "text/plain": [
       "<Figure size 432x288 with 1 Axes>"
      ]
     },
     "metadata": {
      "needs_background": "light"
     },
     "output_type": "display_data"
    }
   ],
   "source": [
    "plt.scatter(model.predict(X_train), model.predict(X_train) - y_train, c=\"red\", label=\"Training Data\")\n",
    "plt.scatter(model.predict(X_test), model.predict(X_test) - y_test, c=\"orange\", label=\"Testing Data\")\n",
    "plt.legend()\n",
    "plt.hlines(y=0, xmin=6000, xmax=1500)\n",
    "plt.title(\"Residual Plot\")\n",
    "plt.show()"
   ]
  },
  {
   "cell_type": "code",
   "execution_count": 82,
   "id": "32ad069f",
   "metadata": {},
   "outputs": [
    {
     "name": "stdout",
     "output_type": "stream",
     "text": [
      "R2 Score: 0.5696781130021759\n"
     ]
    }
   ],
   "source": [
    "from sklearn.linear_model import LinearRegression\n",
    "model = LinearRegression()\n",
    "\n",
    "# Fitting our model with all our features in X\n",
    "model.fit(X, y)\n",
    "\n",
    "score = model.score(X, y)\n",
    "print(f\"R2 Score: {score}\")"
   ]
  },
  {
   "cell_type": "code",
   "execution_count": 93,
   "id": "04a70e93",
   "metadata": {},
   "outputs": [],
   "source": [
    "#Predicting Future Natural Gas Usage"
   ]
  },
  {
   "cell_type": "code",
   "execution_count": null,
   "id": "fadeef73",
   "metadata": {},
   "outputs": [],
   "source": [
    "#Create a new columns that incorporates number of EV's, average charging times, and MW's used during those charging times."
   ]
  },
  {
   "cell_type": "code",
   "execution_count": null,
   "id": "0188c4ce",
   "metadata": {},
   "outputs": [],
   "source": [
    "#Create new EV demand by changign the calculation by altering the number of EV's for 2030. Split the dataframe up by year\n",
    "# Get average demand for that day hour\n",
    "#Input is going to be demand. the input will be the average of the sum"
   ]
  },
  {
   "cell_type": "code",
   "execution_count": null,
   "id": "0ffb98d2",
   "metadata": {},
   "outputs": [],
   "source": [
    "#Use charging data to predict, that number times the current number of electricc ar to be baseline EV demand per hour and then\n",
    "#muplitple it by the %change of electric vehicles. then take training or testing data, probably testing\n",
    "#and add it to demand and predict supply."
   ]
  },
  {
   "cell_type": "code",
   "execution_count": null,
   "id": "53a8e768",
   "metadata": {},
   "outputs": [],
   "source": [
    "#Anova table use P value to check what variable has more impact to the response variable. compare P values "
   ]
  }
 ],
 "metadata": {
  "kernelspec": {
   "display_name": "Python 3",
   "language": "python",
   "name": "python3"
  },
  "language_info": {
   "codemirror_mode": {
    "name": "ipython",
    "version": 3
   },
   "file_extension": ".py",
   "mimetype": "text/x-python",
   "name": "python",
   "nbconvert_exporter": "python",
   "pygments_lexer": "ipython3",
   "version": "3.8.8"
  }
 },
 "nbformat": 4,
 "nbformat_minor": 5
}
