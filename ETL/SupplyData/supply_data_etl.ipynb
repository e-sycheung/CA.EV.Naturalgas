{
 "cells": [
  {
   "cell_type": "code",
   "execution_count": null,
   "id": "31a0a82f",
   "metadata": {},
   "outputs": [],
   "source": [
    "# Import dependencies\n",
    "import pandas as pd\n",
    "import os\n",
    "import glob\n",
    "import numpy as np\n",
    "import datetime "
   ]
  },
  {
   "cell_type": "code",
   "execution_count": null,
   "id": "bce46376",
   "metadata": {},
   "outputs": [],
   "source": [
    "# Use glob to get all the supply data csv files in the current working directory\n",
    "path = os.getcwd()\n",
    "csv_files = glob.glob(os.path.join(path, \"*.csv\"))"
   ]
  },
  {
   "cell_type": "code",
   "execution_count": null,
   "id": "466927c3",
   "metadata": {},
   "outputs": [],
   "source": [
    "# Create empty list\n",
    "dataframes_list = []"
   ]
  },
  {
   "cell_type": "code",
   "execution_count": null,
   "id": "b8c4df1d",
   "metadata": {},
   "outputs": [],
   "source": [
    "# Append datasets to the list \n",
    "for i in csv_files:\n",
    "    temp_df = pd.read_csv(i)\n",
    "    dataframes_list.append(temp_df)"
   ]
  },
  {
   "cell_type": "code",
   "execution_count": null,
   "id": "036ee421",
   "metadata": {},
   "outputs": [],
   "source": [
    "# Check dataframes_list length for all suppy data CSV files\n",
    "len(dataframes_list)"
   ]
  },
  {
   "cell_type": "code",
   "execution_count": null,
   "id": "d046a728",
   "metadata": {},
   "outputs": [],
   "source": [
    "# Create empty list for transformed DataFrames\n",
    "transformed_dfs = []"
   ]
  },
  {
   "cell_type": "code",
   "execution_count": null,
   "id": "1cd35e9b",
   "metadata": {},
   "outputs": [],
   "source": [
    "# Transform each DataFrame in dataframes_list and append to transformed_dfs\n",
    "for df in dataframes_list:    \n",
    "    # Create date variable\n",
    "    date = df.columns[0]\n",
    "\n",
    "    # Reset index to energy sources and transpose\n",
    "    df_transposed = df.set_index(date).T\n",
    "    \n",
    "    # Create date column\n",
    "    df_transposed[\"Date\"] = date\n",
    "    \n",
    "    # Create time column \n",
    "    df_transposed[\"Time\"] = df_transposed.index\n",
    "\n",
    "    # Reset index to start from 0\n",
    "    df_transposed.reset_index(drop=True, inplace=True)\n",
    "    \n",
    "    # Cast 'Time' column to string and append seconds\n",
    "    df_transposed['Time'] = df_transposed['Time'].apply(str) + ':00'\n",
    "    df_transposed.iloc[0:120, 9] = \"0\" + df_transposed.iloc[0:120, 9]\n",
    "    \n",
    "    # Add 'Date' and 'Time' columns together\n",
    "    df_transposed['DateTime'] = df_transposed['Date'] + ' ' + df_transposed['Time']\n",
    "\n",
    "    try:\n",
    "        # Covert 'DateTime' column to datetime \n",
    "        df_transposed['DateTime'] =  pd.to_datetime(df_transposed['DateTime'])\n",
    "    except:\n",
    "        continue\n",
    "        \n",
    "    try:\n",
    "        # Create 'Unix Timestamp' column\n",
    "        df_transposed['Unix Timestamp'] = df_transposed.DateTime.apply(lambda x : (x-datetime.datetime(1970,1,1)).total_seconds())\n",
    "    except:\n",
    "        continue\n",
    "    \n",
    "    transformed_dfs.append(df_transposed)"
   ]
  },
  {
   "cell_type": "code",
   "execution_count": null,
   "id": "e82fee53",
   "metadata": {},
   "outputs": [],
   "source": [
    "# Create empty DataFrame for all supply data\n",
    "supply_df = pd.DataFrame()"
   ]
  },
  {
   "cell_type": "code",
   "execution_count": null,
   "id": "472c3ec0",
   "metadata": {},
   "outputs": [],
   "source": [
    "# Append each DataFrame in transformed_dfs to supply_df\n",
    "for df in transformed_dfs:\n",
    "    supply_df = supply_df.append(df, ignore_index = True)\n",
    "\n",
    "supply_df.info()"
   ]
  },
  {
   "cell_type": "code",
   "execution_count": 52,
   "id": "ee3669d7",
   "metadata": {},
   "outputs": [],
   "source": [
    "# Create the output file (CSV)\n",
    "output_data_file = \"CAISO-ALL-SUPPLY-DATA.csv\"\n",
    "\n",
    "# Export the DataFrame into a CSV without the index\n",
    "supply_df.to_csv(output_data_file, index=False)"
   ]
  },
  {
   "cell_type": "code",
   "execution_count": null,
   "id": "6a7c1c20",
   "metadata": {},
   "outputs": [],
   "source": []
  }
 ],
 "metadata": {
  "kernelspec": {
   "display_name": "mlenv",
   "language": "python",
   "name": "mlenv"
  },
  "language_info": {
   "codemirror_mode": {
    "name": "ipython",
    "version": 3
   },
   "file_extension": ".py",
   "mimetype": "text/x-python",
   "name": "python",
   "nbconvert_exporter": "python",
   "pygments_lexer": "ipython3",
   "version": "3.7.11"
  }
 },
 "nbformat": 4,
 "nbformat_minor": 5
}
