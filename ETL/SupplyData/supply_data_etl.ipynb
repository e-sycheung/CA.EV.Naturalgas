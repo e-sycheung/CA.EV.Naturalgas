{
 "cells": [
  {
   "cell_type": "code",
   "execution_count": 1,
   "id": "31a0a82f",
   "metadata": {},
   "outputs": [],
   "source": [
    "# Import dependencies\n",
    "import pandas as pd\n",
    "import os\n",
    "import glob\n",
    "import numpy as np\n",
    "import datetime "
   ]
  },
  {
   "cell_type": "code",
   "execution_count": 2,
   "id": "bce46376",
   "metadata": {},
   "outputs": [],
   "source": [
    "# Use glob to get all the supply data csv files in the current working directory\n",
    "path = os.getcwd()\n",
    "csv_files = glob.glob(os.path.join(path, \"*.csv\"))"
   ]
  },
  {
   "cell_type": "code",
   "execution_count": 3,
   "id": "466927c3",
   "metadata": {},
   "outputs": [],
   "source": [
    "# Create empty list\n",
    "dataframes_list = []"
   ]
  },
  {
   "cell_type": "code",
   "execution_count": 4,
   "id": "b8c4df1d",
   "metadata": {},
   "outputs": [],
   "source": [
    "# Append datasets to the list \n",
    "for i in csv_files:\n",
    "    temp_df = pd.read_csv(i)\n",
    "    dataframes_list.append(temp_df)"
   ]
  },
  {
   "cell_type": "code",
   "execution_count": 5,
   "id": "036ee421",
   "metadata": {},
   "outputs": [
    {
     "data": {
      "text/plain": [
       "1362"
      ]
     },
     "execution_count": 5,
     "metadata": {},
     "output_type": "execute_result"
    }
   ],
   "source": [
    "# Check dataframes_list length for all suppy data CSV files\n",
    "len(dataframes_list)"
   ]
  },
  {
   "cell_type": "code",
   "execution_count": 6,
   "id": "d046a728",
   "metadata": {},
   "outputs": [],
   "source": [
    "# Create empty DataFrame for all supply data\n",
    "supply_df = pd.DataFrame()"
   ]
  },
  {
   "cell_type": "code",
   "execution_count": null,
   "id": "1cd35e9b",
   "metadata": {},
   "outputs": [],
   "source": [
    "# Transform each DataFrame in list\n",
    "for df in dataframes_list:    \n",
    "    # Create empty list for transformed DataFrames\n",
    "    transformed_dfs = []\n",
    "    \n",
    "    # Create date variable\n",
    "    date = df.columns[0]\n",
    "\n",
    "    # Reset index to energy sources and transpose\n",
    "    df_transposed = df.set_index(date).T\n",
    "    \n",
    "    # Create date column\n",
    "    df_transposed[\"Date\"] = date\n",
    "    \n",
    "    # Create time column \n",
    "    df_transposed[\"Time\"] = df_transposed.index\n",
    "\n",
    "    # Reset index to start from 0\n",
    "    df_transposed.reset_index(drop=True, inplace=True)\n",
    "    \n",
    "    # Cast 'Time' column to string and append seconds\n",
    "    df_transposed['Time'] = df_transposed['Time'].apply(str) + ':00'\n",
    "    df_transposed.iloc[0:120, 9] = \"0\" + df_transposed.iloc[0:120, 9]\n",
    "    \n",
    "    # Add 'Date' and 'Time' columns together\n",
    "    df_transposed['DateTime'] = df_transposed['Date'] + ' ' + df_transposed['Time']\n",
    "\n",
    "    try:\n",
    "        # Covert 'DateTime' column to datetime \n",
    "        df_transposed['DateTime'] =  pd.to_datetime(df_transposed['DateTime'])\n",
    "    except:\n",
    "        continue\n",
    "        \n",
    "    try:\n",
    "        # Create 'Unix Timestamp' column\n",
    "        df_transposed['Unix Timestamp'] = df_transposed.DateTime.apply(lambda x : (x-datetime.datetime(1970,1,1)).total_seconds())\n",
    "    except:\n",
    "        continue\n",
    "    \n",
    "    transformed_dfs.append()\n",
    "    "
   ]
  },
  {
   "cell_type": "code",
   "execution_count": null,
   "id": "50b272a1",
   "metadata": {},
   "outputs": [],
   "source": [
    "for df in transformed_dfs:\n",
    "    supply_df = supply_df.append(df, ignore_index = True)\n",
    "    print(supply_df.head())\n",
    "\n",
    "# Append to master DataFrame with all supply data\n",
    "#supply_df = supply_df.append(dataframes_list, ignore_index = True) \n",
    "#supply_df.head()\n",
    "    \n",
    "# Export supply_df to CSV"
   ]
  }
 ],
 "metadata": {
  "kernelspec": {
   "display_name": "mlenv",
   "language": "python",
   "name": "mlenv"
  },
  "language_info": {
   "codemirror_mode": {
    "name": "ipython",
    "version": 3
   },
   "file_extension": ".py",
   "mimetype": "text/x-python",
   "name": "python",
   "nbconvert_exporter": "python",
   "pygments_lexer": "ipython3",
   "version": "3.7.11"
  }
 },
 "nbformat": 4,
 "nbformat_minor": 5
}
