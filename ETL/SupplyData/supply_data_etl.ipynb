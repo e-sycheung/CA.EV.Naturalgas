{
 "cells": [
  {
   "cell_type": "code",
   "execution_count": 1,
   "id": "31a0a82f",
   "metadata": {},
   "outputs": [],
   "source": [
    "# Import dependencies\n",
    "import pandas as pd\n",
    "import os\n",
    "import glob\n",
    "import numpy as np\n",
    "import datetime "
   ]
  },
  {
   "cell_type": "code",
   "execution_count": 2,
   "id": "bce46376",
   "metadata": {},
   "outputs": [],
   "source": [
    "# Use glob to get all the supply data csv files in the current working directory\n",
    "path = os.getcwd()\n",
    "csv_files = glob.glob(os.path.join(path, \"*.csv\"))"
   ]
  },
  {
   "cell_type": "code",
   "execution_count": 3,
   "id": "466927c3",
   "metadata": {},
   "outputs": [],
   "source": [
    "# Create empty list\n",
    "dataframes_list = []"
   ]
  },
  {
   "cell_type": "code",
   "execution_count": 4,
   "id": "b8c4df1d",
   "metadata": {},
   "outputs": [],
   "source": [
    "# Append datasets to the list \n",
    "for i in csv_files:\n",
    "    temp_df = pd.read_csv(i)\n",
    "    dataframes_list.append(temp_df)"
   ]
  },
  {
   "cell_type": "code",
   "execution_count": 5,
   "id": "036ee421",
   "metadata": {},
   "outputs": [
    {
     "data": {
      "text/plain": [
       "1446"
      ]
     },
     "execution_count": 5,
     "metadata": {},
     "output_type": "execute_result"
    }
   ],
   "source": [
    "# Check dataframes_list length for all suppy data CSV files\n",
    "len(dataframes_list)"
   ]
  },
  {
   "cell_type": "code",
   "execution_count": 6,
   "id": "d046a728",
   "metadata": {},
   "outputs": [],
   "source": [
    "# Create empty list for transformed DataFrames\n",
    "transformed_dfs = []"
   ]
  },
  {
   "cell_type": "code",
   "execution_count": 8,
   "id": "1cd35e9b",
   "metadata": {},
   "outputs": [],
   "source": [
    "# Transform each DataFrame in dataframes_list and append to transformed_dfs\n",
    "for df in dataframes_list:    \n",
    "    # Create date variable\n",
    "    date = df.columns[0]\n",
    "\n",
    "    # Reset index to energy sources and transpose\n",
    "    df_transposed = df.set_index(date).T\n",
    "    \n",
    "    # Create date column\n",
    "    df_transposed[\"Date\"] = date\n",
    "    \n",
    "    # Create time column \n",
    "    df_transposed[\"Time\"] = df_transposed.index\n",
    "\n",
    "    # Reset index to start from 0\n",
    "    df_transposed.reset_index(drop=True, inplace=True)\n",
    "    \n",
    "    # Cast 'Time' column to string and append seconds\n",
    "    df_transposed['Time'] = df_transposed['Time'].apply(str) + ':00'\n",
    "    \n",
    "    # Add 'Date' and 'Time' columns together\n",
    "    df_transposed['DateTime'] = df_transposed['Date'] + ' ' + df_transposed['Time']\n",
    "\n",
    "    try:\n",
    "        # Covert 'DateTime' column to datetime \n",
    "        df_transposed['DateTime'] =  pd.to_datetime(df_transposed['DateTime'])\n",
    "    except:\n",
    "        continue\n",
    "        \n",
    "    try:\n",
    "        # Create 'Unix Timestamp' column\n",
    "        df_transposed['Unix Timestamp'] = df_transposed.DateTime.apply(lambda x : (x-datetime.datetime(1970,1,1)).total_seconds())\n",
    "    except:\n",
    "        continue\n",
    "    \n",
    "    transformed_dfs.append(df_transposed)"
   ]
  },
  {
   "cell_type": "code",
   "execution_count": 9,
   "id": "e82fee53",
   "metadata": {},
   "outputs": [],
   "source": [
    "# Create empty DataFrame for all supply data\n",
    "supply_df = pd.DataFrame()"
   ]
  },
  {
   "cell_type": "code",
   "execution_count": 10,
   "id": "472c3ec0",
   "metadata": {},
   "outputs": [
    {
     "name": "stdout",
     "output_type": "stream",
     "text": [
      "<class 'pandas.core.frame.DataFrame'>\n",
      "RangeIndex: 412956 entries, 0 to 412955\n",
      "Data columns (total 12 columns):\n",
      " #   Column          Non-Null Count   Dtype         \n",
      "---  ------          --------------   -----         \n",
      " 0   Renewables      412308 non-null  float64       \n",
      " 1   Natural gas     412596 non-null  float64       \n",
      " 2   Large hydro     412884 non-null  float64       \n",
      " 3   Imports         412596 non-null  float64       \n",
      " 4   Batteries       412884 non-null  float64       \n",
      " 5   Nuclear         412884 non-null  float64       \n",
      " 6   Coal            412884 non-null  float64       \n",
      " 7   Other           412596 non-null  float64       \n",
      " 8   Date            412956 non-null  object        \n",
      " 9   Time            412956 non-null  object        \n",
      " 10  DateTime        412956 non-null  datetime64[ns]\n",
      " 11  Unix Timestamp  412956 non-null  float64       \n",
      "dtypes: datetime64[ns](1), float64(9), object(2)\n",
      "memory usage: 37.8+ MB\n"
     ]
    }
   ],
   "source": [
    "# Append each DataFrame in transformed_dfs to supply_df\n",
    "for df in transformed_dfs:\n",
    "    supply_df = supply_df.append(df, ignore_index = True)\n",
    "\n",
    "supply_df.info()"
   ]
  },
  {
   "cell_type": "code",
   "execution_count": null,
   "id": "ee3669d7",
   "metadata": {},
   "outputs": [],
   "source": [
    "# Create the output file (CSV)\n",
    "output_data_file = \"CAISO-ALL-SUPPLY-DATA.csv\"\n",
    "\n",
    "# Export the DataFrame into a CSV without the index\n",
    "supply_df.to_csv(output_data_file, index=False)"
   ]
  },
  {
   "cell_type": "code",
   "execution_count": null,
   "id": "6a7c1c20",
   "metadata": {},
   "outputs": [],
   "source": []
  }
 ],
 "metadata": {
  "kernelspec": {
   "display_name": "mlenv",
   "language": "python",
   "name": "mlenv"
  },
  "language_info": {
   "codemirror_mode": {
    "name": "ipython",
    "version": 3
   },
   "file_extension": ".py",
   "mimetype": "text/x-python",
   "name": "python",
   "nbconvert_exporter": "python",
   "pygments_lexer": "ipython3",
   "version": "3.7.11"
  }
 },
 "nbformat": 4,
 "nbformat_minor": 5
}
