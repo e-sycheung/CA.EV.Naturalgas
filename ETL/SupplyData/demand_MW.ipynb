{
 "cells": [
  {
   "cell_type": "code",
   "execution_count": null,
   "id": "90eee950",
   "metadata": {},
   "outputs": [],
   "source": [
    "import pandas as pd\n",
    "import numpy as nb"
   ]
  },
  {
   "cell_type": "code",
   "execution_count": null,
   "id": "8e77b6bb",
   "metadata": {},
   "outputs": [],
   "source": [
    "# import the modules\n",
    "import pandas as pd \n",
    "from sqlalchemy import create_engine\n",
    "\n",
    "# SQLAlchemy connectable\n",
    "cnx = create_engine('sqlite:///db-carenewable.db').connect()\n",
    "\n",
    "# table named 'CAISO-ALL-SUPPLY-DATA' will be returned as a dataframe.\n",
    "supply_df = pd.read_sql_table('CAISO-ALL-SUPPLY-DATA', cnx)"
   ]
  },
  {
   "cell_type": "code",
   "execution_count": null,
   "id": "d2c899ec",
   "metadata": {},
   "outputs": [],
   "source": [
    "#Read the csv file \n",
    "x = supply_df.loc[(supply_df['Date'] == '12/31/2018') & (supply_df['Time'] == '23:55:00')]\n",
    "print(x.index)\n",
    "\n",
    "y = supply_df.loc[(supply_df['Date'] == '12/31/2019') & (supply_df['Time'] == '23:55:00')]\n",
    "print(y.index)\n",
    "\n",
    "z = supply_df.loc[(supply_df['Date'] == '12/31/2020') & (supply_df['Time'] == '23:55:00')]\n",
    "print(z.index)"
   ]
  },
  {
   "cell_type": "code",
   "execution_count": null,
   "id": "adc858d4",
   "metadata": {},
   "outputs": [],
   "source": [
    "supply_df.loc[0:76408,('DemandMW')]=14.24 \n",
    "supply_df.loc[76409:181416,('DemandMW')]=18.92\n",
    "supply_df.loc[181417:285661,('DemandMW')]=22.65\n",
    "\n",
    "print(supply_df.head())"
   ]
  },
  {
   "cell_type": "code",
   "execution_count": null,
   "id": "4c65045d",
   "metadata": {},
   "outputs": [],
   "source": [
    "# Write supply_df to SQLAlchemy table\n",
    "supply_df.to_sql('DemandMW', cnx)"
   ]
  },
  {
   "cell_type": "code",
   "execution_count": null,
   "id": "117082a0",
   "metadata": {},
   "outputs": [],
   "source": [
    "cnx.close()"
   ]
  },
  {
   "cell_type": "code",
   "execution_count": null,
   "id": "8cccc2dd",
   "metadata": {},
   "outputs": [],
   "source": []
  }
 ],
 "metadata": {
  "kernelspec": {
   "display_name": "mlenv",
   "language": "python",
   "name": "mlenv"
  },
  "language_info": {
   "codemirror_mode": {
    "name": "ipython",
    "version": 3
   },
   "file_extension": ".py",
   "mimetype": "text/x-python",
   "name": "python",
   "nbconvert_exporter": "python",
   "pygments_lexer": "ipython3",
   "version": "3.7.11"
  }
 },
 "nbformat": 4,
 "nbformat_minor": 5
}
