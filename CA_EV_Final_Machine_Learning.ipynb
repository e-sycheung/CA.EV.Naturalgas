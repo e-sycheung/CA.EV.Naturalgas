{
 "cells": [
  {
   "cell_type": "code",
   "execution_count": 1,
   "id": "c6062734",
   "metadata": {},
   "outputs": [
    {
     "data": {
      "text/html": [
       "<div>\n",
       "<style scoped>\n",
       "    .dataframe tbody tr th:only-of-type {\n",
       "        vertical-align: middle;\n",
       "    }\n",
       "\n",
       "    .dataframe tbody tr th {\n",
       "        vertical-align: top;\n",
       "    }\n",
       "\n",
       "    .dataframe thead th {\n",
       "        text-align: right;\n",
       "    }\n",
       "</style>\n",
       "<table border=\"1\" class=\"dataframe\">\n",
       "  <thead>\n",
       "    <tr style=\"text-align: right;\">\n",
       "      <th></th>\n",
       "      <th>Renewables</th>\n",
       "      <th>Natural gas</th>\n",
       "      <th>Large hydro</th>\n",
       "      <th>Imports</th>\n",
       "      <th>Batteries</th>\n",
       "      <th>Nuclear</th>\n",
       "      <th>Coal</th>\n",
       "      <th>Other</th>\n",
       "      <th>Date</th>\n",
       "      <th>Time</th>\n",
       "      <th>DateTime</th>\n",
       "    </tr>\n",
       "  </thead>\n",
       "  <tbody>\n",
       "    <tr>\n",
       "      <th>0</th>\n",
       "      <td>50036.0</td>\n",
       "      <td>5568.0</td>\n",
       "      <td>78.0</td>\n",
       "      <td>2353.0</td>\n",
       "      <td>-447.0</td>\n",
       "      <td>2265.0</td>\n",
       "      <td>21.0</td>\n",
       "      <td>0.0</td>\n",
       "      <td>7/5/21</td>\n",
       "      <td>11:50:00</td>\n",
       "      <td>7/5/21 11:50</td>\n",
       "    </tr>\n",
       "    <tr>\n",
       "      <th>1</th>\n",
       "      <td>8695.0</td>\n",
       "      <td>26540.0</td>\n",
       "      <td>5081.0</td>\n",
       "      <td>4575.0</td>\n",
       "      <td>119.0</td>\n",
       "      <td>2248.0</td>\n",
       "      <td>21.0</td>\n",
       "      <td>0.0</td>\n",
       "      <td>8/18/20</td>\n",
       "      <td>16:25:00</td>\n",
       "      <td>8/18/20 16:25</td>\n",
       "    </tr>\n",
       "    <tr>\n",
       "      <th>2</th>\n",
       "      <td>9301.0</td>\n",
       "      <td>26159.0</td>\n",
       "      <td>4408.0</td>\n",
       "      <td>5035.0</td>\n",
       "      <td>67.0</td>\n",
       "      <td>2250.0</td>\n",
       "      <td>23.0</td>\n",
       "      <td>0.0</td>\n",
       "      <td>8/18/20</td>\n",
       "      <td>15:55:00</td>\n",
       "      <td>8/18/20 15:55</td>\n",
       "    </tr>\n",
       "    <tr>\n",
       "      <th>3</th>\n",
       "      <td>9343.0</td>\n",
       "      <td>26132.0</td>\n",
       "      <td>4382.0</td>\n",
       "      <td>5032.0</td>\n",
       "      <td>49.0</td>\n",
       "      <td>2250.0</td>\n",
       "      <td>22.0</td>\n",
       "      <td>0.0</td>\n",
       "      <td>8/18/20</td>\n",
       "      <td>15:50:00</td>\n",
       "      <td>8/18/20 15:50</td>\n",
       "    </tr>\n",
       "    <tr>\n",
       "      <th>4</th>\n",
       "      <td>9283.0</td>\n",
       "      <td>26015.0</td>\n",
       "      <td>4300.0</td>\n",
       "      <td>5278.0</td>\n",
       "      <td>63.0</td>\n",
       "      <td>2248.0</td>\n",
       "      <td>22.0</td>\n",
       "      <td>0.0</td>\n",
       "      <td>8/18/20</td>\n",
       "      <td>15:40:00</td>\n",
       "      <td>8/18/20 15:40</td>\n",
       "    </tr>\n",
       "  </tbody>\n",
       "</table>\n",
       "</div>"
      ],
      "text/plain": [
       "   Renewables  Natural gas  Large hydro  Imports  Batteries  Nuclear  Coal  \\\n",
       "0     50036.0       5568.0         78.0   2353.0     -447.0   2265.0  21.0   \n",
       "1      8695.0      26540.0       5081.0   4575.0      119.0   2248.0  21.0   \n",
       "2      9301.0      26159.0       4408.0   5035.0       67.0   2250.0  23.0   \n",
       "3      9343.0      26132.0       4382.0   5032.0       49.0   2250.0  22.0   \n",
       "4      9283.0      26015.0       4300.0   5278.0       63.0   2248.0  22.0   \n",
       "\n",
       "   Other     Date      Time       DateTime  \n",
       "0    0.0   7/5/21  11:50:00   7/5/21 11:50  \n",
       "1    0.0  8/18/20  16:25:00  8/18/20 16:25  \n",
       "2    0.0  8/18/20  15:55:00  8/18/20 15:55  \n",
       "3    0.0  8/18/20  15:50:00  8/18/20 15:50  \n",
       "4    0.0  8/18/20  15:40:00  8/18/20 15:40  "
      ]
     },
     "execution_count": 1,
     "metadata": {},
     "output_type": "execute_result"
    }
   ],
   "source": [
    "# Initial imports\n",
    "# Import our dependencies\n",
    "from sklearn.model_selection import train_test_split\n",
    "from sklearn.preprocessing import StandardScaler\n",
    "from sklearn.linear_model import LogisticRegression\n",
    "from sklearn.metrics import accuracy_score\n",
    "import pandas as pd\n",
    "import datetime\n",
    "import numpy as np\n",
    "#import tensorflow as tf\n",
    "\n",
    "#  Import and read the file.\n",
    "supply_df = pd.read_csv(\"./CAISO-ALL-SUPPLY-DATA.csv\")\n",
    "supply_df.head()"
   ]
  },
  {
   "cell_type": "code",
   "execution_count": 2,
   "id": "2874f52c",
   "metadata": {},
   "outputs": [],
   "source": [
    "supply_df[supply_df['Batteries'] < 0] = 0\n",
    "supply_df[supply_df['Nuclear'] < 0] = 0\n",
    "supply_df[supply_df['Coal'] < 0] = 0\n",
    "supply_df[supply_df['Other'] < 0] = 0\n"
   ]
  },
  {
   "cell_type": "code",
   "execution_count": 3,
   "id": "74edfc59",
   "metadata": {},
   "outputs": [],
   "source": [
    "supply_df['Sum'] = supply_df['Renewables'] + supply_df['Large hydro'] + supply_df['Imports'] + supply_df['Batteries'] + supply_df['Nuclear'] + supply_df['Coal'] + supply_df['Other'] + supply_df['Natural gas']\n",
    "\n"
   ]
  },
  {
   "cell_type": "code",
   "execution_count": 4,
   "id": "1cb262ce",
   "metadata": {},
   "outputs": [
    {
     "name": "stdout",
     "output_type": "stream",
     "text": [
      "          0    1    2\n",
      "0       NaN  NaN  NaN\n",
      "1        16   25   00\n",
      "2        15   55   00\n",
      "3        15   50   00\n",
      "4        15   40   00\n",
      "...     ...  ...  ...\n",
      "412947    2   35   00\n",
      "412948    2   40   00\n",
      "412949    2   45   00\n",
      "412950    2   50   00\n",
      "412951    2   55   00\n",
      "\n",
      "[412952 rows x 3 columns]\n"
     ]
    }
   ],
   "source": [
    "baby_df = supply_df['Time'].str.split(\":\", expand=True)\n",
    "print(baby_df)"
   ]
  },
  {
   "cell_type": "code",
   "execution_count": 5,
   "id": "a66055e2",
   "metadata": {},
   "outputs": [
    {
     "ename": "ValueError",
     "evalue": "cannot convert float NaN to integer",
     "output_type": "error",
     "traceback": [
      "\u001b[0;31m---------------------------------------------------------------------------\u001b[0m",
      "\u001b[0;31mValueError\u001b[0m                                Traceback (most recent call last)",
      "\u001b[0;32m<ipython-input-5-7ed3d624a29c>\u001b[0m in \u001b[0;36m<module>\u001b[0;34m\u001b[0m\n\u001b[0;32m----> 1\u001b[0;31m \u001b[0mbaby_df\u001b[0m\u001b[0;34m[\u001b[0m\u001b[0;36m0\u001b[0m\u001b[0;34m]\u001b[0m \u001b[0;34m=\u001b[0m \u001b[0mbaby_df\u001b[0m\u001b[0;34m[\u001b[0m\u001b[0;36m0\u001b[0m\u001b[0;34m]\u001b[0m\u001b[0;34m.\u001b[0m\u001b[0mastype\u001b[0m\u001b[0;34m(\u001b[0m\u001b[0mint\u001b[0m\u001b[0;34m)\u001b[0m\u001b[0;34m\u001b[0m\u001b[0;34m\u001b[0m\u001b[0m\n\u001b[0m\u001b[1;32m      2\u001b[0m \u001b[0mbaby_df\u001b[0m\u001b[0;34m[\u001b[0m\u001b[0;36m1\u001b[0m\u001b[0;34m]\u001b[0m \u001b[0;34m=\u001b[0m \u001b[0mbaby_df\u001b[0m\u001b[0;34m[\u001b[0m\u001b[0;36m1\u001b[0m\u001b[0;34m]\u001b[0m\u001b[0;34m.\u001b[0m\u001b[0mastype\u001b[0m\u001b[0;34m(\u001b[0m\u001b[0mint\u001b[0m\u001b[0;34m)\u001b[0m\u001b[0;34m\u001b[0m\u001b[0;34m\u001b[0m\u001b[0m\n",
      "\u001b[0;32m~/opt/anaconda3/lib/python3.8/site-packages/pandas/core/generic.py\u001b[0m in \u001b[0;36mastype\u001b[0;34m(self, dtype, copy, errors)\u001b[0m\n\u001b[1;32m   5875\u001b[0m         \u001b[0;32melse\u001b[0m\u001b[0;34m:\u001b[0m\u001b[0;34m\u001b[0m\u001b[0;34m\u001b[0m\u001b[0m\n\u001b[1;32m   5876\u001b[0m             \u001b[0;31m# else, only a single dtype is given\u001b[0m\u001b[0;34m\u001b[0m\u001b[0;34m\u001b[0m\u001b[0;34m\u001b[0m\u001b[0m\n\u001b[0;32m-> 5877\u001b[0;31m             \u001b[0mnew_data\u001b[0m \u001b[0;34m=\u001b[0m \u001b[0mself\u001b[0m\u001b[0;34m.\u001b[0m\u001b[0m_mgr\u001b[0m\u001b[0;34m.\u001b[0m\u001b[0mastype\u001b[0m\u001b[0;34m(\u001b[0m\u001b[0mdtype\u001b[0m\u001b[0;34m=\u001b[0m\u001b[0mdtype\u001b[0m\u001b[0;34m,\u001b[0m \u001b[0mcopy\u001b[0m\u001b[0;34m=\u001b[0m\u001b[0mcopy\u001b[0m\u001b[0;34m,\u001b[0m \u001b[0merrors\u001b[0m\u001b[0;34m=\u001b[0m\u001b[0merrors\u001b[0m\u001b[0;34m)\u001b[0m\u001b[0;34m\u001b[0m\u001b[0;34m\u001b[0m\u001b[0m\n\u001b[0m\u001b[1;32m   5878\u001b[0m             \u001b[0;32mreturn\u001b[0m \u001b[0mself\u001b[0m\u001b[0;34m.\u001b[0m\u001b[0m_constructor\u001b[0m\u001b[0;34m(\u001b[0m\u001b[0mnew_data\u001b[0m\u001b[0;34m)\u001b[0m\u001b[0;34m.\u001b[0m\u001b[0m__finalize__\u001b[0m\u001b[0;34m(\u001b[0m\u001b[0mself\u001b[0m\u001b[0;34m,\u001b[0m \u001b[0mmethod\u001b[0m\u001b[0;34m=\u001b[0m\u001b[0;34m\"astype\"\u001b[0m\u001b[0;34m)\u001b[0m\u001b[0;34m\u001b[0m\u001b[0;34m\u001b[0m\u001b[0m\n\u001b[1;32m   5879\u001b[0m \u001b[0;34m\u001b[0m\u001b[0m\n",
      "\u001b[0;32m~/opt/anaconda3/lib/python3.8/site-packages/pandas/core/internals/managers.py\u001b[0m in \u001b[0;36mastype\u001b[0;34m(self, dtype, copy, errors)\u001b[0m\n\u001b[1;32m    629\u001b[0m         \u001b[0mself\u001b[0m\u001b[0;34m,\u001b[0m \u001b[0mdtype\u001b[0m\u001b[0;34m,\u001b[0m \u001b[0mcopy\u001b[0m\u001b[0;34m:\u001b[0m \u001b[0mbool\u001b[0m \u001b[0;34m=\u001b[0m \u001b[0;32mFalse\u001b[0m\u001b[0;34m,\u001b[0m \u001b[0merrors\u001b[0m\u001b[0;34m:\u001b[0m \u001b[0mstr\u001b[0m \u001b[0;34m=\u001b[0m \u001b[0;34m\"raise\"\u001b[0m\u001b[0;34m\u001b[0m\u001b[0;34m\u001b[0m\u001b[0m\n\u001b[1;32m    630\u001b[0m     ) -> \"BlockManager\":\n\u001b[0;32m--> 631\u001b[0;31m         \u001b[0;32mreturn\u001b[0m \u001b[0mself\u001b[0m\u001b[0;34m.\u001b[0m\u001b[0mapply\u001b[0m\u001b[0;34m(\u001b[0m\u001b[0;34m\"astype\"\u001b[0m\u001b[0;34m,\u001b[0m \u001b[0mdtype\u001b[0m\u001b[0;34m=\u001b[0m\u001b[0mdtype\u001b[0m\u001b[0;34m,\u001b[0m \u001b[0mcopy\u001b[0m\u001b[0;34m=\u001b[0m\u001b[0mcopy\u001b[0m\u001b[0;34m,\u001b[0m \u001b[0merrors\u001b[0m\u001b[0;34m=\u001b[0m\u001b[0merrors\u001b[0m\u001b[0;34m)\u001b[0m\u001b[0;34m\u001b[0m\u001b[0;34m\u001b[0m\u001b[0m\n\u001b[0m\u001b[1;32m    632\u001b[0m \u001b[0;34m\u001b[0m\u001b[0m\n\u001b[1;32m    633\u001b[0m     def convert(\n",
      "\u001b[0;32m~/opt/anaconda3/lib/python3.8/site-packages/pandas/core/internals/managers.py\u001b[0m in \u001b[0;36mapply\u001b[0;34m(self, f, align_keys, ignore_failures, **kwargs)\u001b[0m\n\u001b[1;32m    425\u001b[0m                     \u001b[0mapplied\u001b[0m \u001b[0;34m=\u001b[0m \u001b[0mb\u001b[0m\u001b[0;34m.\u001b[0m\u001b[0mapply\u001b[0m\u001b[0;34m(\u001b[0m\u001b[0mf\u001b[0m\u001b[0;34m,\u001b[0m \u001b[0;34m**\u001b[0m\u001b[0mkwargs\u001b[0m\u001b[0;34m)\u001b[0m\u001b[0;34m\u001b[0m\u001b[0;34m\u001b[0m\u001b[0m\n\u001b[1;32m    426\u001b[0m                 \u001b[0;32melse\u001b[0m\u001b[0;34m:\u001b[0m\u001b[0;34m\u001b[0m\u001b[0;34m\u001b[0m\u001b[0m\n\u001b[0;32m--> 427\u001b[0;31m                     \u001b[0mapplied\u001b[0m \u001b[0;34m=\u001b[0m \u001b[0mgetattr\u001b[0m\u001b[0;34m(\u001b[0m\u001b[0mb\u001b[0m\u001b[0;34m,\u001b[0m \u001b[0mf\u001b[0m\u001b[0;34m)\u001b[0m\u001b[0;34m(\u001b[0m\u001b[0;34m**\u001b[0m\u001b[0mkwargs\u001b[0m\u001b[0;34m)\u001b[0m\u001b[0;34m\u001b[0m\u001b[0;34m\u001b[0m\u001b[0m\n\u001b[0m\u001b[1;32m    428\u001b[0m             \u001b[0;32mexcept\u001b[0m \u001b[0;34m(\u001b[0m\u001b[0mTypeError\u001b[0m\u001b[0;34m,\u001b[0m \u001b[0mNotImplementedError\u001b[0m\u001b[0;34m)\u001b[0m\u001b[0;34m:\u001b[0m\u001b[0;34m\u001b[0m\u001b[0;34m\u001b[0m\u001b[0m\n\u001b[1;32m    429\u001b[0m                 \u001b[0;32mif\u001b[0m \u001b[0;32mnot\u001b[0m \u001b[0mignore_failures\u001b[0m\u001b[0;34m:\u001b[0m\u001b[0;34m\u001b[0m\u001b[0;34m\u001b[0m\u001b[0m\n",
      "\u001b[0;32m~/opt/anaconda3/lib/python3.8/site-packages/pandas/core/internals/blocks.py\u001b[0m in \u001b[0;36mastype\u001b[0;34m(self, dtype, copy, errors)\u001b[0m\n\u001b[1;32m    671\u001b[0m             \u001b[0mvals1d\u001b[0m \u001b[0;34m=\u001b[0m \u001b[0mvalues\u001b[0m\u001b[0;34m.\u001b[0m\u001b[0mravel\u001b[0m\u001b[0;34m(\u001b[0m\u001b[0;34m)\u001b[0m\u001b[0;34m\u001b[0m\u001b[0;34m\u001b[0m\u001b[0m\n\u001b[1;32m    672\u001b[0m             \u001b[0;32mtry\u001b[0m\u001b[0;34m:\u001b[0m\u001b[0;34m\u001b[0m\u001b[0;34m\u001b[0m\u001b[0m\n\u001b[0;32m--> 673\u001b[0;31m                 \u001b[0mvalues\u001b[0m \u001b[0;34m=\u001b[0m \u001b[0mastype_nansafe\u001b[0m\u001b[0;34m(\u001b[0m\u001b[0mvals1d\u001b[0m\u001b[0;34m,\u001b[0m \u001b[0mdtype\u001b[0m\u001b[0;34m,\u001b[0m \u001b[0mcopy\u001b[0m\u001b[0;34m=\u001b[0m\u001b[0;32mTrue\u001b[0m\u001b[0;34m)\u001b[0m\u001b[0;34m\u001b[0m\u001b[0;34m\u001b[0m\u001b[0m\n\u001b[0m\u001b[1;32m    674\u001b[0m             \u001b[0;32mexcept\u001b[0m \u001b[0;34m(\u001b[0m\u001b[0mValueError\u001b[0m\u001b[0;34m,\u001b[0m \u001b[0mTypeError\u001b[0m\u001b[0;34m)\u001b[0m\u001b[0;34m:\u001b[0m\u001b[0;34m\u001b[0m\u001b[0;34m\u001b[0m\u001b[0m\n\u001b[1;32m    675\u001b[0m                 \u001b[0;31m# e.g. astype_nansafe can fail on object-dtype of strings\u001b[0m\u001b[0;34m\u001b[0m\u001b[0;34m\u001b[0m\u001b[0;34m\u001b[0m\u001b[0m\n",
      "\u001b[0;32m~/opt/anaconda3/lib/python3.8/site-packages/pandas/core/dtypes/cast.py\u001b[0m in \u001b[0;36mastype_nansafe\u001b[0;34m(arr, dtype, copy, skipna)\u001b[0m\n\u001b[1;32m   1072\u001b[0m         \u001b[0;31m# work around NumPy brokenness, #1987\u001b[0m\u001b[0;34m\u001b[0m\u001b[0;34m\u001b[0m\u001b[0;34m\u001b[0m\u001b[0m\n\u001b[1;32m   1073\u001b[0m         \u001b[0;32mif\u001b[0m \u001b[0mnp\u001b[0m\u001b[0;34m.\u001b[0m\u001b[0missubdtype\u001b[0m\u001b[0;34m(\u001b[0m\u001b[0mdtype\u001b[0m\u001b[0;34m.\u001b[0m\u001b[0mtype\u001b[0m\u001b[0;34m,\u001b[0m \u001b[0mnp\u001b[0m\u001b[0;34m.\u001b[0m\u001b[0minteger\u001b[0m\u001b[0;34m)\u001b[0m\u001b[0;34m:\u001b[0m\u001b[0;34m\u001b[0m\u001b[0;34m\u001b[0m\u001b[0m\n\u001b[0;32m-> 1074\u001b[0;31m             \u001b[0;32mreturn\u001b[0m \u001b[0mlib\u001b[0m\u001b[0;34m.\u001b[0m\u001b[0mastype_intsafe\u001b[0m\u001b[0;34m(\u001b[0m\u001b[0marr\u001b[0m\u001b[0;34m.\u001b[0m\u001b[0mravel\u001b[0m\u001b[0;34m(\u001b[0m\u001b[0;34m)\u001b[0m\u001b[0;34m,\u001b[0m \u001b[0mdtype\u001b[0m\u001b[0;34m)\u001b[0m\u001b[0;34m.\u001b[0m\u001b[0mreshape\u001b[0m\u001b[0;34m(\u001b[0m\u001b[0marr\u001b[0m\u001b[0;34m.\u001b[0m\u001b[0mshape\u001b[0m\u001b[0;34m)\u001b[0m\u001b[0;34m\u001b[0m\u001b[0;34m\u001b[0m\u001b[0m\n\u001b[0m\u001b[1;32m   1075\u001b[0m \u001b[0;34m\u001b[0m\u001b[0m\n\u001b[1;32m   1076\u001b[0m         \u001b[0;31m# if we have a datetime/timedelta array of objects\u001b[0m\u001b[0;34m\u001b[0m\u001b[0;34m\u001b[0m\u001b[0;34m\u001b[0m\u001b[0m\n",
      "\u001b[0;32mpandas/_libs/lib.pyx\u001b[0m in \u001b[0;36mpandas._libs.lib.astype_intsafe\u001b[0;34m()\u001b[0m\n",
      "\u001b[0;31mValueError\u001b[0m: cannot convert float NaN to integer"
     ]
    }
   ],
   "source": [
    "baby_df[0] = baby_df[0].astype(int)\n",
    "baby_df[1] = baby_df[1].astype(int)"
   ]
  },
  {
   "cell_type": "code",
   "execution_count": null,
   "id": "70cad743",
   "metadata": {},
   "outputs": [],
   "source": [
    "baby_df= baby_df.drop([2],1)"
   ]
  },
  {
   "cell_type": "code",
   "execution_count": null,
   "id": "7d42a07a",
   "metadata": {},
   "outputs": [],
   "source": [
    "# Rename columns and create years value for calculating demand_EV\n",
    "baby_df = baby_df.rename(columns={baby_df.columns[0]: 'Hours'})\n",
    "baby_df = baby_df.rename(columns={baby_df.columns[1]: 'Minutes'})"
   ]
  },
  {
   "cell_type": "code",
   "execution_count": null,
   "id": "fb8d9236",
   "metadata": {},
   "outputs": [],
   "source": [
    "supply_df['Date'] = pd.to_datetime(supply_df['Date'])\n",
    "\n",
    "#Create a new column for'Year'\n",
    "baby_df['Year'] = supply_df['Date'].dt.year\n",
    "\n",
    "#Convert to integers to be used in computations\n",
    "baby_df['Year'] = baby_df['Year'].astype(int)\n",
    "\n",
    "\n",
    "\n",
    "baby_df.head(100)"
   ]
  },
  {
   "cell_type": "code",
   "execution_count": null,
   "id": "d07c22a0",
   "metadata": {},
   "outputs": [],
   "source": [
    "baby_df['DemandMW'] = 0.0\n",
    "\n",
    "mask = (baby_df['Year'] == 2018) & (baby_df['Hours']<=6) | (baby_df['Hours']>=22)\n",
    "mask1 = (baby_df['Year'] == 2019) & (baby_df['Hours']<=6) | (baby_df['Hours']>=22)\n",
    "mask2 = (baby_df['Year'] == 2020) & (baby_df['Hours']<=6) | (baby_df['Hours']>=22)\n",
    "\n",
    "\n",
    "baby_df.loc[mask,'DemandMW'] = 6.2356\n",
    "baby_df.loc[mask1,'DemandMW'] = 8.2818\n",
    "baby_df.loc[mask2,'DemandMW'] = 9.9174"
   ]
  },
  {
   "cell_type": "code",
   "execution_count": null,
   "id": "abe03747",
   "metadata": {},
   "outputs": [],
   "source": [
    "#Create a date attribute for groupby function \n",
    "supply_df['Month-D.A'] = supply_df['Date'].dt.month\n",
    "\n",
    "supply_df['Day-DA'] = supply_df['Date'].dt.day\n",
    "supply_df['Month-D.A'] = supply_df['Month-D.A'].astype(str)\n",
    "supply_df['Day-DA'] = supply_df['Day-DA'].astype(str)\n",
    "\n",
    "supply_df['DateAttribute'] = supply_df['Month-D.A'] + supply_df['Day-DA']\n",
    "\n",
    "\n",
    "supply_df"
   ]
  },
  {
   "cell_type": "code",
   "execution_count": null,
   "id": "48a0ee28",
   "metadata": {},
   "outputs": [],
   "source": [
    "supply_df['Date'] = pd.to_datetime(supply_df['Date'])"
   ]
  },
  {
   "cell_type": "code",
   "execution_count": null,
   "id": "41aeacfd",
   "metadata": {},
   "outputs": [],
   "source": [
    "def fun(datetimething):\n",
    "     return datetimething.timetuple().tm_yday"
   ]
  },
  {
   "cell_type": "code",
   "execution_count": null,
   "id": "50932448",
   "metadata": {},
   "outputs": [],
   "source": [
    "supply_df['Date'] = supply_df['Date'].apply(fun)\n",
    "supply_df.head(1300)"
   ]
  },
  {
   "cell_type": "code",
   "execution_count": null,
   "id": "f9ed1724",
   "metadata": {},
   "outputs": [],
   "source": [
    "final_df = pd.merge(baby_df, supply_df, left_index=True, right_index=True, how='outer')"
   ]
  },
  {
   "cell_type": "code",
   "execution_count": null,
   "id": "ce4ebd60",
   "metadata": {},
   "outputs": [],
   "source": [
    "final_df.head()"
   ]
  },
  {
   "cell_type": "code",
   "execution_count": null,
   "id": "5fa2f15f",
   "metadata": {},
   "outputs": [],
   "source": [
    "final_df= final_df.drop(['Renewables', 'Batteries', 'Large hydro', 'Imports', 'Other', 'Nuclear', 'Coal', 'DateTime'],1)\n",
    "final_df.head(1000)"
   ]
  },
  {
   "cell_type": "code",
   "execution_count": null,
   "id": "6b2bc10c",
   "metadata": {},
   "outputs": [],
   "source": [
    "supply_df.dtypes"
   ]
  },
  {
   "cell_type": "code",
   "execution_count": null,
   "id": "3dfbe40f",
   "metadata": {},
   "outputs": [],
   "source": [
    "final_df= final_df.drop(['Time'],1)"
   ]
  },
  {
   "cell_type": "code",
   "execution_count": null,
   "id": "bb017750",
   "metadata": {},
   "outputs": [],
   "source": [
    "%matplotlib inline\n",
    "import matplotlib.pyplot as plt\n",
    "import numpy as np\n",
    "import pandas as pd"
   ]
  },
  {
   "cell_type": "code",
   "execution_count": null,
   "id": "53cdaed2",
   "metadata": {},
   "outputs": [],
   "source": [
    "axes = final_df.plot.line(subplots=True)"
   ]
  },
  {
   "cell_type": "code",
   "execution_count": null,
   "id": "9193eb57",
   "metadata": {},
   "outputs": [],
   "source": [
    "import seaborn as sns\n",
    "sns.pairplot(data=final_df, diag_kind='kde')"
   ]
  },
  {
   "cell_type": "code",
   "execution_count": null,
   "id": "bcd03609",
   "metadata": {},
   "outputs": [],
   "source": [
    "sns.heatmap(final_df[['Natural gas','Sum', 'Date']].corr(), cmap='Blues', annot=True)\n",
    "plt.show()"
   ]
  },
  {
   "cell_type": "code",
   "execution_count": null,
   "id": "ab683da1",
   "metadata": {},
   "outputs": [],
   "source": [
    "from sklearn.impute import SimpleImputer\n",
    "\n",
    "imputer = SimpleImputer(strategy='median', missing_values=np.nan)\n",
    "imputer = imputer.fit(final_df[['Natural gas','Sum']])\n",
    "final_df[['Natural gas','Sum']] = imputer.transform(final_df[['Natural gas','Sum']])\n",
    "final_df"
   ]
  },
  {
   "cell_type": "code",
   "execution_count": null,
   "id": "d74791b3",
   "metadata": {},
   "outputs": [],
   "source": [
    "final_df= final_df.drop(['Year', 'DemandMW', 'Month-D.A', 'Day-DA', 'DateAttribute'],1)"
   ]
  },
  {
   "cell_type": "code",
   "execution_count": null,
   "id": "b0d0212a",
   "metadata": {},
   "outputs": [],
   "source": [
    "# Create our features\n",
    "X = final_df.drop(\"Natural gas\", axis = 1)\n",
    "\n",
    "# Create our target\n",
    "y = final_df.loc[:, 'Natural gas'].copy()"
   ]
  },
  {
   "cell_type": "code",
   "execution_count": null,
   "id": "cc9982cd",
   "metadata": {},
   "outputs": [],
   "source": [
    "final_df.isnull().values.any()"
   ]
  },
  {
   "cell_type": "code",
   "execution_count": null,
   "id": "1f677235",
   "metadata": {},
   "outputs": [],
   "source": [
    "from sklearn.model_selection import train_test_split\n",
    "\n",
    "X_train, X_test, y_train, y_test = train_test_split(X, y, test_size=0.2, random_state=42)\n"
   ]
  },
  {
   "cell_type": "code",
   "execution_count": null,
   "id": "8c2fba11",
   "metadata": {},
   "outputs": [],
   "source": [
    "from sklearn.linear_model import LinearRegression\n",
    "model = LinearRegression()"
   ]
  },
  {
   "cell_type": "code",
   "execution_count": null,
   "id": "e7cbca89",
   "metadata": {},
   "outputs": [],
   "source": [
    "model.fit(X_train, y_train)\n",
    "training_score = model.score(X_train, y_train)\n",
    "testing_score = model.score(X_test, y_test)\n",
    "print(model.predict(X_train))\n"
   ]
  },
  {
   "cell_type": "code",
   "execution_count": null,
   "id": "f60a1fed",
   "metadata": {},
   "outputs": [],
   "source": [
    "print(training_score)"
   ]
  },
  {
   "cell_type": "code",
   "execution_count": null,
   "id": "fa76dd33",
   "metadata": {},
   "outputs": [],
   "source": [
    "print(testing_score)"
   ]
  },
  {
   "cell_type": "code",
   "execution_count": null,
   "id": "9bcca431",
   "metadata": {},
   "outputs": [],
   "source": [
    "plt.scatter(model.predict(X_train), model.predict(X_train) - y_train, c=\"red\", label=\"Training Data\")\n",
    "plt.scatter(model.predict(X_test), model.predict(X_test) - y_test, c=\"orange\", label=\"Testing Data\")\n",
    "plt.legend()\n",
    "plt.hlines(y=0, xmin=6000, xmax=1500)\n",
    "plt.title(\"Residual Plot\")\n",
    "plt.show()"
   ]
  },
  {
   "cell_type": "code",
   "execution_count": null,
   "id": "4bf0ecb3",
   "metadata": {},
   "outputs": [],
   "source": [
    "from sklearn.linear_model import LinearRegression\n",
    "model = LinearRegression()\n",
    "\n",
    "# Fitting our model with all our features in X\n",
    "model.fit(X, y)\n",
    "score = model.score(X, y)\n",
    "print(f\"R2 Score: {score}\")"
   ]
  },
  {
   "cell_type": "markdown",
   "id": "f800c57f",
   "metadata": {},
   "source": [
    "Predicting Future Natural Gas Demand"
   ]
  },
  {
   "cell_type": "code",
   "execution_count": null,
   "id": "ac92dddb",
   "metadata": {},
   "outputs": [],
   "source": [
    "df2030 = pd.read_csv(\"./CAISO-ALL-SUPPLY-DATA.csv\")\n",
    "df2030.head()"
   ]
  },
  {
   "cell_type": "code",
   "execution_count": null,
   "id": "7768461f",
   "metadata": {},
   "outputs": [],
   "source": [
    "df2030[df2030['Renewables'] < 0] = 0\n",
    "df2030[df2030['Natural gas'] < 0] = 0\n",
    "df2030[df2030['Large hydro'] < 0] = 0\n",
    "df2030[df2030['Imports'] < 0] = 0\n",
    "df2030[df2030['Batteries'] < 0] = 0\n",
    "df2030[df2030['Nuclear'] < 0] = 0\n",
    "df2030[df2030['Coal'] < 0] = 0\n",
    "df2030[df2030['Other'] < 0] = 0\n"
   ]
  },
  {
   "cell_type": "code",
   "execution_count": null,
   "id": "4a72474a",
   "metadata": {},
   "outputs": [],
   "source": [
    "df2030['Sum'] = df2030['Renewables'] + df2030['Large hydro'] + df2030['Imports'] + df2030['Batteries'] + df2030['Nuclear'] + df2030['Coal'] + df2030['Other'] + df2030['Natural gas']"
   ]
  },
  {
   "cell_type": "code",
   "execution_count": null,
   "id": "90ee4a65",
   "metadata": {},
   "outputs": [],
   "source": [
    "other_df = df2030['Time'].str.split(\":\", expand=True)\n",
    "print(other_df)"
   ]
  },
  {
   "cell_type": "code",
   "execution_count": null,
   "id": "fa6e1b47",
   "metadata": {},
   "outputs": [],
   "source": [
    "#Format the baby_df into int.\n",
    "other_df[0] = other_df[0].astype(int)\n",
    "other_df[1] = other_df[1].astype(int)\n",
    "#Clean baby_df\n",
    "other_df= other_df.drop([2],1)\n",
    "\n",
    "# Rename columns and create years value for calculating demand_EV\n",
    "other_df = other_df.rename(columns={other_df.columns[0]: 'Hours'})\n",
    "other_df = other_df.rename(columns={other_df.columns[1]: 'Minutes'})\n",
    "other_df"
   ]
  },
  {
   "cell_type": "code",
   "execution_count": null,
   "id": "ada0a6bf",
   "metadata": {},
   "outputs": [],
   "source": [
    "df2030['Date'] = pd.to_datetime(df2030['Date'])\n",
    "\n",
    "#Create a new column for'Year'\n",
    "other_df['Year'] = df2030['Date'].dt.year\n",
    "#Convert to integers to be used in computations\n",
    "other_df['Year'] = other_df['Year'].astype(int)\n",
    "\n",
    "other_df.head(100)"
   ]
  },
  {
   "cell_type": "code",
   "execution_count": null,
   "id": "428f41f3",
   "metadata": {},
   "outputs": [],
   "source": [
    "#Make a date string column \n",
    "date_df = pd.DataFrame()\n",
    "df2030['Date1']=df2030['Date'].astype(str)\n",
    "\n",
    "date_df = df2030['Date1'].str.split(\"-\", expand=True)\n",
    "date_df['DateAttribute'] = date_df[1] + date_df[2]\n",
    "date_df = date_df.drop([0,1,2],1)"
   ]
  },
  {
   "cell_type": "code",
   "execution_count": null,
   "id": "0ea2af8c",
   "metadata": {},
   "outputs": [],
   "source": [
    "calc_df = pd.merge(other_df, date_df, left_index=True, right_index=True, how='outer')\n",
    "calc_df.head(-5)"
   ]
  },
  {
   "cell_type": "code",
   "execution_count": null,
   "id": "c3d7144c",
   "metadata": {},
   "outputs": [],
   "source": [
    "def fun(datetimething):\n",
    "     return datetimething.timetuple().tm_yday"
   ]
  },
  {
   "cell_type": "code",
   "execution_count": null,
   "id": "a833326c",
   "metadata": {},
   "outputs": [],
   "source": [
    "df2030['Date'] = df2030['Date'].apply(fun)\n",
    "df2030.head(1300)"
   ]
  },
  {
   "cell_type": "code",
   "execution_count": null,
   "id": "3872da27",
   "metadata": {},
   "outputs": [],
   "source": [
    "df2030 = df2030.drop(['Date1'],1)\n",
    "df2030final = pd.merge(df2030, calc_df, left_index=True, right_index=True, how='outer')\n",
    "df2030final\n",
    "df2030final['DateTime'] = pd.to_datetime(df2030final['DateTime'])"
   ]
  },
  {
   "cell_type": "code",
   "execution_count": null,
   "id": "8a13cabe",
   "metadata": {},
   "outputs": [],
   "source": [
    "df1= pd.DataFrame()\n",
    "df1 = df2030final.groupby(['DateAttribute','Time'])['Sum'].agg('mean')\n",
    "df1 = df1.reset_index()\n",
    "df1 = df1.rename(columns={df1.columns[2]: 'AvgSUM(3yr)'}).round(2)\n",
    "df2 = df1.copy\n",
    "\n",
    "print(len(df1))\n",
    "df1.dtypes"
   ]
  },
  {
   "cell_type": "code",
   "execution_count": null,
   "id": "3578ffe0",
   "metadata": {},
   "outputs": [],
   "source": [
    "df1['Date1']= \"2020\" + df1['DateAttribute']\n",
    "df1['pDateTime'] = df1['Date1'] +\" \" +df1['Time']\n",
    "df1['Date2']= pd.to_datetime(df1['pDateTime'])\n",
    "df1=df1.set_index('Date2')       \n",
    "                                            \n",
    "df1=df1.sort_index(ascending=True)\n",
    "df1=df1.reset_index()\n",
    "ev_df2=df1.drop(['DateAttribute','Date1','pDateTime','Time'],1)"
   ]
  },
  {
   "cell_type": "code",
   "execution_count": null,
   "id": "278f2afd",
   "metadata": {},
   "outputs": [],
   "source": [
    "df1 = df1.drop(df1.index[16992:17280])\n",
    "df1 = df1.reset_index(drop=True)\n",
    "print(len(df1))\n",
    "df1"
   ]
  },
  {
   "cell_type": "code",
   "execution_count": null,
   "id": "b8bd7f81",
   "metadata": {},
   "outputs": [],
   "source": [
    "df1= df1.drop(['DateAttribute', 'Date1', 'pDateTime'],1)\n",
    "df1.head(1000)"
   ]
  },
  {
   "cell_type": "code",
   "execution_count": null,
   "id": "c663ca02",
   "metadata": {},
   "outputs": [],
   "source": [
    "time_df = df1['Time'].str.split(\":\", expand=True)\n",
    "time_df.head()"
   ]
  },
  {
   "cell_type": "code",
   "execution_count": null,
   "id": "fa5177ba",
   "metadata": {},
   "outputs": [],
   "source": [
    "#Format the baby_df into int.\n",
    "time_df[0] = time_df[0].astype(int)\n",
    "time_df[1] = time_df[1].astype(int)\n",
    "\n",
    "\n",
    "# Rename columns and create years value for calculating demand_EV\n",
    "time_df = time_df.rename(columns={time_df.columns[0]: 'Hours'})\n",
    "time_df = time_df.rename(columns={time_df.columns[1]: 'Minutes'})\n"
   ]
  },
  {
   "cell_type": "code",
   "execution_count": null,
   "id": "52c10210",
   "metadata": {},
   "outputs": [],
   "source": [
    "final_demand_df = pd.merge(time_df, df1, left_index=True, right_index=True, how='outer')\n",
    "final_demand_df.head()"
   ]
  },
  {
   "cell_type": "code",
   "execution_count": null,
   "id": "b259846d",
   "metadata": {},
   "outputs": [],
   "source": [
    "def fun(datetimething):\n",
    "     return datetimething.timetuple().tm_yday"
   ]
  },
  {
   "cell_type": "code",
   "execution_count": null,
   "id": "ca955fd4",
   "metadata": {},
   "outputs": [],
   "source": [
    "final_demand_df['Date2'] = final_demand_df['Date2'].apply(fun)"
   ]
  },
  {
   "cell_type": "code",
   "execution_count": null,
   "id": "78615030",
   "metadata": {},
   "outputs": [],
   "source": [
    "final_demand_df= final_demand_df.drop(['Time', 2],1)\n",
    "df1.head(1000)"
   ]
  },
  {
   "cell_type": "code",
   "execution_count": null,
   "id": "1953642a",
   "metadata": {},
   "outputs": [],
   "source": [
    "final_demand_df.head(1000)"
   ]
  },
  {
   "cell_type": "code",
   "execution_count": null,
   "id": "2d30488d",
   "metadata": {},
   "outputs": [],
   "source": [
    "final_demand_df = final_demand_df.rename(columns={'Date2': 'Day', 'AvgSUM(3yr)': 'AvgSum'})"
   ]
  },
  {
   "cell_type": "code",
   "execution_count": null,
   "id": "1be5d584",
   "metadata": {},
   "outputs": [],
   "source": [
    "final_demand_df.head()"
   ]
  },
  {
   "cell_type": "code",
   "execution_count": null,
   "id": "277a4694",
   "metadata": {},
   "outputs": [],
   "source": [
    "len(final_demand_df)"
   ]
  },
  {
   "cell_type": "code",
   "execution_count": null,
   "id": "67b26292",
   "metadata": {},
   "outputs": [],
   "source": [
    "mask = (final_demand_df['Hours'] < 7) | (final_demand_df['Hours'] > 21)\n",
    "final_demand_df.loc[mask, 'AvgSum'] += 106.68"
   ]
  },
  {
   "cell_type": "code",
   "execution_count": null,
   "id": "16c5b0cb",
   "metadata": {},
   "outputs": [],
   "source": [
    "final_demand_df.head(5000)"
   ]
  },
  {
   "cell_type": "code",
   "execution_count": null,
   "id": "f5b07121",
   "metadata": {},
   "outputs": [],
   "source": [
    "print(len(final_demand_df.loc[final_demand_df['AvgSum'] < 0]))\n",
    "print(final_demand_df['AvgSum'].mean())\n",
    "print(final_df['Sum'].mean())\n"
   ]
  },
  {
   "cell_type": "code",
   "execution_count": null,
   "id": "4e74f9fd",
   "metadata": {},
   "outputs": [],
   "source": [
    "final_demand_df.head()"
   ]
  },
  {
   "cell_type": "code",
   "execution_count": null,
   "id": "eb78b4f0",
   "metadata": {},
   "outputs": [],
   "source": [
    "final_demand_df['Predicted 2030 NatGas'] = model.predict(final_demand_df)"
   ]
  },
  {
   "cell_type": "code",
   "execution_count": null,
   "id": "28de51b8",
   "metadata": {},
   "outputs": [],
   "source": [
    "len(final_demand_df)"
   ]
  },
  {
   "cell_type": "code",
   "execution_count": null,
   "id": "58103d52",
   "metadata": {},
   "outputs": [],
   "source": [
    "df2030.head()"
   ]
  },
  {
   "cell_type": "code",
   "execution_count": null,
   "id": "4eae0e5d",
   "metadata": {},
   "outputs": [],
   "source": [
    "l = final_df[\"Natural gas\"].median()\n",
    "p = final_demand_df[\"Predicted 2030 NatGas\"].median()\n",
    "print((((p/l)-1))*100)"
   ]
  },
  {
   "cell_type": "code",
   "execution_count": null,
   "id": "3458095d",
   "metadata": {},
   "outputs": [],
   "source": [
    "print(p-l)"
   ]
  },
  {
   "cell_type": "code",
   "execution_count": null,
   "id": "57070559",
   "metadata": {},
   "outputs": [],
   "source": [
    "(-1033.4518453045357/l)*100"
   ]
  },
  {
   "cell_type": "code",
   "execution_count": null,
   "id": "969bf4c8",
   "metadata": {},
   "outputs": [],
   "source": [
    "import matplotlib as mpl\n",
    "mpl.rcParams['agg.path.chunksize'] = 10000\n",
    "# gca stands for 'get current axis'\n",
    "ax = plt.gca()\n",
    "\n",
    "final_df.plot(kind='line',x='Date',y='Natural gas',ax=ax)\n",
    "final_demand_df.plot(kind='line',x='Day',y='Predicted 2030 NatGas', color='red', ax=ax)\n",
    "    \n",
    "    # adjust the y axis scale.\n",
    "#ax.locator_params('y', nbins=5)\n",
    "    # adjust the x axis scale.\n",
    "#plt.locator_params('x', nbins=20)\n",
    "    # show the final figure.\n",
    "plt.show()  \n"
   ]
  },
  {
   "cell_type": "code",
   "execution_count": null,
   "id": "581b431b",
   "metadata": {},
   "outputs": [],
   "source": []
  }
 ],
 "metadata": {
  "kernelspec": {
   "display_name": "Python 3",
   "language": "python",
   "name": "python3"
  },
  "language_info": {
   "codemirror_mode": {
    "name": "ipython",
    "version": 3
   },
   "file_extension": ".py",
   "mimetype": "text/x-python",
   "name": "python",
   "nbconvert_exporter": "python",
   "pygments_lexer": "ipython3",
   "version": "3.8.8"
  }
 },
 "nbformat": 4,
 "nbformat_minor": 5
}
